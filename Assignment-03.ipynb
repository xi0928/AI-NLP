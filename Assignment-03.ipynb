{
 "cells": [
  {
   "cell_type": "markdown",
   "metadata": {},
   "source": [
    "## Lecture-03 Gradient Descent and Dymanic Programming"
   ]
  },
  {
   "cell_type": "markdown",
   "metadata": {},
   "source": [
    "In this week, we need complete following tasks:\n",
    "+ Re-review the course online programming; \n",
    "+ Choose 1 - 2 books which you interested and keep reading; \n",
    "+ Answer the review questions\n",
    "+ Prepare the basic requirement of our 1st project. "
   ]
  },
  {
   "cell_type": "markdown",
   "metadata": {},
   "source": [
    "### Part I Review the online programming. "
   ]
  },
  {
   "cell_type": "code",
   "execution_count": 25,
   "metadata": {},
   "outputs": [],
   "source": [
    "from sklearn.datasets import load_boston"
   ]
  },
  {
   "cell_type": "code",
   "execution_count": 26,
   "metadata": {},
   "outputs": [],
   "source": [
    "data = load_boston()"
   ]
  },
  {
   "cell_type": "code",
   "execution_count": 27,
   "metadata": {},
   "outputs": [],
   "source": [
    "def price(rm, k, b):\n",
    "    return k * rm + b"
   ]
  },
  {
   "cell_type": "code",
   "execution_count": 28,
   "metadata": {},
   "outputs": [],
   "source": [
    "def loss(y,y_hat):\n",
    "    return sum((y_i-y_hat_i)**2 for y_i, y_hat_i in zip(list(y),list(y_hat)))/len(list(y)) "
   ]
  },
  {
   "cell_type": "code",
   "execution_count": 29,
   "metadata": {},
   "outputs": [],
   "source": [
    "def partial_k(x, y, y_hat):\n",
    "    n = len(y)\n",
    "    gradient = 0\n",
    "    for x_i,y_i,y_hat_i in zip(list(x),list(y),list(y_hat)):\n",
    "        gradient +=(y_i - y_hat_i)*x_i\n",
    "    \n",
    "    return -2 / n*gradient\n",
    "\n",
    "def partial_b(x, y, y_hat):\n",
    "    n = len(y)\n",
    "    gradient = 0\n",
    "    for y_i,y_hat_i in zip(list(y),list(y_hat)):\n",
    "        gradient +=(y_i - y_hat_i)\n",
    "        \n",
    "    return -2 / n * gradient"
   ]
  },
  {
   "cell_type": "code",
   "execution_count": 30,
   "metadata": {},
   "outputs": [],
   "source": [
    "import random"
   ]
  },
  {
   "cell_type": "code",
   "execution_count": 31,
   "metadata": {},
   "outputs": [
    {
     "name": "stdout",
     "output_type": "stream",
     "text": [
      "When time is:0,get current_k:37.64859147320328, get current_b:54.15444857609873,the loss is72392.04259441937\n",
      "When time is:50,get current_k:-3.2439599959483467, get current_b:47.624587844089426,the loss is140.83383091005098\n",
      "When time is:100,get current_k:-3.797306525168439, get current_b:47.43637641652483,the loss is126.66181908620634\n",
      "When time is:150,get current_k:-3.789707146268669, get current_b:47.336470163936575,the loss is126.45962189933884\n",
      "When time is:200,get current_k:-3.7743255301781033, get current_b:47.23790880672552,the loss is126.26060528883669\n",
      "When time is:250,get current_k:-3.758854049263705, get current_b:47.13948291897091,the loss is126.06206721000834\n",
      "When time is:300,get current_k:-3.743399652994383, get current_b:47.04117554186273,the loss is125.86400599243719\n",
      "When time is:350,get current_k:-3.7279638065973772, get current_b:46.942986299423694,the loss is125.66642049066753\n",
      "When time is:400,get current_k:-3.7125465084433853, get current_b:46.84491504644892,the loss is125.46930956209556\n",
      "When time is:450,get current_k:-3.6971477365311687, get current_b:46.7469616411108,the loss is125.27267206686152\n",
      "When time is:500,get current_k:-3.681767468602598, get current_b:46.64912594179665,the loss is125.07650686784362\n",
      "When time is:550,get current_k:-3.666405682422366, get current_b:46.55140780706473,the loss is124.88081283065135\n",
      "When time is:600,get current_k:-3.6510623557818196, get current_b:46.45380709564315,the loss is124.68558882361893\n",
      "When time is:650,get current_k:-3.635737466498988, get current_b:46.35632366642979,the loss is124.49083371779864\n",
      "When time is:700,get current_k:-3.620430992418571, get current_b:46.25895737849214,the loss is124.29654638695385\n",
      "When time is:750,get current_k:-3.605142911411873, get current_b:46.16170809106699,the loss is124.1027257075539\n",
      "When time is:800,get current_k:-3.5898732013768027, get current_b:46.06457566356032,the loss is123.90937055876576\n",
      "When time is:850,get current_k:-3.574621840237823, get current_b:45.96755995554703,the loss is123.71647982244953\n",
      "When time is:900,get current_k:-3.5593888059459227, get current_b:45.87066082677075,the loss is123.52405238314978\n",
      "When time is:950,get current_k:-3.5441740764785847, get current_b:45.77387813714366,the loss is123.33208712809098\n",
      "When time is:1000,get current_k:-3.5289776298397584, get current_b:45.67721174674629,the loss is123.14058294717023\n",
      "When time is:1050,get current_k:-3.5137994440598304, get current_b:45.58066151582732,the loss is122.94953873295087\n",
      "When time is:1100,get current_k:-3.498639497195573, get current_b:45.484227304803305,the loss is122.75895338065578\n",
      "When time is:1150,get current_k:-3.4834977673301393, get current_b:45.38790897425859,the loss is122.56882578816244\n",
      "When time is:1200,get current_k:-3.468374232573013, get current_b:45.291706384945016,the loss is122.37915485599406\n",
      "When time is:1250,get current_k:-3.45326887105998, get current_b:45.19561939778173,the loss is122.18993948731578\n",
      "When time is:1300,get current_k:-3.4381816609531097, get current_b:45.099647873855105,the loss is122.00117858792662\n",
      "When time is:1350,get current_k:-3.4231125804407077, get current_b:45.00379167441835,the loss is121.81287106625399\n",
      "When time is:1400,get current_k:-3.4080616077372854, get current_b:44.9080506608914,the loss is121.62501583334692\n",
      "When time is:1450,get current_k:-3.3930287210835304, get current_b:44.81242469486073,the loss is121.43761180287001\n",
      "When time is:1500,get current_k:-3.3780138987462927, get current_b:44.71691363807919,the loss is121.25065789109674\n",
      "When time is:1550,get current_k:-3.3630171190185214, get current_b:44.62151735246565,the loss is121.06415301690438\n",
      "When time is:1600,get current_k:-3.3480383602192605, get current_b:44.52623570010504,the loss is120.8780961017663\n",
      "When time is:1650,get current_k:-3.333077600693601, get current_b:44.43106854324787,the loss is120.69248606974617\n",
      "When time is:1700,get current_k:-3.318134818812657, get current_b:44.33601574431028,the loss is120.5073218474928\n",
      "When time is:1750,get current_k:-3.3032099929735366, get current_b:44.24107716587372,the loss is120.32260236423174\n",
      "When time is:1800,get current_k:-3.2883031015993036, get current_b:44.146252670684746,the loss is120.13832655176166\n",
      "When time is:1850,get current_k:-3.2734141231389526, get current_b:44.051542121654876,the loss is119.95449334444605\n",
      "When time is:1900,get current_k:-3.2585430360673717, get current_b:43.95694538186032,the loss is119.77110167920847\n",
      "When time is:1950,get current_k:-3.243689818885317, get current_b:43.86246231454187,the loss is119.58815049552528\n",
      "When time is:2000,get current_k:-3.228854450119372, get current_b:43.76809278310458,the loss is119.40563873542054\n",
      "When time is:2050,get current_k:-3.21403690832194, get current_b:43.67383665111775,the loss is119.22356534345927\n",
      "When time is:2100,get current_k:-3.1992371720711814, get current_b:43.579693782314536,the loss is119.04192926674139\n",
      "When time is:2150,get current_k:-3.184455219971008, get current_b:43.4856640405919,the loss is118.86072945489595\n",
      "When time is:2200,get current_k:-3.16969103065103, get current_b:43.39174729001026,the loss is118.67996486007469\n",
      "When time is:2250,get current_k:-3.154944582766553, get current_b:43.29794339479352,the loss is118.49963443694585\n",
      "When time is:2300,get current_k:-3.1402158549985213, get current_b:43.204252219328616,the loss is118.31973714268956\n",
      "When time is:2350,get current_k:-3.125504826053501, get current_b:43.11067362816553,the loss is118.14027193698915\n",
      "When time is:2400,get current_k:-3.110811474663639, get current_b:43.017207486016915,the loss is117.9612377820274\n",
      "When time is:2450,get current_k:-3.096135779586655, get current_b:42.92385365775816,the loss is117.78263364248009\n",
      "When time is:2500,get current_k:-3.081477719605778, get current_b:42.83061200842682,the loss is117.60445848550894\n",
      "When time is:2550,get current_k:-3.066837273529738, get current_b:42.73748240322279,the loss is117.426711280757\n",
      "When time is:2600,get current_k:-3.0522144201927333, get current_b:42.64446470750786,the loss is117.2493910003421\n",
      "When time is:2650,get current_k:-3.0376091384543904, get current_b:42.55155878680564,the loss is117.0724966188504\n",
      "When time is:2700,get current_k:-3.0230214071997366, get current_b:42.45876450680129,the loss is116.89602711333117\n",
      "When time is:2750,get current_k:-3.008451205339181, get current_b:42.36608173334144,the loss is116.71998146329113\n",
      "When time is:2800,get current_k:-2.9938985118084696, get current_b:42.27351033243389,the loss is116.54435865068757\n",
      "When time is:2850,get current_k:-2.979363305568665, get current_b:42.18105017024745,the loss is116.36915765992299\n",
      "When time is:2900,get current_k:-2.964845565606106, get current_b:42.088701113111775,the loss is116.1943774778396\n",
      "When time is:2950,get current_k:-2.950345270932385, get current_b:41.9964630275171,the loss is116.0200170937127\n",
      "When time is:3000,get current_k:-2.935862400584309, get current_b:41.904335780114096,the loss is115.84607549924536\n",
      "When time is:3050,get current_k:-2.921396933623891, get current_b:41.81231923771376,the loss is115.67255168856222\n",
      "When time is:3100,get current_k:-2.9069488491382907, get current_b:41.72041326728703,the loss is115.49944465820458\n",
      "When time is:3150,get current_k:-2.8925181262397963, get current_b:41.628617735964724,the loss is115.32675340712294\n",
      "When time is:3200,get current_k:-2.878104744065805, get current_b:41.536932511037335,the loss is115.1544769366729\n",
      "When time is:3250,get current_k:-2.863708681778779, get current_b:41.44535745995487,the loss is114.98261425060842\n",
      "When time is:3300,get current_k:-2.8493299185662195, get current_b:41.353892450326526,the loss is114.81116435507626\n",
      "When time is:3350,get current_k:-2.83496843364064, get current_b:41.26253734992069,the loss is114.64012625861037\n",
      "When time is:3400,get current_k:-2.8206242062395317, get current_b:41.17129202666456,the loss is114.46949897212615\n",
      "When time is:3450,get current_k:-2.806297215625337, get current_b:41.080156348644095,the loss is114.29928150891435\n",
      "When time is:3500,get current_k:-2.791987441085413, get current_b:40.98913018410373,the loss is114.12947288463596\n",
      "When time is:3550,get current_k:-2.7776948619320083, get current_b:40.89821340144623,the loss is113.96007211731592\n",
      "When time is:3600,get current_k:-2.763419457502227, get current_b:40.80740586923248,the loss is113.79107822733809\n",
      "When time is:3650,get current_k:-2.7491612071580107, get current_b:40.71670745618137,the loss is113.62249023743917\n",
      "When time is:3700,get current_k:-2.7349200902861006, get current_b:40.626118031169504,the loss is113.45430717270258\n",
      "When time is:3750,get current_k:-2.720696086298004, get current_b:40.53563746323106,the loss is113.28652806055419\n",
      "When time is:3800,get current_k:-2.7064891746299686, get current_b:40.44526562155759,the loss is113.11915193075548\n",
      "When time is:3850,get current_k:-2.692299334742952, get current_b:40.35500237549782,the loss is112.95217781539783\n",
      "When time is:3900,get current_k:-2.6781265461225967, get current_b:40.264847594557494,the loss is112.7856047488984\n",
      "When time is:3950,get current_k:-2.663970788279185, get current_b:40.17480114839909,the loss is112.61943176799241\n",
      "When time is:4000,get current_k:-2.6498320407476355, get current_b:40.084862906841856,the loss is112.45365791172985\n",
      "When time is:4050,get current_k:-2.6357102830874557, get current_b:39.995032739861344,the loss is112.28828222146775\n",
      "When time is:4100,get current_k:-2.621605494882704, get current_b:39.90531051758938,the loss is112.12330374086639\n",
      "When time is:4150,get current_k:-2.607517655741985, get current_b:39.815696110313866,the loss is111.95872151588291\n",
      "When time is:4200,get current_k:-2.593446745298397, get current_b:39.72618938847858,the loss is111.79453459476561\n",
      "When time is:4250,get current_k:-2.5793927432095214, get current_b:39.636790222682954,the loss is111.63074202804907\n",
      "When time is:4300,get current_k:-2.5653556291573794, get current_b:39.54749848368194,the loss is111.4673428685483\n",
      "When time is:4350,get current_k:-2.551335382848403, get current_b:39.458314042385766,the loss is111.3043361713531\n",
      "When time is:4400,get current_k:-2.5373319840134236, get current_b:39.36923676985985,the loss is111.14172099382333\n",
      "When time is:4450,get current_k:-2.5233454124076102, get current_b:39.280266537324444,the loss is110.97949639558226\n",
      "When time is:4500,get current_k:-2.5093756478104754, get current_b:39.191403216154626,the loss is110.81766143851233\n",
      "When time is:4550,get current_k:-2.4954226700258193, get current_b:39.102646677879974,the loss is110.65621518674905\n",
      "When time is:4600,get current_k:-2.481486458881714, get current_b:39.01399679418451,the loss is110.49515670667573\n",
      "When time is:4650,get current_k:-2.4675669942304737, get current_b:38.92545343690641,the loss is110.33448506691799\n",
      "When time is:4700,get current_k:-2.453664255948622, get current_b:38.83701647803786,the loss is110.17419933833881\n",
      "When time is:4750,get current_k:-2.439778223936866, get current_b:38.74868578972489,the loss is110.01429859403252\n",
      "When time is:4800,get current_k:-2.425908878120062, get current_b:38.66046124426713,the loss is109.8547819093196\n",
      "When time is:4850,get current_k:-2.4120561984471864, get current_b:38.57234271411769,the loss is109.6956483617421\n",
      "When time is:4900,get current_k:-2.398220164891312, get current_b:38.48433007188287,the loss is109.53689703105731\n",
      "When time is:4950,get current_k:-2.384400757449587, get current_b:38.39642319032221,the loss is109.37852699923269\n",
      "When time is:5000,get current_k:-2.370597956143183, get current_b:38.30862194234802,the loss is109.2205373504408\n",
      "When time is:5050,get current_k:-2.3568117410172826, get current_b:38.22092620102534,the loss is109.06292717105399\n",
      "When time is:5100,get current_k:-2.343042092141054, get current_b:38.133335839571785,the loss is108.90569554963895\n",
      "When time is:5150,get current_k:-2.3292889896076026, get current_b:38.04585073135728,the loss is108.74884157695125\n",
      "When time is:5200,get current_k:-2.315552413533969, get current_b:37.95847074990395,the loss is108.5923643459311\n",
      "When time is:5250,get current_k:-2.3018323440610775, get current_b:37.87119576888588,the loss is108.43626295169629\n",
      "When time is:5300,get current_k:-2.2881287613537147, get current_b:37.78402566212894,the loss is108.28053649153892\n",
      "When time is:5350,get current_k:-2.27444164560051, get current_b:37.69696030361065,the loss is108.12518406491886\n",
      "When time is:5400,get current_k:-2.260770977013897, get current_b:37.60999956745998,the loss is107.9702047734589\n",
      "When time is:5450,get current_k:-2.2471167358300828, get current_b:37.52314332795712,the loss is107.8155977209398\n",
      "When time is:5500,get current_k:-2.2334789023090265, get current_b:37.436391459533304,the loss is107.66136201329472\n",
      "When time is:5550,get current_k:-2.219857456734401, get current_b:37.34974383677069,the loss is107.50749675860432\n",
      "When time is:5600,get current_k:-2.20625237941359, get current_b:37.2632003344022,the loss is107.35400106709193\n",
      "When time is:5650,get current_k:-2.1926636506776207, get current_b:37.17676082731116,the loss is107.20087405111713\n",
      "When time is:5700,get current_k:-2.1790912508811644, get current_b:37.09042519053135,the loss is107.04811482517228\n",
      "When time is:5750,get current_k:-2.1655351604024986, get current_b:37.004193299246666,the loss is106.89572250587614\n",
      "When time is:5800,get current_k:-2.151995359643484, get current_b:36.91806502879102,the loss is106.74369621196959\n",
      "When time is:5850,get current_k:-2.1384718290295153, get current_b:36.83204025464804,the loss is106.59203506430991\n",
      "When time is:5900,get current_k:-2.1249645490095337, get current_b:36.74611885245116,the loss is106.44073818586592\n",
      "When time is:5950,get current_k:-2.1114735000559555, get current_b:36.66030069798308,the loss is106.28980470171344\n",
      "When time is:6000,get current_k:-2.09799866266467, get current_b:36.57458566717587,the loss is106.13923373902907\n",
      "When time is:6050,get current_k:-2.0845400173549975, get current_b:36.488973636110615,the loss is105.98902442708602\n",
      "When time is:6100,get current_k:-2.0710975446696698, get current_b:36.403464481017345,the loss is105.8391758972491\n",
      "When time is:6150,get current_k:-2.057671225174804, get current_b:36.31805807827485,the loss is105.68968728296952\n",
      "When time is:6200,get current_k:-2.0442610394598666, get current_b:36.232754304410406,the loss is105.54055771977919\n",
      "When time is:6250,get current_k:-2.030866968137646, get current_b:36.14755303609969,the loss is105.39178634528699\n",
      "When time is:6300,get current_k:-2.017488991844232, get current_b:36.06245415016658,the loss is105.24337229917298\n",
      "When time is:6350,get current_k:-2.004127091238985, get current_b:35.977457523583,the loss is105.09531472318355\n",
      "When time is:6400,get current_k:-1.9907812470045012, get current_b:35.89256303346865,the loss is104.94761276112649\n",
      "When time is:6450,get current_k:-1.9774514398465919, get current_b:35.807770557090905,the loss is104.80026555886597\n",
      "When time is:6500,get current_k:-1.96413765049425, get current_b:35.72307997186464,the loss is104.65327226431768\n",
      "When time is:6550,get current_k:-1.9508398596996268, get current_b:35.63849115535201,the loss is104.50663202744417\n",
      "When time is:6600,get current_k:-1.937558048238005, get current_b:35.554003985262305,the loss is104.36034400024944\n",
      "When time is:6650,get current_k:-1.924292196907772, get current_b:35.46961833945184,the loss is104.21440733677424\n",
      "When time is:6700,get current_k:-1.911042286530382, get current_b:35.38533409592358,the loss is104.06882119309104\n",
      "When time is:6750,get current_k:-1.8978082979503421, get current_b:35.3011511328272,the loss is103.92358472729998\n",
      "When time is:6800,get current_k:-1.8845902120351674, get current_b:35.21706932845868,the loss is103.7786970995226\n",
      "When time is:6850,get current_k:-1.8713880096753701, get current_b:35.13308856126034,the loss is103.63415747189774\n",
      "When time is:6900,get current_k:-1.8582016717844254, get current_b:35.04920870982053,the loss is103.48996500857737\n",
      "When time is:6950,get current_k:-1.8450311792987437, get current_b:34.9654296528735,the loss is103.34611887572018\n",
      "When time is:7000,get current_k:-1.8318765131776433, get current_b:34.88175126929925,the loss is103.20261824148834\n",
      "When time is:7050,get current_k:-1.8187376544033207, get current_b:34.79817343812326,the loss is103.05946227604132\n",
      "When time is:7100,get current_k:-1.8056145839808295, get current_b:34.714696038516465,the loss is102.9166501515326\n",
      "When time is:7150,get current_k:-1.7925072829380448, get current_b:34.6313189497949,the loss is102.77418104210301\n",
      "When time is:7200,get current_k:-1.7794157323256385, get current_b:34.548042051419685,the loss is102.63205412387765\n",
      "When time is:7250,get current_k:-1.7663399132170567, get current_b:34.464865222996785,the loss is102.49026857496062\n",
      "When time is:7300,get current_k:-1.7532798067084896, get current_b:34.3817883442768,the loss is102.3488235754296\n",
      "When time is:7350,get current_k:-1.7402353939188437, get current_b:34.298811295154884,the loss is102.20771830733193\n",
      "When time is:7400,get current_k:-1.727206655989708, get current_b:34.215933955670465,the loss is102.06695195467927\n",
      "When time is:7450,get current_k:-1.7141935740853282, get current_b:34.133156206007065,the loss is101.92652370344328\n",
      "When time is:7500,get current_k:-1.7011961293926052, get current_b:34.05047792649238,the loss is101.78643274155101\n",
      "When time is:7550,get current_k:-1.688214303121025, get current_b:33.96789899759769,the loss is101.64667825887979\n",
      "When time is:7600,get current_k:-1.6752480765026647, get current_b:33.88541929993806,the loss is101.50725944725293\n",
      "When time is:7650,get current_k:-1.6622974307921508, get current_b:33.80303871427193,the loss is101.36817550043445\n",
      "When time is:7700,get current_k:-1.6493623472666379, get current_b:33.720757121501066,the loss is101.22942561412552\n",
      "When time is:7750,get current_k:-1.6364428072257695, get current_b:33.63857440267033,the loss is101.09100898595865\n",
      "When time is:7800,get current_k:-1.6235387919916733, get current_b:33.55649043896753,the loss is100.95292481549338\n",
      "When time is:7850,get current_k:-1.6106502829089107, get current_b:33.474505111723246,the loss is100.81517230421223\n",
      "When time is:7900,get current_k:-1.5977772613444674, get current_b:33.392618302410675,the loss is100.67775065551551\n",
      "When time is:7950,get current_k:-1.584919708687721, get current_b:33.31082989264544,the loss is100.54065907471656\n",
      "When time is:8000,get current_k:-1.5720776063504023, get current_b:33.22913976418537,the loss is100.40389676903808\n",
      "When time is:8050,get current_k:-1.559250935766589, get current_b:33.14754779893044,the loss is100.26746294760613\n",
      "When time is:8100,get current_k:-1.5464396783926644, get current_b:33.06605387892253,the loss is100.13135682144706\n",
      "When time is:8150,get current_k:-1.5336438157072947, get current_b:32.984657886345225,the loss is99.9955776034815\n",
      "When time is:8200,get current_k:-1.5208633292114038, get current_b:32.903359703523755,the loss is99.86012450852135\n",
      "When time is:8250,get current_k:-1.5080982004281456, get current_b:32.82215921292469,the loss is99.72499675326388\n",
      "When time is:8300,get current_k:-1.4953484109028716, get current_b:32.741056297155836,the loss is99.59019355628763\n",
      "When time is:8350,get current_k:-1.4826139422031144, get current_b:32.66005083896611,the loss is99.45571413804859\n",
      "When time is:8400,get current_k:-1.4698947759185563, get current_b:32.579142721245304,the loss is99.32155772087461\n",
      "When time is:8450,get current_k:-1.4571908936610067, get current_b:32.49833182702395,the loss is99.18772352896156\n",
      "When time is:8500,get current_k:-1.4445022770643565, get current_b:32.41761803947307,the loss is99.05421078836876\n",
      "When time is:8550,get current_k:-1.4318289077845738, get current_b:32.33700124190413,the loss is98.92101872701411\n",
      "When time is:8600,get current_k:-1.4191707674996774, get current_b:32.25648131776882,the loss is98.7881465746705\n",
      "When time is:8650,get current_k:-1.406527837909696, get current_b:32.17605815065887,the loss is98.6555935629604\n",
      "When time is:8700,get current_k:-1.3939001007366532, get current_b:32.095731624305934,the loss is98.52335892535187\n",
      "When time is:8750,get current_k:-1.3812875377245257, get current_b:32.015501622581255,the loss is98.3914418971541\n",
      "When time is:8800,get current_k:-1.3686901306392303, get current_b:31.93536802949572,the loss is98.25984171551299\n",
      "When time is:8850,get current_k:-1.3561078612686068, get current_b:31.8553307291996,the loss is98.12855761940668\n",
      "When time is:8900,get current_k:-1.3435407114223687, get current_b:31.775389605982355,the loss is97.99758884964123\n",
      "When time is:8950,get current_k:-1.330988662932092, get current_b:31.695544544272483,the loss is97.866934648846\n",
      "When time is:9000,get current_k:-1.3184516976511853, get current_b:31.615795428637377,the loss is97.73659426146969\n",
      "When time is:9050,get current_k:-1.3059297974548587, get current_b:31.53614214378311,the loss is97.60656693377582\n",
      "When time is:9100,get current_k:-1.2934229442401064, get current_b:31.456584574554327,the loss is97.47685191383775\n",
      "When time is:9150,get current_k:-1.2809311199256743, get current_b:31.377122605934037,the loss is97.34744845153546\n",
      "When time is:9200,get current_k:-1.2684543064520373, get current_b:31.297756123043474,the loss is97.21835579855022\n",
      "When time is:9250,get current_k:-1.2559924857813698, get current_b:31.218485011141887,the loss is97.08957320836086\n",
      "When time is:9300,get current_k:-1.2435456398975193, get current_b:31.13930915562642,the loss is96.96109993623932\n",
      "When time is:9350,get current_k:-1.2311137508059888, get current_b:31.060228442031942,the loss is96.832935239246\n",
      "When time is:9400,get current_k:-1.2186968005338998, get current_b:30.981242756030863,the loss is96.70507837622579\n",
      "When time is:9450,get current_k:-1.206294771129971, get current_b:30.902351983432954,the loss is96.57752860780393\n",
      "When time is:9500,get current_k:-1.1939076446644958, get current_b:30.823556010185232,the loss is96.45028519638157\n",
      "When time is:9550,get current_k:-1.1815354032293082, get current_b:30.744854722371755,the loss is96.32334740613129\n",
      "When time is:9600,get current_k:-1.1691780289377627, get current_b:30.666248006213454,the loss is96.196714502993\n",
      "When time is:9650,get current_k:-1.1568355039247078, get current_b:30.587735748067985,the loss is96.07038575466963\n",
      "When time is:9700,get current_k:-1.1445078103464636, get current_b:30.509317834429595,the loss is95.94436043062338\n",
      "When time is:9750,get current_k:-1.132194930380787, get current_b:30.430994151928918,the loss is95.81863780207082\n",
      "When time is:9800,get current_k:-1.1198968462268541, get current_b:30.35276458733277,the loss is95.69321714197898\n",
      "When time is:9850,get current_k:-1.1076135401052292, get current_b:30.27462902754409,the loss is95.5680977250612\n",
      "When time is:9900,get current_k:-1.0953449942578426, get current_b:30.1965873596017,the loss is95.44327882777277\n",
      "When time is:9950,get current_k:-1.0830911909479626, get current_b:30.118639470680147,the loss is95.31875972830701\n",
      "When time is:10000,get current_k:-1.0708521124601729, get current_b:30.04078524808958,the loss is95.19453970659039\n",
      "When time is:10050,get current_k:-1.0586277411003417, get current_b:29.96302457927555,the loss is95.07061804427975\n",
      "When time is:10100,get current_k:-1.0464180591956052, get current_b:29.885357351818868,the loss is94.94699402475675\n",
      "When time is:10150,get current_k:-1.0342230490943294, get current_b:29.80778345343542,the loss is94.82366693312412\n",
      "When time is:10200,get current_k:-1.0220426931660964, get current_b:29.730302771976024,the loss is94.70063605620209\n",
      "When time is:10250,get current_k:-1.0098769738016717, get current_b:29.652915195426274,the loss is94.57790068252355\n",
      "When time is:10300,get current_k:-0.9977258734129808, get current_b:29.575620611906345,the loss is94.4554601023306\n",
      "When time is:10350,get current_k:-0.9855893744330825, get current_b:29.498418909670853,the loss is94.33331360756958\n",
      "When time is:10400,get current_k:-0.9734674593161503, get current_b:29.421309977108724,the loss is94.21146049188786\n",
      "When time is:10450,get current_k:-0.9613601105374365, get current_b:29.34429370274297,the loss is94.08990005062932\n",
      "When time is:10500,get current_k:-0.9492673105932544, get current_b:29.267369975230583,the loss is93.96863158082985\n",
      "When time is:10550,get current_k:-0.9371890420009507, get current_b:29.19053868336232,the loss is93.84765438121465\n",
      "When time is:10600,get current_k:-0.925125287298881, get current_b:29.113799716062633,the loss is93.72696775219258\n",
      "When time is:10650,get current_k:-0.913076029046381, get current_b:29.037152962389378,the loss is93.60657099585318\n",
      "When time is:10700,get current_k:-0.9010412498237468, get current_b:28.960598311533758,the loss is93.48646341596191\n",
      "When time is:10750,get current_k:-0.8890209322322048, get current_b:28.884135652820127,the loss is93.36664431795688\n",
      "When time is:10800,get current_k:-0.8770150588938903, get current_b:28.807764875705843,the loss is93.24711300894411\n",
      "When time is:10850,get current_k:-0.8650236124518187, get current_b:28.73148586978107,the loss is93.12786879769443\n",
      "When time is:10900,get current_k:-0.8530465755698645, get current_b:28.65529852476867,the loss is93.00891099463811\n",
      "When time is:10950,get current_k:-0.8410839309327334, get current_b:28.579202730524024,the loss is92.89023891186206\n",
      "When time is:11000,get current_k:-0.8291356612459388, get current_b:28.50319837703484,the loss is92.77185186310571\n",
      "When time is:11050,get current_k:-0.8172017492357743, get current_b:28.42728535442105,the loss is92.65374916375642\n",
      "When time is:11100,get current_k:-0.805282177649292, get current_b:28.351463552934604,the loss is92.53593013084608\n",
      "When time is:11150,get current_k:-0.7933769292542763, get current_b:28.275732862959366,the loss is92.41839408304675\n",
      "When time is:11200,get current_k:-0.7814859868392174, get current_b:28.200093175010863,the loss is92.30114034066732\n",
      "When time is:11250,get current_k:-0.7696093332132891, get current_b:28.124544379736243,the loss is92.18416822564897\n",
      "When time is:11300,get current_k:-0.757746951206322, get current_b:28.049086367914022,the loss is92.06747706156146\n",
      "When time is:11350,get current_k:-0.7458988236687791, get current_b:27.973719030453974,the loss is91.95106617359936\n",
      "When time is:11400,get current_k:-0.7340649334717316, get current_b:27.898442258396965,the loss is91.83493488857776\n",
      "When time is:11450,get current_k:-0.7222452635068344, get current_b:27.823255942914788,the loss is91.71908253492906\n",
      "When time is:11500,get current_k:-0.7104397966862981, get current_b:27.748159975309996,the loss is91.60350844269861\n",
      "When time is:11550,get current_k:-0.6986485159428705, get current_b:27.673154247015788,the loss is91.48821194354038\n",
      "When time is:11600,get current_k:-0.6868714042298077, get current_b:27.59823864959582,the loss is91.37319237071434\n",
      "When time is:11650,get current_k:-0.6751084445208456, get current_b:27.523413074743996,the loss is91.25844905908124\n",
      "When time is:11700,get current_k:-0.6633596198101834, get current_b:27.448677414284436,the loss is91.1439813450999\n",
      "When time is:11750,get current_k:-0.6516249131124582, get current_b:27.374031560171225,the loss is91.02978856682277\n",
      "When time is:11800,get current_k:-0.6399043074627103, get current_b:27.29947540448826,the loss is90.91587006389177\n",
      "When time is:11850,get current_k:-0.6281977859163729, get current_b:27.225008839449146,the loss is90.80222517753542\n",
      "When time is:11900,get current_k:-0.6165053315492351, get current_b:27.150631757396987,the loss is90.68885325056422\n",
      "When time is:11950,get current_k:-0.604826927457428, get current_b:27.076344050804273,the loss is90.57575362736753\n",
      "When time is:12000,get current_k:-0.5931625567573933, get current_b:27.0021456122727,the loss is90.46292565390898\n",
      "When time is:12050,get current_k:-0.581512202585861, get current_b:26.928036334533022,the loss is90.35036867772331\n",
      "When time is:12100,get current_k:-0.5698758480998237, get current_b:26.85401611044487,the loss is90.23808204791226\n",
      "When time is:12150,get current_k:-0.5582534764765134, get current_b:26.78008483299664,the loss is90.12606511514109\n",
      "When time is:12200,get current_k:-0.5466450709133809, get current_b:26.70624239530533,the loss is90.01431723163472\n",
      "When time is:12250,get current_k:-0.5350506146280632, get current_b:26.632488690616356,the loss is89.90283775117352\n",
      "When time is:12300,get current_k:-0.5234700908583659, get current_b:26.558823612303403,the loss is89.79162602909065\n",
      "When time is:12350,get current_k:-0.5119034828622366, get current_b:26.48524705386832,the loss is89.68068142226699\n",
      "When time is:12400,get current_k:-0.5003507739177436, get current_b:26.41175890894092,the loss is89.57000328912868\n",
      "When time is:12450,get current_k:-0.488811947323044, get current_b:26.338359071278802,the loss is89.45959098964246\n",
      "When time is:12500,get current_k:-0.47728698639636946, get current_b:26.265047434767276,the loss is89.34944388531245\n",
      "When time is:12550,get current_k:-0.46577587447599555, get current_b:26.19182389341915,the loss is89.23956133917648\n",
      "When time is:12600,get current_k:-0.4542785949202183, get current_b:26.11868834137458,the loss is89.12994271580199\n",
      "When time is:12650,get current_k:-0.44279513110733304, get current_b:26.04564067290092,the loss is89.02058738128311\n",
      "When time is:12700,get current_k:-0.4313254664356067, get current_b:25.97268078239261,the loss is88.91149470323569\n",
      "When time is:12750,get current_k:-0.41986958432325766, get current_b:25.89980856437098,the loss is88.8026640507955\n",
      "When time is:12800,get current_k:-0.40842746820843057, get current_b:25.82702391348411,the loss is88.69409479461284\n",
      "When time is:12850,get current_k:-0.39699910154916845, get current_b:25.754326724506655,the loss is88.58578630684997\n",
      "When time is:12900,get current_k:-0.38558446782339584, get current_b:25.681716892339743,the loss is88.477737961177\n",
      "When time is:12950,get current_k:-0.3741835505288879, get current_b:25.60919431201078,the loss is88.36994913276833\n",
      "When time is:13000,get current_k:-0.36279633318325233, get current_b:25.536758878673314,the loss is88.26241919829921\n",
      "When time is:13050,get current_k:-0.3514227993238998, get current_b:25.46441048760689,the loss is88.15514753594204\n",
      "When time is:13100,get current_k:-0.3400629325080257, get current_b:25.392149034216864,the loss is88.04813352536281\n",
      "When time is:13150,get current_k:-0.32871671631258287, get current_b:25.319974414034313,the loss is87.9413765477172\n",
      "When time is:13200,get current_k:-0.31738413433425916, get current_b:25.24788652271583,the loss is87.83487598564766\n",
      "When time is:13250,get current_k:-0.30606517018945484, get current_b:25.175885256043394,the loss is87.72863122327901\n",
      "When time is:13300,get current_k:-0.29475980751425657, get current_b:25.103970509924228,the loss is87.62264164621573\n",
      "When time is:13350,get current_k:-0.28346802996441306, get current_b:25.032142180390622,the loss is87.51690664153776\n",
      "When time is:13400,get current_k:-0.2721898212153165, get current_b:24.960400163599815,the loss is87.41142559779742\n",
      "When time is:13450,get current_k:-0.26092516496197404, get current_b:24.888744355833825,the loss is87.30619790501518\n",
      "When time is:13500,get current_k:-0.2496740449189847, get current_b:24.817174653499297,the loss is87.20122295467698\n",
      "When time is:13550,get current_k:-0.23843644482052, get current_b:24.745690953127376,the loss is87.09650013973032\n",
      "When time is:13600,get current_k:-0.22721234842029087, get current_b:24.674293151373494,the loss is86.99202885458071\n",
      "When time is:13650,get current_k:-0.2160017394915388, get current_b:24.602981145017335,the loss is86.88780849508801\n",
      "When time is:13700,get current_k:-0.20480460182699736, get current_b:24.53175483096255,the loss is86.78383845856341\n",
      "When time is:13750,get current_k:-0.19362091923888095, get current_b:24.460614106236747,the loss is86.68011814376553\n",
      "When time is:13800,get current_k:-0.1824506755588543, get current_b:24.389558867991216,the loss is86.57664695089706\n",
      "When time is:13850,get current_k:-0.1712938546380094, get current_b:24.318589013500855,the loss is86.47342428160174\n",
      "When time is:13900,get current_k:-0.16015044034684556, get current_b:24.24770444016401,the loss is86.37044953895976\n",
      "When time is:13950,get current_k:-0.14902041657523973, get current_b:24.176905045502284,the loss is86.26772212748541\n",
      "When time is:14000,get current_k:-0.13790376723243494, get current_b:24.106190727160474,the loss is86.16524145312344\n",
      "When time is:14050,get current_k:-0.12680047624700333, get current_b:24.03556138290633,the loss is86.06300692324498\n",
      "When time is:14100,get current_k:-0.11571052756683357, get current_b:23.965016910630478,the loss is85.96101794664526\n",
      "When time is:14150,get current_k:-0.10463390515910245, get current_b:23.89455720834624,the loss is85.85927393353884\n",
      "When time is:14200,get current_k:-0.0935705930102499, get current_b:23.824182174189467,the loss is85.75777429555698\n",
      "When time is:14250,get current_k:-0.08252057512596146, get current_b:23.753891706418436,the loss is85.65651844574441\n",
      "When time is:14300,get current_k:-0.07148383553114107, get current_b:23.68368570341368,the loss is85.55550579855533\n",
      "When time is:14350,get current_k:-0.06046035826989049, get current_b:23.61356406367784,the loss is85.45473576985071\n",
      "When time is:14400,get current_k:-0.04945012740548085, get current_b:23.54352668583551,the loss is85.35420777689413\n",
      "When time is:14450,get current_k:-0.03845312702034037, get current_b:23.473573468633138,the loss is85.25392123834912\n",
      "When time is:14500,get current_k:-0.027469341216020855, get current_b:23.403704310938817,the loss is85.15387557427532\n",
      "When time is:14550,get current_k:-0.016498754113176417, get current_b:23.33391911174215,the loss is85.0540702061256\n",
      "When time is:14600,get current_k:-0.005541349851547142, get current_b:23.264217770154158,the loss is84.95450455674184\n",
      "When time is:14650,get current_k:0.005402887410070174, get current_b:23.19460018540708,the loss is84.85517805035269\n",
      "When time is:14700,get current_k:0.016333973493844352, get current_b:23.125066256854222,the loss is84.7560901125698\n",
      "When time is:14750,get current_k:0.0272519242029315, get current_b:23.05561588396985,the loss is84.65724017038386\n",
      "When time is:14800,get current_k:0.03815675532149324, get current_b:22.986248966349052,the loss is84.55862765216237\n",
      "When time is:14850,get current_k:0.04904848261473123, get current_b:22.916965403707515,the loss is84.46025198764569\n",
      "When time is:14900,get current_k:0.05992712182889728, get current_b:22.847765095881474,the loss is84.36211260794353\n",
      "When time is:14950,get current_k:0.07079268869132337, get current_b:22.77864794282752,the loss is84.26420894553256\n",
      "When time is:15000,get current_k:0.0816451989104463, get current_b:22.709613844622417,the loss is84.16654043425198\n",
      "When time is:15050,get current_k:0.09248466817581849, get current_b:22.64066270146309,the loss is84.06910650930132\n",
      "When time is:15100,get current_k:0.10331111215814769, get current_b:22.571794413666307,the loss is83.97190660723653\n",
      "When time is:15150,get current_k:0.11412454650930544, get current_b:22.503008881668666,the loss is83.87494016596656\n",
      "When time is:15200,get current_k:0.12492498686235703, get current_b:22.434306006026397,the loss is83.77820662475098\n",
      "When time is:15250,get current_k:0.13571244883158445, get current_b:22.365685687415205,the loss is83.68170542419578\n",
      "When time is:15300,get current_k:0.146486948012499, get current_b:22.297147826630212,the loss is83.58543600625077\n",
      "When time is:15350,get current_k:0.15724849998188048, get current_b:22.228692324585676,the loss is83.4893978142056\n",
      "When time is:15400,get current_k:0.16799712029778657, get current_b:22.160319082314956,the loss is83.39359029268796\n",
      "When time is:15450,get current_k:0.17873282449957967, get current_b:22.092028000970338,the loss is83.29801288765876\n",
      "When time is:15500,get current_k:0.18945562810795114, get current_b:22.023818981822863,the loss is83.20266504640982\n",
      "When time is:15550,get current_k:0.20016554662493977, get current_b:21.955691926262244,the loss is83.10754621756048\n",
      "When time is:15600,get current_k:0.21086259553395562, get current_b:21.887646735796682,the loss is83.01265585105453\n",
      "When time is:15650,get current_k:0.2215467902998053, get current_b:21.81968331205271,the loss is82.91799339815687\n",
      "When time is:15700,get current_k:0.23221814636871313, get current_b:21.75180155677507,the loss is82.8235583114503\n",
      "When time is:15750,get current_k:0.24287667916833924, get current_b:21.684001371826604,the loss is82.72935004483257\n",
      "When time is:15800,get current_k:0.25352240410780674, get current_b:21.61628265918806,the loss is82.63536805351293\n",
      "When time is:15850,get current_k:0.26415533657772033, get current_b:21.548645320957988,the loss is82.54161179400943\n",
      "When time is:15900,get current_k:0.27477549195019285, get current_b:21.481089259352554,the loss is82.44808072414509\n",
      "When time is:15950,get current_k:0.2853828855788644, get current_b:21.413614376705446,the loss is82.35477430304535\n",
      "When time is:16000,get current_k:0.2959775327989266, get current_b:21.346220575467708,the loss is82.261691991135\n",
      "When time is:16050,get current_k:0.3065594489271402, get current_b:21.27890775820761,the loss is82.16883325013433\n",
      "When time is:16100,get current_k:0.31712864926186335, get current_b:21.211675827610488,the loss is82.07619754305692\n",
      "When time is:16150,get current_k:0.32768514908307017, get current_b:21.144524686478626,the loss is81.98378433420623\n",
      "When time is:16200,get current_k:0.3382289636523751, get current_b:21.0774542377311,the loss is81.89159308917152\n",
      "When time is:16250,get current_k:0.34876010821305137, get current_b:21.010464384403637,the loss is81.7996232748265\n",
      "When time is:16300,get current_k:0.35927859799005407, get current_b:20.943555029648515,the loss is81.70787435932534\n",
      "When time is:16350,get current_k:0.3697844481900444, get current_b:20.876726076734357,the loss is81.61634581209928\n",
      "When time is:16400,get current_k:0.38027767400141044, get current_b:20.809977429046043,the loss is81.52503710385386\n",
      "When time is:16450,get current_k:0.3907582905942912, get current_b:20.74330899008452,the loss is81.43394770656612\n",
      "When time is:16500,get current_k:0.40122631312059326, get current_b:20.676720663466725,the loss is81.34307709348167\n",
      "When time is:16550,get current_k:0.41168175671401663, get current_b:20.61021235292541,the loss is81.25242473911054\n",
      "When time is:16600,get current_k:0.4221246364900795, get current_b:20.543783962308975,the loss is81.16199011922541\n",
      "When time is:16650,get current_k:0.4325549675461292, get current_b:20.477435395581413,the loss is81.07177271085811\n",
      "When time is:16700,get current_k:0.4429727649613793, get current_b:20.411166556822067,the loss is80.98177199229626\n",
      "When time is:16750,get current_k:0.4533780437969181, get current_b:20.344977350225587,the loss is80.89198744308106\n",
      "When time is:16800,get current_k:0.4637708190957363, get current_b:20.27886768010171,the loss is80.8024185440031\n",
      "When time is:16850,get current_k:0.4741511058827493, get current_b:20.212837450875206,the loss is80.71306477710066\n",
      "When time is:16900,get current_k:0.48451891916481593, get current_b:20.14688656708566,the loss is80.62392562565579\n",
      "When time is:16950,get current_k:0.4948742739307666, get current_b:20.081014933387344,the loss is80.53500057419163\n",
      "When time is:17000,get current_k:0.5052171851514141, get current_b:20.015222454549164,the loss is80.44628910846953\n",
      "When time is:17050,get current_k:0.5155476677795863, get current_b:19.949509035454412,the loss is80.35779071548599\n",
      "When time is:17100,get current_k:0.5258657367501413, get current_b:19.8838745811007,the loss is80.2695048834694\n",
      "When time is:17150,get current_k:0.5361714069799883, get current_b:19.8183189965998,the loss is80.18143110187782\n",
      "When time is:17200,get current_k:0.5464646933681171, get current_b:19.75284218717748,the loss is80.09356886139507\n",
      "When time is:17250,get current_k:0.556745610795609, get current_b:19.687444058173433,the loss is80.00591765392859\n",
      "When time is:17300,get current_k:0.5670141741256662, get current_b:19.62212451504107,the loss is79.91847697260606\n",
      "When time is:17350,get current_k:0.5772703982036295, get current_b:19.556883463347425,the loss is79.8312463117726\n",
      "When time is:17400,get current_k:0.5875142978569999, get current_b:19.491720808773017,the loss is79.74422516698806\n",
      "When time is:17450,get current_k:0.597745887895464, get current_b:19.42663645711168,the loss is79.6574130350237\n",
      "When time is:17500,get current_k:0.6079651831109095, get current_b:19.361630314270474,the loss is79.57080941385927\n",
      "When time is:17550,get current_k:0.6181721982774472, get current_b:19.296702286269543,the loss is79.48441380268055\n",
      "When time is:17600,get current_k:0.6283669481514398, get current_b:19.2318522792419,the loss is79.39822570187634\n",
      "When time is:17650,get current_k:0.6385494474715162, get current_b:19.167080199433418,the loss is79.31224461303512\n",
      "When time is:17700,get current_k:0.6487197109585906, get current_b:19.1023859532026,the loss is79.22647003894271\n",
      "When time is:17750,get current_k:0.6588777533158917, get current_b:19.03776944702048,the loss is79.14090148357901\n",
      "When time is:17800,get current_k:0.6690235892289809, get current_b:18.97323058747047,the loss is79.05553845211543\n",
      "When time is:17850,get current_k:0.6791572333657715, get current_b:18.908769281248247,the loss is78.97038045091175\n",
      "When time is:17900,get current_k:0.6892787003765497, get current_b:18.844385435161605,the loss is78.88542698751361\n",
      "When time is:17950,get current_k:0.6993880048939988, get current_b:18.780078956130314,the loss is78.80067757064921\n",
      "When time is:18000,get current_k:0.7094851615332168, get current_b:18.715849751186038,the loss is78.71613171022692\n",
      "When time is:18050,get current_k:0.7195701848917403, get current_b:18.65169772747209,the loss is78.63178891733233\n",
      "When time is:18100,get current_k:0.7296430895495648, get current_b:18.587622792243415,the loss is78.54764870422486\n",
      "When time is:18150,get current_k:0.7397038900691676, get current_b:18.523624852866373,the loss is78.46371058433583\n",
      "When time is:18200,get current_k:0.749752600995524, get current_b:18.45970381681866,the loss is78.37997407226514\n",
      "When time is:18250,get current_k:0.759789236856133, get current_b:18.395859591689153,the loss is78.29643868377869\n",
      "When time is:18300,get current_k:0.769813812161036, get current_b:18.332092085177738,the loss is78.21310393580491\n",
      "When time is:18350,get current_k:0.7798263414028387, get current_b:18.26840120509526,the loss is78.12996934643338\n",
      "When time is:18400,get current_k:0.7898268390567325, get current_b:18.204786859363317,the loss is78.04703443491033\n",
      "When time is:18450,get current_k:0.7998153195805116, get current_b:18.141248956014167,the loss is77.96429872163708\n",
      "When time is:18500,get current_k:0.8097917974146006, get current_b:18.077787403190573,the loss is77.881761728167\n",
      "When time is:18550,get current_k:0.8197562869820693, get current_b:18.01440210914568,the loss is77.79942297720234\n",
      "When time is:18600,get current_k:0.829708802688658, get current_b:17.95109298224288,the loss is77.71728199259182\n",
      "When time is:18650,get current_k:0.8396493589227937, get current_b:17.887859930955685,the loss is77.63533829932778\n",
      "When time is:18700,get current_k:0.849577970055616, get current_b:17.82470286386758,the loss is77.55359142354382\n",
      "When time is:18750,get current_k:0.8594946504409932, get current_b:17.761621689671923,the loss is77.47204089251126\n",
      "When time is:18800,get current_k:0.869399414415545, get current_b:17.69861631717177,the loss is77.39068623463699\n",
      "When time is:18850,get current_k:0.8792922762986675, get current_b:17.63568665527977,the loss is77.30952697946074\n",
      "When time is:18900,get current_k:0.8891732503925426, get current_b:17.57283261301804,the loss is77.22856265765198\n",
      "When time is:18950,get current_k:0.8990423509821753, get current_b:17.510054099517983,the loss is77.14779280100768\n",
      "When time is:19000,get current_k:0.9088995923353981, get current_b:17.44735102402024,the loss is77.06721694244919\n",
      "When time is:19050,get current_k:0.918744988702902, get current_b:17.384723295874473,the loss is76.98683461601976\n",
      "When time is:19100,get current_k:0.9285785543182509, get current_b:17.322170824539313,the loss is76.90664535688194\n",
      "When time is:19150,get current_k:0.9384003033979048, get current_b:17.259693519582164,the loss is76.82664870131454\n",
      "When time is:19200,get current_k:0.9482102501412446, get current_b:17.197291290679107,the loss is76.74684418671042\n",
      "When time is:19250,get current_k:0.9580084087305846, get current_b:17.13496404761476,the loss is76.66723135157338\n",
      "When time is:19300,get current_k:0.9677947933311951, get current_b:17.072711700282163,the loss is76.58780973551562\n",
      "When time is:19350,get current_k:0.9775694180913304, get current_b:17.010534158682606,the loss is76.50857887925517\n",
      "When time is:19400,get current_k:0.9873322971422387, get current_b:16.94843133292555,the loss is76.42953832461333\n",
      "When time is:19450,get current_k:0.9970834445981916, get current_b:16.88640313322844,the loss is76.35068761451187\n",
      "When time is:19500,get current_k:1.006822874556496, get current_b:16.824449469916658,the loss is76.27202629297021\n",
      "When time is:19550,get current_k:1.0165506010975216, get current_b:16.7625702534233,the loss is76.19355390510312\n",
      "When time is:19600,get current_k:1.0262666382847188, get current_b:16.7007653942891,the loss is76.1152699971177\n",
      "When time is:19650,get current_k:1.035971000164634, get current_b:16.63903480316232,the loss is76.03717411631142\n",
      "When time is:19700,get current_k:1.0456637007669407, get current_b:16.577378390798554,the loss is75.95926581106905\n",
      "When time is:19750,get current_k:1.0553447541044465, get current_b:16.515796068060677,the loss is75.88154463085934\n",
      "When time is:19800,get current_k:1.0650141741731285, get current_b:16.454287745918624,the loss is75.80401012623427\n",
      "When time is:19850,get current_k:1.07467197495214, get current_b:16.392853335449352,the loss is75.72666184882424\n",
      "When time is:19900,get current_k:1.084318170403838, get current_b:16.331492747836666,the loss is75.6494993513375\n",
      "When time is:19950,get current_k:1.0939527744738013, get current_b:16.270205894371088,the loss is75.57252218755629\n"
     ]
    }
   ],
   "source": [
    "trying_times = 20000\n",
    "\n",
    "X, y = data['data'], data['target']\n",
    "X_rm = X[:, 5]\n",
    "min_loss = float('inf') \n",
    "\n",
    "current_k = random.random() * 200 - 100\n",
    "current_b = random.random() * 200 - 100\n",
    "\n",
    "learning_rate = 1e-03\n",
    "\n",
    "for i in range(trying_times):\n",
    "    price_by_k_and_b = price(X_rm,current_k,current_b)\n",
    "    current_loss = loss(y,price_by_k_and_b)\n",
    "    if current_loss < min_loss:\n",
    "        min_loss = current_loss\n",
    "        if i%50 == 0:\n",
    "            print(\"When time is:{},get current_k:{}, get current_b:{},the loss is{}\".format(i,current_k, current_b, min_loss))\n",
    "    k_gradient = partial_k(X_rm, y, price_by_k_and_b)\n",
    "    b_gradient = partial_b(X_rm, y, price_by_k_and_b)\n",
    "    current_k = current_k + (-k_gradient)*learning_rate\n",
    "    current_b = current_b + (-b_gradient)*learning_rate     "
   ]
  },
  {
   "cell_type": "code",
   "execution_count": 32,
   "metadata": {},
   "outputs": [
    {
     "data": {
      "text/plain": [
       "<matplotlib.collections.PathCollection at 0x2bbf30b9e10>"
      ]
     },
     "execution_count": 32,
     "metadata": {},
     "output_type": "execute_result"
    },
    {
     "data": {
      "image/png": "[encoded data removed]",
      "text/plain": [
       "<Figure size 432x288 with 1 Axes>"
      ]
     },
     "metadata": {
      "needs_background": "light"
     },
     "output_type": "display_data"
    }
   ],
   "source": [
    "%matplotlib inline\n",
    "import matplotlib.pyplot as plt\n",
    "X_rm = X[:, 5]\n",
    "k = 1.0939527744738013\n",
    "b = 16.270205894371088\n",
    "price_by_random_k_and_b = [price(r, k, b) for r in X_rm]\n",
    "\n",
    "def draw_rm_and_price():\n",
    "    plt.scatter(X_rm, y)\n",
    "draw_rm_and_price()\n",
    "plt.scatter(X_rm, price_by_random_k_and_b)"
   ]
  },
  {
   "cell_type": "markdown",
   "metadata": {},
   "source": [
    "# Dynamic Programming"
   ]
  },
  {
   "cell_type": "markdown",
   "metadata": {},
   "source": [
    "decorator"
   ]
  },
  {
   "cell_type": "code",
   "execution_count": 56,
   "metadata": {},
   "outputs": [],
   "source": [
    "from collections import defaultdict"
   ]
  },
  {
   "cell_type": "code",
   "execution_count": 57,
   "metadata": {},
   "outputs": [],
   "source": [
    "from functools import wraps"
   ]
  },
  {
   "cell_type": "code",
   "execution_count": 58,
   "metadata": {},
   "outputs": [],
   "source": [
    "called_time_with_arg = defaultdict(int)\n",
    "def get_call_time(f):\n",
    "    @wraps(f) #保持函数命名\n",
    "    def wrap(n):\n",
    "        result = f(n)\n",
    "        print(\"call!\")\n",
    "        called_time_with_arg[(f.__name__,n)] +=1\n",
    "        return result\n",
    "    return wrap"
   ]
  },
  {
   "cell_type": "code",
   "execution_count": 59,
   "metadata": {},
   "outputs": [],
   "source": [
    "@get_call_time\n",
    "def add_10(n):\n",
    "    return n+10"
   ]
  },
  {
   "cell_type": "code",
   "execution_count": 63,
   "metadata": {},
   "outputs": [
    {
     "name": "stdout",
     "output_type": "stream",
     "text": [
      "call!\n"
     ]
    },
    {
     "data": {
      "text/plain": [
       "17"
      ]
     },
     "execution_count": 63,
     "metadata": {},
     "output_type": "execute_result"
    }
   ],
   "source": [
    "add_10(7)"
   ]
  },
  {
   "cell_type": "code",
   "execution_count": 65,
   "metadata": {},
   "outputs": [
    {
     "data": {
      "text/plain": [
       "defaultdict(int, {('add_10', 6): 2, ('add_10', 7): 1})"
      ]
     },
     "execution_count": 65,
     "metadata": {},
     "output_type": "execute_result"
    }
   ],
   "source": [
    "called_time_with_arg"
   ]
  },
  {
   "cell_type": "markdown",
   "metadata": {},
   "source": [
    "Get the best splitting"
   ]
  },
  {
   "cell_type": "code",
   "execution_count": 1,
   "metadata": {},
   "outputs": [],
   "source": [
    "original_price = [1, 5, 8, 9, 10, 17, 17, 20, 24, 30, 35]"
   ]
  },
  {
   "cell_type": "code",
   "execution_count": 2,
   "metadata": {},
   "outputs": [],
   "source": [
    "from collections import defaultdict"
   ]
  },
  {
   "cell_type": "code",
   "execution_count": 3,
   "metadata": {},
   "outputs": [],
   "source": [
    "from functools import wraps"
   ]
  },
  {
   "cell_type": "code",
   "execution_count": 8,
   "metadata": {},
   "outputs": [],
   "source": [
    "price = defaultdict(int)\n",
    "for i,p in enumerate(original_price):\n",
    "    price[i+1] = p"
   ]
  },
  {
   "cell_type": "code",
   "execution_count": 41,
   "metadata": {},
   "outputs": [],
   "source": [
    "def memo(f):\n",
    "    memo_computed = {}\n",
    "    @wraps(f)\n",
    "    def wrap(arg):\n",
    "        #result = None\n",
    "        if not arg in memo_computed: \n",
    "            result = f(arg)\n",
    "            memo_computed[arg] = result\n",
    "        else:\n",
    "            result = memo_computed[arg]\n",
    "        return result\n",
    "    return wrap"
   ]
  },
  {
   "cell_type": "code",
   "execution_count": null,
   "metadata": {},
   "outputs": [],
   "source": [
    "solution = {}\n",
    "@memo\n",
    "def r(n):\n",
    "    max_price,max_split = max(\n",
    "        [(price[n], 0)] + [(r(i)+r(n-i), i) for i in range (1,n)], key = lambda x:x[0]\n",
    "    )\n",
    "    solution[n] = (n-max_split, max_split)"
   ]
  },
  {
   "cell_type": "code",
   "execution_count": 68,
   "metadata": {},
   "outputs": [],
   "source": [
    "solution = {}\n",
    "@memo\n",
    "def r(n):\n",
    "    \"\"\"\n",
    "    Args: n is the iron length\n",
    "    Return: the max revenue \n",
    "    \"\"\"\n",
    "    max_price, max_split = max(\n",
    "        [(price[n], 0)] + [(r(i) + r(n-i), i) for i in range(1, n)], key=lambda x: x[0]\n",
    "    )\n",
    "\n",
    "    solution[n] = (n - max_split, max_split)\n",
    "    return max_price"
   ]
  },
  {
   "cell_type": "code",
   "execution_count": 69,
   "metadata": {},
   "outputs": [
    {
     "data": {
      "text/plain": [
       "157"
      ]
     },
     "execution_count": 69,
     "metadata": {},
     "output_type": "execute_result"
    }
   ],
   "source": [
    "r(50)"
   ]
  },
  {
   "cell_type": "code",
   "execution_count": 71,
   "metadata": {},
   "outputs": [
    {
     "data": {
      "text/plain": [
       "{1: (1, 0),\n",
       " 2: (2, 0),\n",
       " 3: (3, 0),\n",
       " 4: (2, 2),\n",
       " 5: (3, 2),\n",
       " 6: (6, 0),\n",
       " 7: (6, 1),\n",
       " 8: (6, 2),\n",
       " 9: (6, 3),\n",
       " 10: (10, 0),\n",
       " 11: (11, 0),\n",
       " 12: (11, 1),\n",
       " 13: (11, 2),\n",
       " 14: (11, 3),\n",
       " 15: (13, 2),\n",
       " 16: (14, 2),\n",
       " 17: (11, 6),\n",
       " 18: (17, 1),\n",
       " 19: (17, 2),\n",
       " 20: (17, 3),\n",
       " 21: (11, 10),\n",
       " 22: (11, 11),\n",
       " 23: (22, 1),\n",
       " 24: (22, 2),\n",
       " 25: (22, 3),\n",
       " 26: (24, 2),\n",
       " 27: (25, 2),\n",
       " 28: (22, 6),\n",
       " 29: (28, 1),\n",
       " 30: (28, 2),\n",
       " 31: (28, 3),\n",
       " 32: (22, 10),\n",
       " 33: (22, 11),\n",
       " 34: (33, 1),\n",
       " 35: (33, 2),\n",
       " 36: (33, 3),\n",
       " 37: (35, 2),\n",
       " 38: (36, 2),\n",
       " 39: (33, 6),\n",
       " 40: (39, 1),\n",
       " 41: (39, 2),\n",
       " 42: (39, 3),\n",
       " 43: (33, 10),\n",
       " 44: (33, 11),\n",
       " 45: (44, 1),\n",
       " 46: (44, 2),\n",
       " 47: (44, 3),\n",
       " 48: (46, 2),\n",
       " 49: (47, 2),\n",
       " 50: (44, 6)}"
      ]
     },
     "execution_count": 71,
     "metadata": {},
     "output_type": "execute_result"
    }
   ],
   "source": [
    "solution"
   ]
  },
  {
   "cell_type": "code",
   "execution_count": 128,
   "metadata": {},
   "outputs": [],
   "source": [
    "def parse_solution(n):\n",
    "    left_split, right_split = solution[n]\n",
    "    if right_split ==0:\n",
    "        return [left_split] \n",
    "    return parse_solution(left_split) + parse_solution(right_split)"
   ]
  },
  {
   "cell_type": "code",
   "execution_count": 129,
   "metadata": {},
   "outputs": [
    {
     "data": {
      "text/plain": [
       "[11, 11, 11, 11, 6]"
      ]
     },
     "execution_count": 129,
     "metadata": {},
     "output_type": "execute_result"
    }
   ],
   "source": [
    "parse_solution(50)"
   ]
  },
  {
   "cell_type": "markdown",
   "metadata": {},
   "source": [
    "### Part 2: change loss function from $loss = \\frac{1}{n}\\sum{(y_i - \\hat(y_i))^2}$ to $loss = \\frac{1}{n}\\sum{|y_i - \\hat{y_i}|}$, and using your mathmatical knowledge to get the right partial formual. Implemen the gradient descent code."
   ]
  },
  {
   "cell_type": "code",
   "execution_count": 1,
   "metadata": {},
   "outputs": [],
   "source": [
    "from sklearn.datasets import load_boston"
   ]
  },
  {
   "cell_type": "code",
   "execution_count": 2,
   "metadata": {},
   "outputs": [],
   "source": [
    "data = load_boston()"
   ]
  },
  {
   "cell_type": "code",
   "execution_count": 3,
   "metadata": {},
   "outputs": [],
   "source": [
    "def price(rm, k, b):\n",
    "    return k * rm + b"
   ]
  },
  {
   "cell_type": "code",
   "execution_count": 4,
   "metadata": {},
   "outputs": [],
   "source": [
    "\n",
    "def loss(y,y_hat):\n",
    "    a = 0\n",
    "    for y_i, y_hat_i in zip(list(y),list(y_hat)):\n",
    "        if y_i-y_hat_i >0:\n",
    "            a += y_i-y_hat_i\n",
    "        else:\n",
    "            a +=  y_hat_i-y_i\n",
    "    return a/len(y)"
   ]
  },
  {
   "cell_type": "code",
   "execution_count": 5,
   "metadata": {},
   "outputs": [],
   "source": [
    "#y=[1,2,3,4,5,6,8,10]\n",
    "#y_hat = [2,3,3,5,4,20,1,8]\n",
    "#loss(y,y_hat)"
   ]
  },
  {
   "cell_type": "code",
   "execution_count": 6,
   "metadata": {},
   "outputs": [],
   "source": [
    "def partial_k(x,y,y_hat):\n",
    "    n = len(y)\n",
    "    gradient = 0\n",
    "    for x_i,y_i,y_hat_i in zip(list(x),list(y),list(y_hat)):\n",
    "        if y_i> y_hat_i:\n",
    "            gradient = -x_i\n",
    "        else:\n",
    "            gradient = x_i\n",
    "    return gradient/n\n",
    "\n",
    "def partial_b(y,y_hat):\n",
    "    n = len(y)\n",
    "    gradient = 0\n",
    "    for y_i,y_hat_i in zip(list(y),list(y_hat)):\n",
    "        if y_i> y_hat_i:\n",
    "            gradient = -1\n",
    "        else:\n",
    "            gradient = 1\n",
    "    return gradient/n"
   ]
  },
  {
   "cell_type": "code",
   "execution_count": 7,
   "metadata": {},
   "outputs": [
    {
     "name": "stdout",
     "output_type": "stream",
     "text": [
      "When time is:0,get current_k:50.47124660509826, get current_b:-73.50004686957803,the loss is:221.16047879322338\n",
      "When time is:50,get current_k:50.352076644624006, get current_b:-73.51980971542815,the loss is:220.39177631583755\n",
      "When time is:100,get current_k:50.232906684149754, get current_b:-73.53957256127828,the loss is:219.62307383845163\n",
      "When time is:150,get current_k:50.1137367236755, get current_b:-73.5593354071284,the loss is:218.8543713610658\n",
      "When time is:200,get current_k:49.99456676320125, get current_b:-73.57909825297853,the loss is:218.0856688836796\n",
      "When time is:250,get current_k:49.875396802726996, get current_b:-73.59886109882865,the loss is:217.3169664062939\n",
      "When time is:300,get current_k:49.756226842252744, get current_b:-73.61862394467877,the loss is:216.54826392890772\n",
      "When time is:350,get current_k:49.63705688177849, get current_b:-73.6383867905289,the loss is:215.77956145152174\n",
      "When time is:400,get current_k:49.51788692130424, get current_b:-73.65814963637902,the loss is:215.010858974136\n",
      "When time is:450,get current_k:49.39871696082999, get current_b:-73.67791248222915,the loss is:214.24215649674971\n",
      "When time is:500,get current_k:49.279547000355734, get current_b:-73.69767532807927,the loss is:213.47345401936388\n",
      "When time is:550,get current_k:49.16037703988148, get current_b:-73.7174381739294,the loss is:212.70475154197774\n",
      "When time is:600,get current_k:49.04120707940723, get current_b:-73.73720101977952,the loss is:211.9360490645919\n",
      "When time is:650,get current_k:48.92203711893298, get current_b:-73.75696386562964,the loss is:211.16734658720608\n",
      "When time is:700,get current_k:48.802867158458724, get current_b:-73.77672671147977,the loss is:210.39864410981994\n",
      "When time is:750,get current_k:48.68369719798447, get current_b:-73.79648955732989,the loss is:209.62994163243394\n",
      "When time is:800,get current_k:48.56452723751022, get current_b:-73.81625240318002,the loss is:208.86123915504814\n",
      "When time is:850,get current_k:48.44535727703597, get current_b:-73.83601524903014,the loss is:208.0925366776621\n",
      "When time is:900,get current_k:48.326187316561715, get current_b:-73.85577809488026,the loss is:207.32383420027645\n",
      "When time is:950,get current_k:48.20701735608746, get current_b:-73.87554094073039,the loss is:206.5551317228901\n",
      "When time is:1000,get current_k:48.08784739561321, get current_b:-73.89530378658051,the loss is:205.7864292455045\n",
      "When time is:1050,get current_k:47.96867743513896, get current_b:-73.91506663243064,the loss is:205.01772676811842\n",
      "When time is:1100,get current_k:47.849507474664705, get current_b:-73.93482947828076,the loss is:204.24902429073228\n",
      "When time is:1150,get current_k:47.73033751419045, get current_b:-73.95459232413089,the loss is:203.48032181334625\n",
      "When time is:1200,get current_k:47.6111675537162, get current_b:-73.97435516998101,the loss is:202.71161933596045\n",
      "When time is:1250,get current_k:47.49199759324195, get current_b:-73.99411801583113,the loss is:201.94291685857468\n",
      "When time is:1300,get current_k:47.372827632767695, get current_b:-74.01388086168126,the loss is:201.17421438118834\n",
      "When time is:1350,get current_k:47.25365767229344, get current_b:-74.03364370753138,the loss is:200.40551190380273\n",
      "When time is:1400,get current_k:47.13448771181919, get current_b:-74.0534065533815,the loss is:199.63680942641665\n",
      "When time is:1450,get current_k:47.01531775134494, get current_b:-74.07316939923163,the loss is:198.86810694903073\n",
      "When time is:1500,get current_k:46.896147790870685, get current_b:-74.09293224508176,the loss is:198.09940447164468\n",
      "When time is:1550,get current_k:46.77697783039643, get current_b:-74.11269509093188,the loss is:197.33070199425845\n",
      "When time is:1600,get current_k:46.65780786992218, get current_b:-74.132457936782,the loss is:196.56199951687282\n",
      "When time is:1650,get current_k:46.53863790944793, get current_b:-74.15222078263213,the loss is:195.79329703948684\n",
      "When time is:1700,get current_k:46.419467948973676, get current_b:-74.17198362848225,the loss is:195.02459456210067\n",
      "When time is:1750,get current_k:46.30029798849942, get current_b:-74.19174647433238,the loss is:194.25589208471473\n",
      "When time is:1800,get current_k:46.18112802802517, get current_b:-74.2115093201825,the loss is:193.48718960732873\n",
      "When time is:1850,get current_k:46.06195806755092, get current_b:-74.23127216603262,the loss is:192.718487129943\n",
      "When time is:1900,get current_k:45.942788107076666, get current_b:-74.25103501188275,the loss is:191.94978465255684\n",
      "When time is:1950,get current_k:45.82361814660241, get current_b:-74.27079785773287,the loss is:191.18108217517073\n",
      "When time is:2000,get current_k:45.70444818612816, get current_b:-74.290560703583,the loss is:190.41237969778498\n",
      "When time is:2050,get current_k:45.58527822565391, get current_b:-74.31032354943312,the loss is:189.64367722039893\n",
      "When time is:2100,get current_k:45.466108265179656, get current_b:-74.33008639528325,the loss is:188.87497474301307\n",
      "When time is:2150,get current_k:45.346938304705404, get current_b:-74.34984924113337,the loss is:188.10627226562704\n",
      "When time is:2200,get current_k:45.22776834423115, get current_b:-74.3696120869835,the loss is:187.33756978824098\n",
      "When time is:2250,get current_k:45.1085983837569, get current_b:-74.38937493283362,the loss is:186.56886731085532\n",
      "When time is:2300,get current_k:44.98942842328265, get current_b:-74.40913777868374,the loss is:185.80016483346924\n",
      "When time is:2350,get current_k:44.870258462808394, get current_b:-74.42890062453387,the loss is:185.03146235608335\n",
      "When time is:2400,get current_k:44.75108850233414, get current_b:-74.44866347038399,the loss is:184.26275987869735\n",
      "When time is:2450,get current_k:44.63191854185989, get current_b:-74.46842631623412,the loss is:183.4940574013115\n",
      "When time is:2500,get current_k:44.51274858138564, get current_b:-74.48818916208424,the loss is:182.72535492392527\n",
      "When time is:2550,get current_k:44.393578620911384, get current_b:-74.50795200793436,the loss is:181.95665244653935\n",
      "When time is:2600,get current_k:44.27440866043713, get current_b:-74.52771485378449,the loss is:181.18794996915335\n",
      "When time is:2650,get current_k:44.15523869996288, get current_b:-74.54747769963461,the loss is:180.41924749176732\n",
      "When time is:2700,get current_k:44.03606873948863, get current_b:-74.56724054548474,the loss is:179.65054501438163\n",
      "When time is:2750,get current_k:43.916898779014375, get current_b:-74.58700339133486,the loss is:178.88184253699563\n",
      "When time is:2800,get current_k:43.79772881854012, get current_b:-74.60676623718498,the loss is:178.11314005960963\n",
      "When time is:2850,get current_k:43.67855885806587, get current_b:-74.62652908303511,the loss is:177.34443758222372\n",
      "When time is:2900,get current_k:43.55938889759162, get current_b:-74.64629192888523,the loss is:176.57573510483766\n",
      "When time is:2950,get current_k:43.440218937117365, get current_b:-74.66605477473536,the loss is:175.80703262745175\n",
      "When time is:3000,get current_k:43.32104897664311, get current_b:-74.68581762058548,the loss is:175.03833015006558\n",
      "When time is:3050,get current_k:43.20187901616886, get current_b:-74.7055804664356,the loss is:174.26962767267966\n",
      "When time is:3100,get current_k:43.08270905569461, get current_b:-74.72534331228573,the loss is:173.50092519529383\n",
      "When time is:3150,get current_k:42.963539095220355, get current_b:-74.74510615813585,the loss is:172.73222271790786\n",
      "When time is:3200,get current_k:42.8443691347461, get current_b:-74.76486900398598,the loss is:171.9635202405219\n",
      "When time is:3250,get current_k:42.72519917427185, get current_b:-74.7846318498361,the loss is:171.1948177631357\n",
      "When time is:3300,get current_k:42.6060292137976, get current_b:-74.80439469568623,the loss is:170.42611528575014\n",
      "When time is:3350,get current_k:42.486859253323345, get current_b:-74.82415754153635,the loss is:169.65741280836383\n",
      "When time is:3400,get current_k:42.36768929284909, get current_b:-74.84392038738648,the loss is:168.88871033097797\n",
      "When time is:3450,get current_k:42.24851933237484, get current_b:-74.8636832332366,the loss is:168.12000785359228\n",
      "When time is:3500,get current_k:42.12934937190059, get current_b:-74.88344607908672,the loss is:167.35130537620614\n",
      "When time is:3550,get current_k:42.010179411426336, get current_b:-74.90320892493685,the loss is:166.58260289882028\n",
      "When time is:3600,get current_k:41.89100945095208, get current_b:-74.92297177078697,the loss is:165.8139004214341\n",
      "When time is:3650,get current_k:41.77183949047783, get current_b:-74.9427346166371,the loss is:165.04519794404825\n",
      "When time is:3700,get current_k:41.65266953000358, get current_b:-74.96249746248722,the loss is:164.27649546666203\n",
      "When time is:3750,get current_k:41.533499569529326, get current_b:-74.98226030833735,the loss is:163.50779298927614\n",
      "When time is:3800,get current_k:41.41432960905507, get current_b:-75.00202315418747,the loss is:162.7390905118902\n",
      "When time is:3850,get current_k:41.29515964858082, get current_b:-75.0217860000376,the loss is:161.97038803450442\n",
      "When time is:3900,get current_k:41.17598968810657, get current_b:-75.04154884588772,the loss is:161.2016855571186\n",
      "When time is:3950,get current_k:41.056819727632316, get current_b:-75.06131169173784,the loss is:160.4329830797323\n",
      "When time is:4000,get current_k:40.937649767158064, get current_b:-75.08107453758797,the loss is:159.66428060234634\n",
      "When time is:4050,get current_k:40.81847980668381, get current_b:-75.10083738343809,the loss is:158.89557812496045\n",
      "When time is:4100,get current_k:40.69930984620956, get current_b:-75.12060022928821,the loss is:158.12687564757462\n",
      "When time is:4150,get current_k:40.580139885735306, get current_b:-75.14036307513834,the loss is:157.35817317018848\n",
      "When time is:4200,get current_k:40.460969925261054, get current_b:-75.16012592098846,the loss is:156.58947069280276\n",
      "When time is:4250,get current_k:40.3417999647868, get current_b:-75.17988876683859,the loss is:155.8207682154167\n",
      "When time is:4300,get current_k:40.22263000431255, get current_b:-75.19965161268871,the loss is:155.05206573803076\n",
      "When time is:4350,get current_k:40.1034600438383, get current_b:-75.21941445853884,the loss is:154.28336326064482\n",
      "When time is:4400,get current_k:39.984290083364044, get current_b:-75.23917730438896,the loss is:153.51466078325873\n",
      "When time is:4450,get current_k:39.86512012288979, get current_b:-75.25894015023908,the loss is:152.74595830587276\n",
      "When time is:4500,get current_k:39.74595016241554, get current_b:-75.27870299608921,the loss is:151.97725582848688\n",
      "When time is:4550,get current_k:39.62678020194129, get current_b:-75.29846584193933,the loss is:151.20855335110085\n",
      "When time is:4600,get current_k:39.507610241467034, get current_b:-75.31822868778946,the loss is:150.43985087371496\n",
      "When time is:4650,get current_k:39.38844028099278, get current_b:-75.33799153363958,the loss is:149.67114839632902\n",
      "When time is:4700,get current_k:39.26927032051853, get current_b:-75.3577543794897,the loss is:148.9024459189429\n",
      "When time is:4750,get current_k:39.15010036004428, get current_b:-75.37751722533983,the loss is:148.13374344155704\n",
      "When time is:4800,get current_k:39.030930399570025, get current_b:-75.39728007118995,the loss is:147.36504096417107\n",
      "When time is:4850,get current_k:38.91176043909577, get current_b:-75.41704291704008,the loss is:146.5963384867851\n",
      "When time is:4900,get current_k:38.79259047862152, get current_b:-75.4368057628902,the loss is:145.82763600939913\n",
      "When time is:4950,get current_k:38.67342051814727, get current_b:-75.45656860874033,the loss is:145.05893353201319\n",
      "When time is:5000,get current_k:38.554250557673015, get current_b:-75.47633145459045,the loss is:144.29023105462718\n",
      "When time is:5050,get current_k:38.43508059719876, get current_b:-75.49609430044057,the loss is:143.52152857724118\n",
      "When time is:5100,get current_k:38.31591063672451, get current_b:-75.5158571462907,the loss is:142.75282609985527\n",
      "When time is:5150,get current_k:38.19674067625026, get current_b:-75.53561999214082,the loss is:141.98412362246933\n",
      "When time is:5200,get current_k:38.077570715776005, get current_b:-75.55538283799095,the loss is:141.2154211450834\n",
      "When time is:5250,get current_k:37.95840075530175, get current_b:-75.57514568384107,the loss is:140.44671866769735\n",
      "When time is:5300,get current_k:37.8392307948275, get current_b:-75.5949085296912,the loss is:139.6780161903115\n",
      "When time is:5350,get current_k:37.72006083435325, get current_b:-75.61467137554132,the loss is:138.90931371292547\n",
      "When time is:5400,get current_k:37.600890873878996, get current_b:-75.63443422139144,the loss is:138.14061123553944\n",
      "When time is:5450,get current_k:37.48172091340474, get current_b:-75.65419706724157,the loss is:137.37190875815352\n",
      "When time is:5500,get current_k:37.36255095293049, get current_b:-75.6739599130917,the loss is:136.6032062807676\n",
      "When time is:5550,get current_k:37.24338099245624, get current_b:-75.69372275894182,the loss is:135.83450380338155\n",
      "When time is:5600,get current_k:37.124211031981986, get current_b:-75.71348560479194,the loss is:135.0658013259957\n",
      "When time is:5650,get current_k:37.00504107150773, get current_b:-75.73324845064207,the loss is:134.29709884860972\n",
      "When time is:5700,get current_k:36.88587111103348, get current_b:-75.75301129649219,the loss is:133.52839637122375\n",
      "When time is:5750,get current_k:36.76670115055923, get current_b:-75.77277414234231,the loss is:132.75969389383766\n",
      "When time is:5800,get current_k:36.647531190084976, get current_b:-75.79253698819244,the loss is:131.99099141645175\n",
      "When time is:5850,get current_k:36.528361229610724, get current_b:-75.81229983404256,the loss is:131.22228893906575\n",
      "When time is:5900,get current_k:36.40919126913647, get current_b:-75.83206267989269,the loss is:130.45358646167992\n",
      "When time is:5950,get current_k:36.29002130866222, get current_b:-75.85182552574281,the loss is:129.68488398429415\n",
      "When time is:6000,get current_k:36.170851348187966, get current_b:-75.87158837159294,the loss is:128.91618150690792\n",
      "When time is:6050,get current_k:36.051681387713714, get current_b:-75.89135121744306,the loss is:128.14747902952192\n",
      "When time is:6100,get current_k:35.93251142723946, get current_b:-75.91111406329318,the loss is:127.37877655213605\n",
      "When time is:6150,get current_k:35.81334146676521, get current_b:-75.93087690914331,the loss is:126.61007407475005\n",
      "When time is:6200,get current_k:35.69417150629096, get current_b:-75.95063975499343,the loss is:125.84137159736414\n",
      "When time is:6250,get current_k:35.575001545816704, get current_b:-75.97040260084356,the loss is:125.07266911997806\n",
      "When time is:6300,get current_k:35.45583158534245, get current_b:-75.99016544669368,the loss is:124.3039666425921\n",
      "When time is:6350,get current_k:35.3366616248682, get current_b:-76.0099282925438,the loss is:123.5352641652062\n",
      "When time is:6400,get current_k:35.21749166439395, get current_b:-76.02969113839393,the loss is:122.76656168782017\n",
      "When time is:6450,get current_k:35.098321703919694, get current_b:-76.04945398424405,the loss is:121.99785921043414\n",
      "When time is:6500,get current_k:34.97915174344544, get current_b:-76.06921683009418,the loss is:121.22915673304833\n",
      "When time is:6550,get current_k:34.85998178297119, get current_b:-76.0889796759443,the loss is:120.46045425566223\n",
      "When time is:6600,get current_k:34.74081182249694, get current_b:-76.10874252179443,the loss is:119.69175177827621\n",
      "When time is:6650,get current_k:34.621641862022685, get current_b:-76.12850536764455,the loss is:118.92304930089045\n",
      "When time is:6700,get current_k:34.50247190154843, get current_b:-76.14826821349467,the loss is:118.15434682350441\n",
      "When time is:6750,get current_k:34.38330194107418, get current_b:-76.1680310593448,the loss is:117.38564434611848\n",
      "When time is:6800,get current_k:34.26413198059993, get current_b:-76.18779390519492,the loss is:116.61694186873254\n",
      "When time is:6850,get current_k:34.144962020125675, get current_b:-76.20755675104505,the loss is:115.84823939134661\n",
      "When time is:6900,get current_k:34.02579205965142, get current_b:-76.22731959689517,the loss is:115.07953691396055\n",
      "When time is:6950,get current_k:33.90662209917717, get current_b:-76.2470824427453,the loss is:114.31083443657464\n",
      "When time is:7000,get current_k:33.78745213870292, get current_b:-76.26684528859542,the loss is:113.54213195918861\n",
      "When time is:7050,get current_k:33.668282178228665, get current_b:-76.28660813444554,the loss is:112.77342948180264\n",
      "When time is:7100,get current_k:33.54911221775441, get current_b:-76.30637098029567,the loss is:112.00472700441676\n",
      "When time is:7150,get current_k:33.42994225728016, get current_b:-76.32613382614579,the loss is:111.23602452703079\n",
      "When time is:7200,get current_k:33.31077229680591, get current_b:-76.34589667199592,the loss is:110.46732204964471\n",
      "When time is:7250,get current_k:33.191602336331655, get current_b:-76.36565951784604,the loss is:109.69861957225886\n",
      "When time is:7300,get current_k:33.0724323758574, get current_b:-76.38542236369616,the loss is:108.92991709487296\n",
      "When time is:7350,get current_k:32.95326241538315, get current_b:-76.40518520954629,the loss is:108.16121461748686\n",
      "When time is:7400,get current_k:32.8340924549089, get current_b:-76.42494805539641,the loss is:107.39251214010098\n",
      "When time is:7450,get current_k:32.714922494434646, get current_b:-76.44471090124654,the loss is:106.623809662715\n",
      "When time is:7500,get current_k:32.59575253396039, get current_b:-76.46447374709666,the loss is:105.85510718532903\n",
      "When time is:7550,get current_k:32.47658257348614, get current_b:-76.48423659294679,the loss is:105.08640470794303\n",
      "When time is:7600,get current_k:32.35741261301189, get current_b:-76.50399943879691,the loss is:104.31770223055709\n",
      "When time is:7650,get current_k:32.238242652537636, get current_b:-76.52376228464703,the loss is:103.54899975317102\n",
      "When time is:7700,get current_k:32.119072692063384, get current_b:-76.54352513049716,the loss is:102.78029727578517\n",
      "When time is:7750,get current_k:31.99990273158913, get current_b:-76.56328797634728,the loss is:102.01159479839903\n",
      "When time is:7800,get current_k:31.88073277111488, get current_b:-76.58305082219741,the loss is:101.24289232101316\n",
      "When time is:7850,get current_k:31.761562810640626, get current_b:-76.60281366804753,the loss is:100.47418984362731\n",
      "When time is:7900,get current_k:31.642392850166374, get current_b:-76.62257651389766,the loss is:99.7054873662414\n",
      "When time is:7950,get current_k:31.52322288969212, get current_b:-76.64233935974778,the loss is:98.9367848888554\n",
      "When time is:8000,get current_k:31.40405292921787, get current_b:-76.6621022055979,the loss is:98.16808241146936\n",
      "When time is:8050,get current_k:31.284882968743617, get current_b:-76.68186505144803,the loss is:97.3993799340834\n",
      "When time is:8100,get current_k:31.165713008269364, get current_b:-76.70162789729815,the loss is:96.63067745669753\n",
      "When time is:8150,get current_k:31.04654304779511, get current_b:-76.72139074314828,the loss is:95.86197497931155\n",
      "When time is:8200,get current_k:30.92737308732086, get current_b:-76.7411535889984,the loss is:95.09327250192557\n",
      "When time is:8250,get current_k:30.808203126846607, get current_b:-76.76091643484853,the loss is:94.32457002453954\n",
      "When time is:8300,get current_k:30.689033166372354, get current_b:-76.78067928069865,the loss is:93.5558675471536\n",
      "When time is:8350,get current_k:30.569863205898102, get current_b:-76.80044212654877,the loss is:92.78716506976758\n",
      "When time is:8400,get current_k:30.45069324542385, get current_b:-76.8202049723989,the loss is:92.01846259238174\n",
      "When time is:8450,get current_k:30.331523284949597, get current_b:-76.83996781824902,the loss is:91.24976011499568\n",
      "When time is:8500,get current_k:30.212353324475345, get current_b:-76.85973066409915,the loss is:90.48105763760982\n",
      "When time is:8550,get current_k:30.093183364001092, get current_b:-76.87949350994927,the loss is:89.71235516022374\n",
      "When time is:8600,get current_k:29.97401340352684, get current_b:-76.8992563557994,the loss is:88.94365268283781\n",
      "When time is:8650,get current_k:29.854843443052587, get current_b:-76.91901920164952,the loss is:88.17495020545182\n",
      "When time is:8700,get current_k:29.735673482578335, get current_b:-76.93878204749964,the loss is:87.40624772806595\n",
      "When time is:8750,get current_k:29.616503522104082, get current_b:-76.95854489334977,the loss is:86.63754525068002\n",
      "When time is:8800,get current_k:29.49733356162983, get current_b:-76.97830773919989,the loss is:85.86884277329399\n",
      "When time is:8850,get current_k:29.378163601155578, get current_b:-76.99807058505002,the loss is:85.10014029590799\n",
      "When time is:8900,get current_k:29.258993640681325, get current_b:-77.01783343090014,the loss is:84.33272855795454\n",
      "When time is:8950,get current_k:29.139823680207073, get current_b:-77.03759627675026,the loss is:83.56578152355326\n",
      "When time is:9000,get current_k:29.02065371973282, get current_b:-77.05735912260039,the loss is:82.7988344891519\n",
      "When time is:9050,get current_k:28.901483759258568, get current_b:-77.07712196845051,the loss is:82.03188745475036\n",
      "When time is:9100,get current_k:28.782313798784315, get current_b:-77.09688481430064,the loss is:81.26494042034919\n",
      "When time is:9150,get current_k:28.663143838310063, get current_b:-77.11664766015076,the loss is:80.49799338594767\n",
      "When time is:9200,get current_k:28.54397387783581, get current_b:-77.13641050600089,the loss is:79.73104635154631\n",
      "When time is:9250,get current_k:28.424803917361558, get current_b:-77.15617335185101,the loss is:78.964099317145\n",
      "When time is:9300,get current_k:28.305633956887306, get current_b:-77.17593619770113,the loss is:78.1971522827436\n",
      "When time is:9350,get current_k:28.186463996413053, get current_b:-77.19569904355126,the loss is:77.4302052483422\n",
      "When time is:9400,get current_k:28.0672940359388, get current_b:-77.21546188940138,the loss is:76.66325821394071\n",
      "When time is:9450,get current_k:27.94812407546455, get current_b:-77.2352247352515,the loss is:75.89631117953928\n",
      "When time is:9500,get current_k:27.828954114990296, get current_b:-77.25498758110163,the loss is:75.12936414513798\n",
      "When time is:9550,get current_k:27.709784154516043, get current_b:-77.27475042695175,the loss is:74.3624171107366\n",
      "When time is:9600,get current_k:27.59061419404179, get current_b:-77.29451327280188,the loss is:73.59547007633527\n",
      "When time is:9650,get current_k:27.47144423356754, get current_b:-77.314276118652,the loss is:72.82852304193392\n",
      "When time is:9700,get current_k:27.352274273093286, get current_b:-77.33403896450213,the loss is:72.06157600753247\n",
      "When time is:9750,get current_k:27.233104312619034, get current_b:-77.35380181035225,the loss is:71.29462897313111\n",
      "When time is:9800,get current_k:27.11393435214478, get current_b:-77.37356465620238,the loss is:70.52768193872973\n",
      "When time is:9850,get current_k:26.99476439167053, get current_b:-77.3933275020525,the loss is:69.76073490432834\n",
      "When time is:9900,get current_k:26.875594431196276, get current_b:-77.41309034790262,the loss is:68.99378786992693\n",
      "When time is:9950,get current_k:26.756424470722024, get current_b:-77.43285319375275,the loss is:68.22684083552558\n",
      "When time is:10000,get current_k:26.63725451024777, get current_b:-77.45261603960287,the loss is:67.4598938011242\n",
      "When time is:10050,get current_k:26.51808454977352, get current_b:-77.472378885453,the loss is:66.69294676672278\n",
      "When time is:10100,get current_k:26.398914589299267, get current_b:-77.49214173130312,the loss is:65.9259997323214\n",
      "When time is:10150,get current_k:26.279744628825014, get current_b:-77.51190457715325,the loss is:65.15905269791995\n",
      "When time is:10200,get current_k:26.160574668350762, get current_b:-77.53166742300337,the loss is:64.39210566351866\n",
      "When time is:10250,get current_k:26.04140470787651, get current_b:-77.5514302688535,the loss is:63.62537002786164\n",
      "When time is:10300,get current_k:25.922234747402257, get current_b:-77.57119311470362,the loss is:62.86032068675345\n",
      "When time is:10350,get current_k:25.803064786928005, get current_b:-77.59095596055374,the loss is:62.095271345645145\n",
      "When time is:10400,get current_k:25.683894826453752, get current_b:-77.61071880640387,the loss is:61.33022200453687\n",
      "When time is:10450,get current_k:25.5647248659795, get current_b:-77.63048165225399,the loss is:60.56744064393589\n",
      "When time is:10500,get current_k:25.445554905505247, get current_b:-77.65024449810412,the loss is:59.80481042357633\n",
      "When time is:10550,get current_k:25.326384945030995, get current_b:-77.67000734395424,the loss is:59.04218020321671\n",
      "When time is:10600,get current_k:25.207214984556742, get current_b:-77.68977018980436,the loss is:58.279549982857056\n",
      "When time is:10650,get current_k:25.08804502408249, get current_b:-77.70953303565449,the loss is:57.516919762497444\n",
      "When time is:10700,get current_k:24.968875063608237, get current_b:-77.72929588150461,the loss is:56.75428954213791\n",
      "When time is:10750,get current_k:24.849705103133985, get current_b:-77.74905872735474,the loss is:55.99165932177826\n",
      "When time is:10800,get current_k:24.730535142659733, get current_b:-77.76882157320486,the loss is:55.229029101418625\n",
      "When time is:10850,get current_k:24.61136518218548, get current_b:-77.78858441905498,the loss is:54.466398881059014\n",
      "When time is:10900,get current_k:24.492195221711228, get current_b:-77.80834726490511,the loss is:53.703768660699424\n",
      "When time is:10950,get current_k:24.373025261236975, get current_b:-77.82811011075523,the loss is:52.94113844033986\n",
      "When time is:11000,get current_k:24.253855300762723, get current_b:-77.84787295660536,the loss is:52.17850821998019\n",
      "When time is:11050,get current_k:24.13468534028847, get current_b:-77.86763580245548,the loss is:51.41587799962064\n",
      "When time is:11100,get current_k:24.015515379814218, get current_b:-77.8873986483056,the loss is:50.65324777926104\n",
      "When time is:11150,get current_k:23.896345419339966, get current_b:-77.90716149415573,the loss is:49.89061755890137\n",
      "When time is:11200,get current_k:23.777175458865713, get current_b:-77.92692434000585,the loss is:49.12798733854182\n",
      "When time is:11250,get current_k:23.65800549839146, get current_b:-77.94668718585598,the loss is:48.36535711818216\n",
      "When time is:11300,get current_k:23.53883553791721, get current_b:-77.9664500317061,the loss is:47.60272689782262\n",
      "When time is:11350,get current_k:23.419665577442956, get current_b:-77.98621287755623,the loss is:46.840096677462974\n",
      "When time is:11400,get current_k:23.300495616968703, get current_b:-78.00597572340635,the loss is:46.07746645710334\n",
      "When time is:11450,get current_k:23.18132565649445, get current_b:-78.02573856925648,the loss is:45.31483623674378\n",
      "When time is:11500,get current_k:23.0621556960202, get current_b:-78.0455014151066,the loss is:44.552206016384154\n",
      "When time is:11550,get current_k:22.942985735545946, get current_b:-78.06526426095672,the loss is:43.78957579602458\n",
      "When time is:11600,get current_k:22.823815775071694, get current_b:-78.08502710680685,the loss is:43.026945575664946\n",
      "When time is:11650,get current_k:22.70464581459744, get current_b:-78.10478995265697,the loss is:42.26431535530534\n",
      "When time is:11700,get current_k:22.58547585412319, get current_b:-78.1245527985071,the loss is:41.5016851349457\n",
      "When time is:11750,get current_k:22.466305893648936, get current_b:-78.14431564435722,the loss is:40.73905491458614\n",
      "When time is:11800,get current_k:22.347135933174684, get current_b:-78.16407849020734,the loss is:39.97642469422652\n",
      "When time is:11850,get current_k:22.22796597270043, get current_b:-78.18384133605747,the loss is:39.21381233213185\n",
      "When time is:11900,get current_k:22.10879601222618, get current_b:-78.2036041819076,the loss is:38.453209337631094\n",
      "When time is:11950,get current_k:21.989626051751927, get current_b:-78.22336702775772,the loss is:37.69260634313037\n",
      "When time is:12000,get current_k:21.870456091277674, get current_b:-78.24312987360784,the loss is:36.9320033486296\n",
      "When time is:12050,get current_k:21.75128613080342, get current_b:-78.26289271945797,the loss is:36.17389109488451\n",
      "When time is:12100,get current_k:21.63211617032917, get current_b:-78.28265556530809,the loss is:35.41816072688939\n",
      "When time is:12150,get current_k:21.512946209854917, get current_b:-78.30241841115821,the loss is:34.66243035889432\n",
      "When time is:12200,get current_k:21.393776249380664, get current_b:-78.32218125700834,the loss is:33.90669999089921\n",
      "When time is:12250,get current_k:21.274606288906412, get current_b:-78.34194410285846,the loss is:33.150969622904135\n",
      "When time is:12300,get current_k:21.15543632843216, get current_b:-78.36170694870859,the loss is:32.39523925490905\n",
      "When time is:12350,get current_k:21.036266367957907, get current_b:-78.38146979455871,the loss is:31.63950888691396\n",
      "When time is:12400,get current_k:20.917096407483655, get current_b:-78.40123264040884,the loss is:30.88377851891882\n",
      "When time is:12450,get current_k:20.797926447009402, get current_b:-78.42099548625896,the loss is:30.12831768408383\n",
      "When time is:12500,get current_k:20.67875648653515, get current_b:-78.44075833210908,the loss is:29.374845345428362\n",
      "When time is:12550,get current_k:20.559586526060897, get current_b:-78.46052117795921,the loss is:28.623990126662093\n",
      "When time is:12600,get current_k:20.440416565586645, get current_b:-78.48028402380933,the loss is:27.873523809034904\n",
      "When time is:12650,get current_k:20.321246605112393, get current_b:-78.50004686965946,the loss is:27.123057491407707\n",
      "When time is:12700,get current_k:20.20207664463814, get current_b:-78.51980971550958,the loss is:26.373211345038115\n",
      "When time is:12750,get current_k:20.082906684163888, get current_b:-78.5395725613597,the loss is:25.625160850967035\n",
      "When time is:12800,get current_k:19.963736723689635, get current_b:-78.55933540720983,the loss is:24.87773380906244\n",
      "When time is:12850,get current_k:19.844566763215383, get current_b:-78.57909825305995,the loss is:24.131818877177913\n",
      "When time is:12900,get current_k:19.72539680274113, get current_b:-78.59886109891008,the loss is:23.385903945293368\n",
      "When time is:12950,get current_k:19.606226842266878, get current_b:-78.6186239447602,the loss is:22.63998901340879\n",
      "When time is:13000,get current_k:19.487056881792626, get current_b:-78.63838679061033,the loss is:21.894074081524245\n",
      "When time is:13050,get current_k:19.367886921318373, get current_b:-78.65814963646045,the loss is:21.14815914963971\n",
      "When time is:13100,get current_k:19.24871696084412, get current_b:-78.67791248231057,the loss is:20.402397328557473\n",
      "When time is:13150,get current_k:19.129547000369868, get current_b:-78.6976753281607,the loss is:19.6605266590213\n",
      "When time is:13200,get current_k:19.010377039895616, get current_b:-78.71743817401082,the loss is:18.92123779070421\n",
      "When time is:13250,get current_k:18.891207079421363, get current_b:-78.73720101986095,the loss is:18.189298035569752\n",
      "When time is:13300,get current_k:18.77203711894711, get current_b:-78.75696386571107,the loss is:17.463074513320088\n",
      "When time is:13350,get current_k:18.65286715847286, get current_b:-78.7767267115612,the loss is:16.743772680676983\n",
      "When time is:13400,get current_k:18.533697197998606, get current_b:-78.79648955741132,the loss is:16.029703476126432\n",
      "When time is:13450,get current_k:18.414527237524354, get current_b:-78.81625240326144,the loss is:15.323409811570702\n",
      "When time is:13500,get current_k:18.2953572770501, get current_b:-78.83601524911157,the loss is:14.62281703304135\n",
      "When time is:13550,get current_k:18.17618731657585, get current_b:-78.85577809496169,the loss is:13.9334024519898\n",
      "When time is:13600,get current_k:18.057017356101596, get current_b:-78.87554094081182,the loss is:13.251881721995195\n",
      "When time is:13650,get current_k:17.937847395627344, get current_b:-78.89530378666194,the loss is:12.572216909477039\n",
      "When time is:13700,get current_k:17.81867743515309, get current_b:-78.91506663251207,the loss is:11.894163747031172\n",
      "When time is:13750,get current_k:17.69950747467884, get current_b:-78.93482947836219,the loss is:11.216110584585305\n",
      "When time is:13800,get current_k:17.580337514204587, get current_b:-78.95459232421231,the loss is:10.543540585683397\n",
      "When time is:13850,get current_k:17.461167553730334, get current_b:-78.97435517006244,the loss is:9.88191508221891\n",
      "When time is:13900,get current_k:17.34199759325608, get current_b:-78.99411801591256,the loss is:9.237667503215821\n",
      "When time is:13950,get current_k:17.22282763278183, get current_b:-79.01388086176269,the loss is:8.623289219489898\n",
      "When time is:14000,get current_k:17.103657672307577, get current_b:-79.03364370761281,the loss is:8.046455786745156\n",
      "When time is:14050,get current_k:16.984487711833324, get current_b:-79.05340655346293,the loss is:7.513823518688881\n",
      "When time is:14100,get current_k:16.865317751359072, get current_b:-79.07316939931306,the loss is:7.032077138405787\n",
      "When time is:14150,get current_k:16.74614779088482, get current_b:-79.09293224516318,the loss is:6.610138357019729\n",
      "When time is:14200,get current_k:16.626977830410567, get current_b:-79.11269509101331,the loss is:6.24795878552994\n",
      "When time is:14250,get current_k:16.507807869936315, get current_b:-79.13245793686343,the loss is:5.952365304526153\n",
      "When time is:14300,get current_k:16.388637909462062, get current_b:-79.15222078271356,the loss is:5.734978878796841\n",
      "When time is:14350,get current_k:16.26946794898781, get current_b:-79.17198362856368,the loss is:5.614189656374912\n"
     ]
    }
   ],
   "source": [
    "import random\n",
    "trying_times = 20000\n",
    "\n",
    "X, y = data['data'], data['target']\n",
    "X_rm = X[:, 5]\n",
    "min_loss = float('inf') \n",
    "\n",
    "current_k = random.random() * 200 - 100\n",
    "current_b = random.random() * 200 - 100\n",
    "\n",
    "learning_rate = 0.2\n",
    "for i in range(trying_times):\n",
    "    price_by_k_and_b = price(X_rm,current_k,current_b)\n",
    "    current_loss = loss(y,price_by_k_and_b)\n",
    "    if current_loss < min_loss:\n",
    "        min_loss = current_loss\n",
    "        if i%50 == 0:\n",
    "            print(\"When time is:{},get current_k:{}, get current_b:{},the loss is:{}\".format(i,current_k, current_b, min_loss))\n",
    "    k_gradient = partial_k(X_rm,y,price_by_k_and_b)\n",
    "    b_gradient = partial_b(y,price_by_k_and_b)\n",
    "    current_k = current_k + (-k_gradient)*learning_rate\n",
    "    current_b = current_b + (-b_gradient)*learning_rate  "
   ]
  },
  {
   "cell_type": "code",
   "execution_count": 8,
   "metadata": {},
   "outputs": [
    {
     "data": {
      "text/plain": [
       "<matplotlib.collections.PathCollection at 0x2521b1bd5f8>"
      ]
     },
     "execution_count": 8,
     "metadata": {},
     "output_type": "execute_result"
    },
    {
     "data": {
      "image/png": "[encoded data removed]",
      "text/plain": [
       "<Figure size 432x288 with 1 Axes>"
      ]
     },
     "metadata": {
      "needs_background": "light"
     },
     "output_type": "display_data"
    }
   ],
   "source": [
    "%matplotlib inline\n",
    "import matplotlib.pyplot as plt\n",
    "X_rm = X[:, 5]\n",
    "k =16.26946794898781\n",
    "b =-79.17198362856368\n",
    "price_by_random_k_and_b = [price(r, k, b) for r in X_rm]\n",
    "\n",
    "def draw_rm_and_price():\n",
    "    plt.scatter(X_rm, y)\n",
    "draw_rm_and_price()\n",
    "plt.scatter(X_rm, price_by_random_k_and_b)"
   ]
  },
  {
   "cell_type": "markdown",
   "metadata": {},
   "source": [
    "选择合适的learning_rate很重要啊"
   ]
  },
  {
   "cell_type": "markdown",
   "metadata": {},
   "source": [
    "### Part 3: Finish the Solution Parse Part of Edit-Distance"
   ]
  },
  {
   "cell_type": "code",
   "execution_count": 1,
   "metadata": {},
   "outputs": [],
   "source": [
    "solution = {}\n",
    "change_str = {}\n",
    "from functools import lru_cache\n",
    "@lru_cache(maxsize=2**10)\n",
    "def edit_distance(string1, string2):\n",
    "    \n",
    "    if len(string1) == 0: return len(string2)\n",
    "    if len(string2) == 0: return len(string1)\n",
    "    \n",
    "    tail_s1 = string1[-1]\n",
    "    tail_s2 = string2[-1]\n",
    "    \n",
    "    candidates = [\n",
    "        (edit_distance(string1[:-1], string2) + 1, 'DEL {}'.format(tail_s1),(string1[:-1],string2)), \n",
    "        (edit_distance(string1, string2[:-1]) + 1, 'ADD {}'.format(tail_s2),(string1,string2[:-1])), \n",
    "    ]\n",
    "    \n",
    "    if tail_s1 == tail_s2:\n",
    "        both_forward = (edit_distance(string1[:-1], string2[:-1]) + 0, '',(string1[:-1], string2[:-1]))\n",
    "    else:\n",
    "        both_forward = (edit_distance(string1[:-1], string2[:-1]) + 1, 'SUB {} => {}'.format(tail_s1, tail_s2),(string1[:-1], string2[:-1]))\n",
    "\n",
    "    candidates.append(both_forward)\n",
    "    \n",
    "    min_distance, operation, pre_str= min(candidates, key=lambda x: x[0])\n",
    "    \n",
    "    solution[(string1, string2)] = pre_str,operation\n",
    "    return min_distance"
   ]
  },
  {
   "cell_type": "code",
   "execution_count": 2,
   "metadata": {},
   "outputs": [
    {
     "data": {
      "text/plain": [
       "4"
      ]
     },
     "execution_count": 2,
     "metadata": {},
     "output_type": "execute_result"
    }
   ],
   "source": [
    "edit_distance('ABDEFFFS', 'ABCEDS')"
   ]
  },
  {
   "cell_type": "code",
   "execution_count": 3,
   "metadata": {
    "scrolled": true
   },
   "outputs": [
    {
     "data": {
      "text/plain": [
       "{('A', 'A'): (('', ''), ''),\n",
       " ('A', 'AB'): (('A', 'A'), 'ADD B'),\n",
       " ('A', 'ABC'): (('A', 'AB'), 'ADD C'),\n",
       " ('A', 'ABCE'): (('A', 'ABC'), 'ADD E'),\n",
       " ('A', 'ABCED'): (('A', 'ABCE'), 'ADD D'),\n",
       " ('A', 'ABCEDS'): (('A', 'ABCED'), 'ADD S'),\n",
       " ('AB', 'A'): (('A', 'A'), 'DEL B'),\n",
       " ('AB', 'AB'): (('A', 'A'), ''),\n",
       " ('AB', 'ABC'): (('AB', 'AB'), 'ADD C'),\n",
       " ('AB', 'ABCE'): (('AB', 'ABC'), 'ADD E'),\n",
       " ('AB', 'ABCED'): (('AB', 'ABCE'), 'ADD D'),\n",
       " ('AB', 'ABCEDS'): (('AB', 'ABCED'), 'ADD S'),\n",
       " ('ABD', 'A'): (('AB', 'A'), 'DEL D'),\n",
       " ('ABD', 'AB'): (('AB', 'AB'), 'DEL D'),\n",
       " ('ABD', 'ABC'): (('AB', 'AB'), 'SUB D => C'),\n",
       " ('ABD', 'ABCE'): (('ABD', 'ABC'), 'ADD E'),\n",
       " ('ABD', 'ABCED'): (('AB', 'ABCE'), ''),\n",
       " ('ABD', 'ABCEDS'): (('ABD', 'ABCED'), 'ADD S'),\n",
       " ('ABDE', 'A'): (('ABD', 'A'), 'DEL E'),\n",
       " ('ABDE', 'AB'): (('ABD', 'AB'), 'DEL E'),\n",
       " ('ABDE', 'ABC'): (('ABD', 'ABC'), 'DEL E'),\n",
       " ('ABDE', 'ABCE'): (('ABD', 'ABC'), ''),\n",
       " ('ABDE', 'ABCED'): (('ABDE', 'ABCE'), 'ADD D'),\n",
       " ('ABDE', 'ABCEDS'): (('ABDE', 'ABCED'), 'ADD S'),\n",
       " ('ABDEF', 'A'): (('ABDE', 'A'), 'DEL F'),\n",
       " ('ABDEF', 'AB'): (('ABDE', 'AB'), 'DEL F'),\n",
       " ('ABDEF', 'ABC'): (('ABDE', 'ABC'), 'DEL F'),\n",
       " ('ABDEF', 'ABCE'): (('ABDE', 'ABCE'), 'DEL F'),\n",
       " ('ABDEF', 'ABCED'): (('ABDE', 'ABCE'), 'SUB F => D'),\n",
       " ('ABDEF', 'ABCEDS'): (('ABDEF', 'ABCED'), 'ADD S'),\n",
       " ('ABDEFF', 'A'): (('ABDEF', 'A'), 'DEL F'),\n",
       " ('ABDEFF', 'AB'): (('ABDEF', 'AB'), 'DEL F'),\n",
       " ('ABDEFF', 'ABC'): (('ABDEF', 'ABC'), 'DEL F'),\n",
       " ('ABDEFF', 'ABCE'): (('ABDEF', 'ABCE'), 'DEL F'),\n",
       " ('ABDEFF', 'ABCED'): (('ABDEF', 'ABCED'), 'DEL F'),\n",
       " ('ABDEFF', 'ABCEDS'): (('ABDEF', 'ABCED'), 'SUB F => S'),\n",
       " ('ABDEFFF', 'A'): (('ABDEFF', 'A'), 'DEL F'),\n",
       " ('ABDEFFF', 'AB'): (('ABDEFF', 'AB'), 'DEL F'),\n",
       " ('ABDEFFF', 'ABC'): (('ABDEFF', 'ABC'), 'DEL F'),\n",
       " ('ABDEFFF', 'ABCE'): (('ABDEFF', 'ABCE'), 'DEL F'),\n",
       " ('ABDEFFF', 'ABCED'): (('ABDEFF', 'ABCED'), 'DEL F'),\n",
       " ('ABDEFFF', 'ABCEDS'): (('ABDEFF', 'ABCEDS'), 'DEL F'),\n",
       " ('ABDEFFFS', 'A'): (('ABDEFFF', 'A'), 'DEL S'),\n",
       " ('ABDEFFFS', 'AB'): (('ABDEFFF', 'AB'), 'DEL S'),\n",
       " ('ABDEFFFS', 'ABC'): (('ABDEFFF', 'ABC'), 'DEL S'),\n",
       " ('ABDEFFFS', 'ABCE'): (('ABDEFFF', 'ABCE'), 'DEL S'),\n",
       " ('ABDEFFFS', 'ABCED'): (('ABDEFFF', 'ABCED'), 'DEL S'),\n",
       " ('ABDEFFFS', 'ABCEDS'): (('ABDEFFF', 'ABCED'), '')}"
      ]
     },
     "execution_count": 3,
     "metadata": {},
     "output_type": "execute_result"
    }
   ],
   "source": [
    "solution"
   ]
  },
  {
   "cell_type": "code",
   "execution_count": 4,
   "metadata": {},
   "outputs": [],
   "source": [
    "value_ops=[]\n",
    "def parse_solution(string1, string2):\n",
    "    n = len(string1)-1\n",
    "    while n >= 0:\n",
    "        left_split,right_split = solution[(string1, string2)]\n",
    "        (string1, string2) = left_split\n",
    "        value_ops.append(right_split+ '(第{}个元素)'.format(n+1))\n",
    "        for i in value_ops: \n",
    "            if i==(\"\"+'(第{}个元素)'.format(n+1)): value_ops.remove(i) \n",
    "        n = n-1 \n",
    "    return value_ops"
   ]
  },
  {
   "cell_type": "code",
   "execution_count": 5,
   "metadata": {},
   "outputs": [
    {
     "data": {
      "text/plain": [
       "['DEL F(第7个元素)', 'DEL F(第6个元素)', 'SUB F => D(第5个元素)', 'SUB D => C(第3个元素)']"
      ]
     },
     "execution_count": 5,
     "metadata": {},
     "output_type": "execute_result"
    }
   ],
   "source": [
    " parse_solution('ABDEFFFS', 'ABCEDS')"
   ]
  },
  {
   "cell_type": "markdown",
   "metadata": {},
   "source": [
    "### Part 4 Choose 1 - 2 books to keep reading: \n",
    "\n",
    "+ SICP, Structure and Interpretation of Computer Programming. \n",
    "+ Introduction to Algorithms \n",
    "+ Artificial Intelligence A Modern Approach (3rd Edition) \n",
    "+ Code Complete 2 \n",
    "+ Programming Pearls \n",
    "+ Deep Learning\n",
    "+ 黑客与画家\n",
    "+ 数学之美\n",
    "+ Fluent Python\n",
    "+ Hands on Tensorflow\n",
    "+ Conference: NIPS_ ICML_ ICLR_ ACL_ AAAI\n",
    "\n",
    "> most books you may find in our github: https://github.com/Computing-Intelligence/References"
   ]
  },
  {
   "cell_type": "markdown",
   "metadata": {},
   "source": [
    "## Part 5-1: review machine learning"
   ]
  },
  {
   "cell_type": "markdown",
   "metadata": {},
   "source": [
    "1. Why do we use Derivative / Gredient to fit a target function?¶"
   ]
  },
  {
   "cell_type": "raw",
   "metadata": {},
   "source": [
    "Ans: To find the best direction to get the min loss."
   ]
  },
  {
   "cell_type": "markdown",
   "metadata": {},
   "source": [
    "2. In the words 'Gredient Descent', what's the Gredient and what's the Descent?¶"
   ]
  },
  {
   "cell_type": "raw",
   "metadata": {},
   "source": [
    "Ans: “梯度”是Loss函数对拟合参数的偏导数，“下降”指偏导数随着拟合参数变化的反方向变化"
   ]
  },
  {
   "cell_type": "markdown",
   "metadata": {},
   "source": [
    "\n",
    "3. What's the advantages of the 3rd gradient descent method compared to the previous methods?"
   ]
  },
  {
   "cell_type": "raw",
   "metadata": {},
   "source": [
    "Ans:每次都能向着最优的方向变化"
   ]
  },
  {
   "cell_type": "markdown",
   "metadata": {},
   "source": [
    "4. Using the simple words to describe: What's the machine leanring.¶"
   ]
  },
  {
   "cell_type": "raw",
   "metadata": {},
   "source": [
    "Ans:寻找最优的方法给出最佳拟合函数的过程"
   ]
  },
  {
   "cell_type": "markdown",
   "metadata": {},
   "source": [
    "### Part 5: Answer following questions: "
   ]
  },
  {
   "cell_type": "markdown",
   "metadata": {},
   "source": [
    "1. Why do we need dynamic programming? What's the difference of dynamic programming and previous talked `search` problme? "
   ]
  },
  {
   "cell_type": "raw",
   "metadata": {},
   "source": [
    "避免重复运算；动态规划是解决问题的一种优化方法，搜索是一个人工智能的方法，如果某类问题需要通过重复搜索的方法实现，那么使用动态规划可以将搜索路径优化，从而节约计算时间"
   ]
  },
  {
   "cell_type": "markdown",
   "metadata": {},
   "source": [
    "2. Why do we still need dynamic programming? Why not we train a machine learning to fit a function which could get the `right` answer based on inputs?"
   ]
  },
  {
   "cell_type": "raw",
   "metadata": {},
   "source": []
  },
  {
   "cell_type": "markdown",
   "metadata": {},
   "source": [
    "3. Can you catch up at least 3 problems which could solved by Dynamic Programming? "
   ]
  },
  {
   "cell_type": "raw",
   "metadata": {},
   "source": [
    "外卖；五子棋；扫地机器人；贪吃蛇；编辑距离"
   ]
  },
  {
   "cell_type": "markdown",
   "metadata": {},
   "source": [
    "4. Can you catch up at least 3 problems wich could sloved by Edit Distance? "
   ]
  },
  {
   "cell_type": "code",
   "execution_count": null,
   "metadata": {},
   "outputs": [],
   "source": [
    "文本替换；输入优化；文本纠错"
   ]
  },
  {
   "cell_type": "markdown",
   "metadata": {},
   "source": [
    "5. Please summarize the three main features of Dynamic Programming, and make a concise explain for each feature. "
   ]
  },
  {
   "cell_type": "raw",
   "metadata": {},
   "source": [
    "1.子问题重复：分析存在重复的子问题；\n",
    "2.自底向上的求解方法：即先储存解决最小的重复子问题，然后逐渐向外一步步扩展；\n",
    "3.给出最优解决方法：给出最优的子问题解决方法从而达到给出问题最优解的目的"
   ]
  },
  {
   "cell_type": "markdown",
   "metadata": {},
   "source": [
    "6. What's the disadvantages of Dynamic Programming? (You may need search by yourself in Internet)"
   ]
  },
  {
   "cell_type": "raw",
   "metadata": {},
   "source": [
    "1.空间复杂度高；\n",
    "2.不同问题的阶段划分、状态识别等内容常需要不同的方法，无统一方法\n",
    "3.对于复杂问题，不同的处理方法得到的最优策略可能不同"
   ]
  },
  {
   "cell_type": "markdown",
   "metadata": {},
   "source": [
    "## Part 6 Preparation of Project-01"
   ]
  },
  {
   "cell_type": "markdown",
   "metadata": {},
   "source": [
    "1. Using python Flask or Bottle to finish your first simple web app:\n",
    "> https://bottlepy.org/\n",
    "\n",
    "2. Learn what's the SQL, and try some simple SQL operations:\n",
    "> https://www.w3schools.com/sql/sql_intro.asp\n",
    "\n",
    "3. Learn what's the HTML ( *ONLY* need to know the basic things)\n",
    "> https://getbootstrap.com/; https://www.w3schools.com/html/"
   ]
  },
  {
   "cell_type": "markdown",
   "metadata": {},
   "source": [
    "### (Optinal) Finish the k-person-salesman problem:"
   ]
  },
  {
   "cell_type": "code",
   "execution_count": 7,
   "metadata": {},
   "outputs": [],
   "source": [
    "import random\n",
    "import matplotlib.pylab as plt"
   ]
  },
  {
   "cell_type": "code",
   "execution_count": 8,
   "metadata": {},
   "outputs": [],
   "source": [
    "latitudes = [random.randint(-100, 100) for _ in range(20)]\n",
    "longitude = [random.randint(-100, 100) for _ in range(20)]"
   ]
  },
  {
   "cell_type": "code",
   "execution_count": 9,
   "metadata": {},
   "outputs": [
    {
     "data": {
      "text/plain": [
       "<matplotlib.collections.PathCollection at 0x11da1c588>"
      ]
     },
     "execution_count": 9,
     "metadata": {},
     "output_type": "execute_result"
    },
    {
     "data": {
      "image/png": "[encoded data removed]",
      "text/plain": [
       "<Figure size 432x288 with 1 Axes>"
      ]
     },
     "metadata": {
      "needs_background": "light"
     },
     "output_type": "display_data"
    }
   ],
   "source": [
    "plt.scatter(latitudes, longitude)"
   ]
  },
  {
   "cell_type": "markdown",
   "metadata": {},
   "source": [
    "给定一个初始点 𝑃, 已经 𝑘个车辆，如何从该点出发，经这 k 个车辆经过所以的点全部一次，而且所走过的路程最短?\n",
    "\n",
    "例如："
   ]
  },
  {
   "cell_type": "code",
   "execution_count": 14,
   "metadata": {},
   "outputs": [],
   "source": [
    "chosen_p = (-50, 10)\n",
    "chosen_p2 = (1, 30)\n",
    "chosen_p3 = (99, 15)"
   ]
  },
  {
   "cell_type": "code",
   "execution_count": 4,
   "metadata": {},
   "outputs": [],
   "source": [
    "import matplotlib.pyplot as plt"
   ]
  },
  {
   "cell_type": "code",
   "execution_count": 15,
   "metadata": {
    "scrolled": true
   },
   "outputs": [
    {
     "data": {
      "text/plain": [
       "<matplotlib.collections.PathCollection at 0x11dbbd470>"
      ]
     },
     "execution_count": 15,
     "metadata": {},
     "output_type": "execute_result"
    },
    {
     "data": {
      "image/png": "[encoded data removed]",
      "text/plain": [
       "<Figure size 432x288 with 1 Axes>"
      ]
     },
     "metadata": {
      "needs_background": "light"
     },
     "output_type": "display_data"
    }
   ],
   "source": [
    "plt.scatter(latitudes, longitude)\n",
    "plt.scatter([chosen_p[0]], [chosen_p[1]], color='r')\n",
    "plt.scatter([chosen_p2[0]], [chosen_p2[1]], color='r')\n",
    "plt.scatter([chosen_p3[0]], [chosen_p3[1]], color='r')"
   ]
  },
  {
   "cell_type": "markdown",
   "metadata": {},
   "source": [
    "shuro"
   ]
  }
 ],
 "metadata": {
  "kernelspec": {
   "display_name": "Python 3",
   "language": "python",
   "name": "python3"
  },
  "language_info": {
   "codemirror_mode": {
    "name": "ipython",
    "version": 3
   },
   "file_extension": ".py",
   "mimetype": "text/x-python",
   "name": "python",
   "nbconvert_exporter": "python",
   "pygments_lexer": "ipython3",
   "version": "3.7.1"
  }
 },
 "nbformat": 4,
 "nbformat_minor": 2
}
