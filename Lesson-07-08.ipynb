{
 "cells": [
  {
   "cell_type": "code",
   "execution_count": null,
   "metadata": {},
   "outputs": [],
   "source": [
    "!pip install sklearn"
   ]
  },
  {
   "cell_type": "code",
   "execution_count": null,
   "metadata": {},
   "outputs": [],
   "source": [
    "%matplotlib inline"
   ]
  },
  {
   "cell_type": "markdown",
   "metadata": {},
   "source": [
    "# Linear Regression Example Using Scikit Learning"
   ]
  },
  {
   "cell_type": "code",
   "execution_count": null,
   "metadata": {},
   "outputs": [],
   "source": [
    "import numpy as np"
   ]
  },
  {
   "cell_type": "code",
   "execution_count": null,
   "metadata": {},
   "outputs": [],
   "source": [
    "random_data = np.random.random((20, 2))"
   ]
  },
  {
   "cell_type": "code",
   "execution_count": null,
   "metadata": {},
   "outputs": [],
   "source": [
    "random_data"
   ]
  },
  {
   "cell_type": "code",
   "execution_count": null,
   "metadata": {},
   "outputs": [],
   "source": [
    "random_data[0]"
   ]
  },
  {
   "cell_type": "code",
   "execution_count": null,
   "metadata": {},
   "outputs": [],
   "source": [
    "import matplotlib.pyplot as plt"
   ]
  },
  {
   "cell_type": "code",
   "execution_count": null,
   "metadata": {},
   "outputs": [],
   "source": [
    "X = random_data[:, 0]"
   ]
  },
  {
   "cell_type": "code",
   "execution_count": null,
   "metadata": {},
   "outputs": [],
   "source": [
    "y = random_data[:, 1]"
   ]
  },
  {
   "cell_type": "code",
   "execution_count": null,
   "metadata": {},
   "outputs": [],
   "source": [
    "X.shape"
   ]
  },
  {
   "cell_type": "code",
   "execution_count": null,
   "metadata": {},
   "outputs": [],
   "source": [
    "X"
   ]
  },
  {
   "cell_type": "code",
   "execution_count": null,
   "metadata": {},
   "outputs": [],
   "source": [
    "import random"
   ]
  },
  {
   "cell_type": "code",
   "execution_count": null,
   "metadata": {},
   "outputs": [],
   "source": [
    "def assmuing_function(x):\n",
    "    # 在我们的日常生活中是常见的\n",
    "    # 体重 -> 高血压的概率\n",
    "    # 收入 -> 买阿玛尼的概率\n",
    "    # 其实都是一种潜在的函数关系 + 一个随机变化\n",
    "    return 13.4 * x + 5 + random.rand(-5, 5)"
   ]
  },
  {
   "cell_type": "code",
   "execution_count": null,
   "metadata": {},
   "outputs": [],
   "source": [
    "y = [assmuing_function(x) for x in X]"
   ]
  },
  {
   "cell_type": "code",
   "execution_count": null,
   "metadata": {},
   "outputs": [],
   "source": [
    "plt.scatter(X, y)"
   ]
  },
  {
   "cell_type": "code",
   "execution_count": null,
   "metadata": {},
   "outputs": [],
   "source": [
    "y = np.array(y)"
   ]
  },
  {
   "cell_type": "code",
   "execution_count": null,
   "metadata": {},
   "outputs": [],
   "source": [
    "import numpy as np\n",
    "from sklearn.linear_model import LinearRegression"
   ]
  },
  {
   "cell_type": "code",
   "execution_count": null,
   "metadata": {},
   "outputs": [],
   "source": [
    "X.reshape(-1, 1)"
   ]
  },
  {
   "cell_type": "code",
   "execution_count": null,
   "metadata": {},
   "outputs": [],
   "source": [
    "reg = LinearRegression().fit(X.reshape(-1, 1), y)"
   ]
  },
  {
   "cell_type": "code",
   "execution_count": null,
   "metadata": {},
   "outputs": [],
   "source": [
    "reg.score(X.reshape(-1, 1), y)"
   ]
  },
  {
   "cell_type": "code",
   "execution_count": null,
   "metadata": {},
   "outputs": [],
   "source": [
    "reg.coef_"
   ]
  },
  {
   "cell_type": "code",
   "execution_count": null,
   "metadata": {},
   "outputs": [],
   "source": [
    "reg.intercept_"
   ]
  },
  {
   "cell_type": "code",
   "execution_count": null,
   "metadata": {},
   "outputs": [],
   "source": [
    "def f(x): \n",
    "    return reg.coef_ * x + reg.intercept_"
   ]
  },
  {
   "cell_type": "code",
   "execution_count": null,
   "metadata": {},
   "outputs": [],
   "source": [
    "plt.scatter(X, y)\n",
    "plt.plot(X, f(X), color='red')"
   ]
  },
  {
   "cell_type": "markdown",
   "metadata": {},
   "source": [
    "# How to implement a KNN model"
   ]
  },
  {
   "cell_type": "code",
   "execution_count": null,
   "metadata": {},
   "outputs": [],
   "source": [
    "def model(X, y):\n",
    "    return [(Xi, yi) for Xi, yi in zip(X, y)]"
   ]
  },
  {
   "cell_type": "code",
   "execution_count": null,
   "metadata": {},
   "outputs": [],
   "source": [
    "from scipy.spatial.distance import cosine"
   ]
  },
  {
   "cell_type": "code",
   "execution_count": null,
   "metadata": {},
   "outputs": [],
   "source": [
    "def distance(x1, x2):\n",
    "    return cosine(x1, x2)"
   ]
  },
  {
   "cell_type": "code",
   "execution_count": null,
   "metadata": {},
   "outputs": [],
   "source": [
    "def predict(x, k=5):\n",
    "    most_similars = sorted(model(X, y), key=lambda xi: distance(xi[0], x))[:k]\n",
    "    # 已经获得了最相似的数据集\n",
    "    # 然后呢，Counter() -> most_common() -> 就可以获得出现最多的这个y了 \n",
    "    "
   ]
  },
  {
   "cell_type": "markdown",
   "metadata": {},
   "source": [
    "# 新华社新闻抄袭自动判别"
   ]
  },
  {
   "cell_type": "markdown",
   "metadata": {},
   "source": [
    "## 1. 构建一个机器学习模型，判断这个文章是不是新华社的\n",
    "## 2. 当这个模型的acc 大于 0.8778， recall， precision，f1等值都较高的时候\n",
    "## 3. 用该模型 判断一篇文章是否是新华社的文章，如果判断出来是新华社的，但是，它的source并不是新华社的，那么，我们就说，这个文章是抄袭的新华社的文章"
   ]
  },
  {
   "cell_type": "markdown",
   "metadata": {},
   "source": [
    "# 语料数据预处理"
   ]
  },
  {
   "cell_type": "code",
   "execution_count": 3,
   "metadata": {},
   "outputs": [],
   "source": [
    "fname = '/Users/HP/Downloads/sqlResult_1558435.csv'"
   ]
  },
  {
   "cell_type": "code",
   "execution_count": 4,
   "metadata": {},
   "outputs": [],
   "source": [
    "import pandas as pd"
   ]
  },
  {
   "cell_type": "code",
   "execution_count": 5,
   "metadata": {},
   "outputs": [],
   "source": [
    "TF_content = pd.read_csv(fname, encoding='gb18030')"
   ]
  },
  {
   "cell_type": "code",
   "execution_count": 6,
   "metadata": {},
   "outputs": [
    {
     "data": {
      "text/html": [
       "<div>\n",
       "<style scoped>\n",
       "    .dataframe tbody tr th:only-of-type {\n",
       "        vertical-align: middle;\n",
       "    }\n",
       "\n",
       "    .dataframe tbody tr th {\n",
       "        vertical-align: top;\n",
       "    }\n",
       "\n",
       "    .dataframe thead th {\n",
       "        text-align: right;\n",
       "    }\n",
       "</style>\n",
       "<table border=\"1\" class=\"dataframe\">\n",
       "  <thead>\n",
       "    <tr style=\"text-align: right;\">\n",
       "      <th></th>\n",
       "      <th>id</th>\n",
       "      <th>author</th>\n",
       "      <th>source</th>\n",
       "      <th>content</th>\n",
       "      <th>feature</th>\n",
       "      <th>title</th>\n",
       "      <th>url</th>\n",
       "    </tr>\n",
       "  </thead>\n",
       "  <tbody>\n",
       "    <tr>\n",
       "      <th>0</th>\n",
       "      <td>89617</td>\n",
       "      <td>NaN</td>\n",
       "      <td>快科技@http://www.kkj.cn/</td>\n",
       "      <td>此外，自本周（6月12日）起，除小米手机6等15款机型外，其余机型已暂停更新发布（含开发版/...</td>\n",
       "      <td>{\"type\":\"科技\",\"site\":\"cnbeta\",\"commentNum\":\"37\"...</td>\n",
       "      <td>小米MIUI 9首批机型曝光：共计15款</td>\n",
       "      <td>http://www.cnbeta.com/articles/tech/623597.htm</td>\n",
       "    </tr>\n",
       "    <tr>\n",
       "      <th>1</th>\n",
       "      <td>89616</td>\n",
       "      <td>NaN</td>\n",
       "      <td>快科技@http://www.kkj.cn/</td>\n",
       "      <td>骁龙835作为唯一通过Windows 10桌面平台认证的ARM处理器，高通强调，不会因为只考...</td>\n",
       "      <td>{\"type\":\"科技\",\"site\":\"cnbeta\",\"commentNum\":\"15\"...</td>\n",
       "      <td>骁龙835在Windows 10上的性能表现有望改善</td>\n",
       "      <td>http://www.cnbeta.com/articles/tech/623599.htm</td>\n",
       "    </tr>\n",
       "    <tr>\n",
       "      <th>2</th>\n",
       "      <td>89615</td>\n",
       "      <td>NaN</td>\n",
       "      <td>快科技@http://www.kkj.cn/</td>\n",
       "      <td>此前的一加3T搭载的是3400mAh电池，DashCharge快充规格为5V/4A。\\r\\n...</td>\n",
       "      <td>{\"type\":\"科技\",\"site\":\"cnbeta\",\"commentNum\":\"18\"...</td>\n",
       "      <td>一加手机5细节曝光：3300mAh、充半小时用1天</td>\n",
       "      <td>http://www.cnbeta.com/articles/tech/623601.htm</td>\n",
       "    </tr>\n",
       "    <tr>\n",
       "      <th>3</th>\n",
       "      <td>89614</td>\n",
       "      <td>NaN</td>\n",
       "      <td>新华社</td>\n",
       "      <td>这是6月18日在葡萄牙中部大佩德罗冈地区拍摄的被森林大火烧毁的汽车。新华社记者张立云摄\\r\\n</td>\n",
       "      <td>{\"type\":\"国际新闻\",\"site\":\"环球\",\"commentNum\":\"0\",\"j...</td>\n",
       "      <td>葡森林火灾造成至少62人死亡 政府宣布进入紧急状态（组图）</td>\n",
       "      <td>http://world.huanqiu.com/hot/2017-06/10866126....</td>\n",
       "    </tr>\n",
       "    <tr>\n",
       "      <th>4</th>\n",
       "      <td>89613</td>\n",
       "      <td>胡淑丽_MN7479</td>\n",
       "      <td>深圳大件事</td>\n",
       "      <td>（原标题：44岁女子跑深圳约会网友被拒，暴雨中裸身奔走……）\\r\\n@深圳交警微博称：昨日清...</td>\n",
       "      <td>{\"type\":\"新闻\",\"site\":\"网易热门\",\"commentNum\":\"978\",...</td>\n",
       "      <td>44岁女子约网友被拒暴雨中裸奔 交警为其披衣相随</td>\n",
       "      <td>http://news.163.com/17/0618/00/CN617P3Q0001875...</td>\n",
       "    </tr>\n",
       "  </tbody>\n",
       "</table>\n",
       "</div>"
      ],
      "text/plain": [
       "      id      author                  source  \\\n",
       "0  89617         NaN  快科技@http://www.kkj.cn/   \n",
       "1  89616         NaN  快科技@http://www.kkj.cn/   \n",
       "2  89615         NaN  快科技@http://www.kkj.cn/   \n",
       "3  89614         NaN                     新华社   \n",
       "4  89613  胡淑丽_MN7479                   深圳大件事   \n",
       "\n",
       "                                             content  \\\n",
       "0  此外，自本周（6月12日）起，除小米手机6等15款机型外，其余机型已暂停更新发布（含开发版/...   \n",
       "1  骁龙835作为唯一通过Windows 10桌面平台认证的ARM处理器，高通强调，不会因为只考...   \n",
       "2  此前的一加3T搭载的是3400mAh电池，DashCharge快充规格为5V/4A。\\r\\n...   \n",
       "3    这是6月18日在葡萄牙中部大佩德罗冈地区拍摄的被森林大火烧毁的汽车。新华社记者张立云摄\\r\\n   \n",
       "4  （原标题：44岁女子跑深圳约会网友被拒，暴雨中裸身奔走……）\\r\\n@深圳交警微博称：昨日清...   \n",
       "\n",
       "                                             feature  \\\n",
       "0  {\"type\":\"科技\",\"site\":\"cnbeta\",\"commentNum\":\"37\"...   \n",
       "1  {\"type\":\"科技\",\"site\":\"cnbeta\",\"commentNum\":\"15\"...   \n",
       "2  {\"type\":\"科技\",\"site\":\"cnbeta\",\"commentNum\":\"18\"...   \n",
       "3  {\"type\":\"国际新闻\",\"site\":\"环球\",\"commentNum\":\"0\",\"j...   \n",
       "4  {\"type\":\"新闻\",\"site\":\"网易热门\",\"commentNum\":\"978\",...   \n",
       "\n",
       "                           title  \\\n",
       "0           小米MIUI 9首批机型曝光：共计15款   \n",
       "1     骁龙835在Windows 10上的性能表现有望改善   \n",
       "2      一加手机5细节曝光：3300mAh、充半小时用1天   \n",
       "3  葡森林火灾造成至少62人死亡 政府宣布进入紧急状态（组图）   \n",
       "4       44岁女子约网友被拒暴雨中裸奔 交警为其披衣相随   \n",
       "\n",
       "                                                 url  \n",
       "0     http://www.cnbeta.com/articles/tech/623597.htm  \n",
       "1     http://www.cnbeta.com/articles/tech/623599.htm  \n",
       "2     http://www.cnbeta.com/articles/tech/623601.htm  \n",
       "3  http://world.huanqiu.com/hot/2017-06/10866126....  \n",
       "4  http://news.163.com/17/0618/00/CN617P3Q0001875...  "
      ]
     },
     "execution_count": 6,
     "metadata": {},
     "output_type": "execute_result"
    }
   ],
   "source": [
    "TF_content.head()"
   ]
  },
  {
   "cell_type": "code",
   "execution_count": 7,
   "metadata": {},
   "outputs": [],
   "source": [
    "xinhua_news = TF_content[TF_content['source'] == '新华社']"
   ]
  },
  {
   "cell_type": "code",
   "execution_count": 8,
   "metadata": {},
   "outputs": [
    {
     "data": {
      "text/plain": [
       "0.8778051801676133"
      ]
     },
     "execution_count": 8,
     "metadata": {},
     "output_type": "execute_result"
    }
   ],
   "source": [
    "len(xinhua_news) / len(TF_content) #新华社文章占比"
   ]
  },
  {
   "cell_type": "code",
   "execution_count": 9,
   "metadata": {},
   "outputs": [
    {
     "name": "stdout",
     "output_type": "stream",
     "text": [
      "1818黄金眼 1\n",
      "1905电影网@http://www.1905.com/news/20170620/1194314.shtml?fr=wwwnews_list_hlw_201411#p1 1\n",
      "21世纪经济报道 51\n",
      "21世纪经济报道@ 1\n",
      "345成长板 1\n",
      "36氪快讯 2\n",
      "5U体育 2\n",
      "@胖子孙越微博 1\n",
      "Adonit 1\n",
      "Bomoda摩登系 1\n",
      "CCTV-央视网@http://www.cctv.com 1\n",
      "CNR国防时空 1\n",
      "DiyiTech 1\n",
      "DoNews 1\n",
      "ELLEMEN睿士 1\n",
      "FM93交通之声 2\n",
      "FUN来了 1\n",
      "FX168 3\n",
      "FX168财经报社 1\n",
      "FX168财经网 1\n",
      "Financial Times 1\n",
      "GamerSky游民星空@http://www.gamersky.com/ 2\n",
      "IT之家 1\n",
      "Lectra力克 2\n",
      "MacX@http://www.macx.cn/ 6\n",
      "Mail Online 1\n",
      "MailOnline 1\n",
      "Mentor 1\n",
      "Mesosphere 1\n",
      "N软网@ 2\n",
      "Pico 1\n",
      "PingWest 1\n",
      "TV哔 4\n",
      "TechWeb 3\n",
      "TechWeb@ 19\n",
      "Techweb 2\n",
      "Twippo法国时尚 1\n",
      "Wind资 1\n",
      "Wind资讯 9\n",
      "Wind资讯、中国债券信息网、招商基金 1\n",
      "ZAEKE知客@ 1\n",
      "cnBeta.COM 82\n",
      "cnautonews.com 1\n",
      "cnbeta网站 1\n",
      "eastday 1\n",
      "e公司 1\n",
      "e公司官微 1\n",
      "fansyes.com 1\n",
      "gzw.net 1\n",
      "it168网站原创 1\n",
      "i黑马 1\n",
      "linkgou.com 1\n",
      "qianlongw 1\n",
      "sohu 2\n",
      "solidot@ 4\n",
      "wind资讯 1\n",
      "一手Video 1\n",
      "一手video 1\n",
      "一手视频 2\n",
      "一财网 8\n",
      "丁香医生 5\n",
      "七牛云 1\n",
      "万得资讯 1\n",
      "三十年莱斯特城球 1\n",
      "三湘都市报 1\n",
      "上海东方高清 3\n",
      "上海市政府网站 1\n",
      "上海江森自控国际蓄电池有限公司 1\n",
      "上海观察 1\n",
      "上海证券报 48\n",
      "上海证券报?中国证券网 2\n",
      "上海证券通 2\n",
      "世界说 1\n",
      "东北网 2\n",
      "东南快报 1\n",
      "东方网 2\n",
      "东方财富网 19\n",
      "东森新闻云 5\n",
      "东线瞭望 1\n",
      "丫七大小姐 1\n",
      "中体在线 1\n",
      "中共灌云县委办公室 1\n",
      "中关村在线@ 1\n",
      "中华网 1\n",
      "中华网投资 1\n",
      "中国体育报 2\n",
      "中国侨网 2\n",
      "中国保险监督管理委员会 1\n",
      "中国军网 19\n",
      "中国台州网 1\n",
      "中国台湾网 233\n",
      "中国国防部 1\n",
      "中国地震台网 1\n",
      "中国城市快报 1\n",
      "中国基金报 3\n",
      "中国天气网 2\n",
      "中国娱乐网 2\n",
      "中国广播网 2\n",
      "中国德江 2\n",
      "中国搜索信息科技股份有限公司 4\n",
      "中国搜索网 3\n",
      "中国政府网 4\n",
      "中国文明网 2\n",
      "中国新闻社 1\n",
      "中国新闻网 525\n",
      "中国新闻网@ 2\n",
      "中国日报 1\n",
      "中国日报网 9\n",
      "中国日报网站 1\n",
      "中国时尚在线 1\n",
      "中国江苏网 2\n",
      "中国江西网 3\n",
      "中国汽车报 1\n",
      "中国汽车报网 1\n",
      "中国甘肃网 1\n",
      "中国电子商务研究中心@http://b2b.netsun.com/detail--6401665.html 1\n",
      "中国科技网 1\n",
      "中国经济周刊 3\n",
      "中国经济时报 2\n",
      "中国经济网 96\n",
      "中国经济网-《经济日报 2\n",
      "中国经济网-《经济日报》 42\n",
      "中国经济网—《经济日报》 33\n",
      "中国经济网综合 1\n",
      "中国网 43\n",
      "中国网生活消费 1\n",
      "中国网财经 61\n",
      "中国航天科技集团公众号@http://tech.sina.com.cn/d/s/2017-06-19/doc-ifyhfnrf9343572.shtml?qq-pf-to=pcqq.c2c 1\n",
      "中国证券报 15\n",
      "中国证券报-中证网 2\n",
      "中国证券报?中证网 538\n",
      "中国证券报?中证网综合 1\n",
      "中国证券网 80\n",
      "中国证券网@ 1\n",
      "中国财富网 2\n",
      "中国财经报 1\n",
      "中国邢台 1\n",
      "中国金融信息网 1\n",
      "中国青年报 17\n",
      "中国青年报@ 3\n",
      "中国青年报@http://tech.163.com/17/0620/11/CNCBMBAA00097U7T.html 1\n",
      "中国青年网 19\n",
      "中国领事服务网 2\n",
      "中央纪委监察部网 1\n",
      "中央纪委监察部网站 4\n",
      "中安在线 1\n",
      "中新社 6\n",
      "中新网 20\n",
      "中新网@ 5\n",
      "中方信富 2\n",
      "中航证券 3\n",
      "中芯国际集成电路制造有限公司 1\n",
      "中财网 4\n",
      "中超球评 2\n",
      "中辉期货 1\n",
      "中金网 9\n",
      "中银国际证券 1\n",
      "中青在线 7\n",
      "中青网旅游 1\n",
      "乐视体育 1\n",
      "乒乓社交开球网 1\n",
      "于斌@http://www.chaoqi.net/ 1\n",
      "云南低碳经济网 1\n",
      "云南网 14\n",
      "云南网 @ 1\n",
      "云南网@ 1\n",
      "人人网 1\n",
      "人民政协网 1\n",
      "人民日报 20\n",
      "人民日报-中央厨房 1\n",
      "人民日报客户端 1\n",
      "人民日报海外版 3\n",
      "人民网 122\n",
      "人民网-人民日报 1\n",
      "人民网-人民日报海外版 2\n",
      "人民网-国际频道 6\n",
      "人民网-安徽频道 1\n",
      "人民网-旅游频道 2\n",
      "人民网―生命时报 5\n",
      "人民网－人民日报 2\n",
      "亿超眼镜 1\n",
      "今日之声 3\n",
      "仲利 1\n",
      "伊吾零距离 1\n",
      "伊犁晚报 1\n",
      "体坛刀客 1\n",
      "体坛大家 1\n",
      "体育君 2\n",
      "体育焦点哥 1\n",
      "体育疯 1\n",
      "何氏佬侃球 1\n",
      "作者 1\n",
      "佳通轮胎 1\n",
      "侠客岛 5\n",
      "侯明昊Neo 1\n",
      "信息时报 5\n",
      "健康报 3\n",
      "健康时报 1\n",
      "充电头网@http://www.chongdiantou.com/wp/archives/15096.html 1\n",
      "光大证券 2\n",
      "光明网 31\n",
      "全景网 6\n",
      "全球体育足球分析 1\n",
      "公安部刑侦局 1\n",
      "兰州晨报 1\n",
      "农产品期货网 3\n",
      "凤凰体育 49\n",
      "凤凰八卦 1\n",
      "凤凰军事 1\n",
      "凤凰号 1\n",
      "凤凰国际iMarkets 25\n",
      "凤凰娱乐 2\n",
      "凤凰房产 16\n",
      "凤凰房产综合 1\n",
      "凤凰科技@http://tech.ifeng.com 1\n",
      "凤凰网 9\n",
      "凤凰网娱乐 48\n",
      "凤凰网科技@ 13\n",
      "凤凰财知道 1\n",
      "凤凰财经 31\n",
      "凤凰财经WEMONEY 24\n",
      "凤凰财经综合 9\n",
      "凤凰财经（ID：finance_ifeng） 1\n",
      "凯发精英体育 1\n",
      "刘芸 1\n",
      "券商中国 1\n",
      "剥洋葱people 2\n",
      "动漫星空@ 1\n",
      "化妆真的简单 1\n",
      "北京商报 15\n",
      "北京商报@ 1\n",
      "北京娱乐信报 2\n",
      "北京旅游网 1\n",
      "北京日报 12\n",
      "北京时间 1\n",
      "北京晚报 8\n",
      "北京晨报 11\n",
      "北京青年报 13\n",
      "北京青年报@ 1\n",
      "北京青年报@http://tech.ifeng.com/a/20170620/44640389_0.shtml 1\n",
      "北晚新视觉 1\n",
      "北青深一度 1\n",
      "北青网 1\n",
      "北青网-北京青年报 11\n",
      "医药魔方数据@ 1\n",
      "千龙网 7\n",
      "半岛晨报 2\n",
      "半岛都市报 1\n",
      "半月谈网 1\n",
      "华商报 3\n",
      "华商晨报 1\n",
      "华商网 4\n",
      "华商网-华商报 1\n",
      "华夏时报 4\n",
      "华夏经纬网 19\n",
      "华安期货 1\n",
      "华安证券 1\n",
      "华尔街见闻 8\n",
      "华尔街见闻@ 1\n",
      "华尔街见闻网 1\n",
      "华西都市报 3\n",
      "华西都市报A1 2\n",
      "华西都市报A2 1\n",
      "华讯投资 3\n",
      "华龙网 9\n",
      "单刀赴会 1\n",
      "南京日报 1\n",
      "南京日报第A01版 3\n",
      "南国今报 1\n",
      "南国都市报 3\n",
      "南宁晚报 3\n",
      "南方周末 2\n",
      "南方日报 8\n",
      "南方日报第01版 278\n",
      "南方网 2\n",
      "南方都市报 10\n",
      "南海网 1\n",
      "参考军事 95\n",
      "参考消息 8\n",
      "参考消息网 385\n",
      "参考消息网-锐参考 1\n",
      "发改委网站 3\n",
      "叮咚体坛 1\n",
      "台州晚报 1\n",
      "台海网 2\n",
      "叶檀财经 1\n",
      "吉网 1\n",
      "向日葵体育 1\n",
      "吕梁广播电视网 1\n",
      "呼和浩特日报第RB01版 3\n",
      "和信投顾 1\n",
      "和讯房产 1\n",
      "和讯网 6\n",
      "和讯股票 8\n",
      "品尝网 1\n",
      "哎，听说 1\n",
      "商业人物 1\n",
      "嘉人 2\n",
      "四川在线 1\n",
      "四川新闻网 1\n",
      "团结湖参考 1\n",
      "国信证券 1\n",
      "国家地震台网 1\n",
      "国家外汇管理局网站 1\n",
      "国家统计局 1\n",
      "国是直通车 1\n",
      "国金证券 1\n",
      "国防科工局 1\n",
      "国际在线 19\n",
      "国际金融报 2\n",
      "地产情报 1\n",
      "地球知识局 2\n",
      "地球那些事儿 1\n",
      "地震局网站 1\n",
      "外事儿 3\n",
      "外交部网站 6\n",
      "多彩贵州网 5\n",
      "大众网 2\n",
      "大众证券报 1\n",
      "大庆网 1\n",
      "大摩投资 1\n",
      "大江网 1\n",
      "大河网 6\n",
      "大洋网 1\n",
      "大洋网-广州日报 2\n",
      "大白新闻 2\n",
      "大米评测@ 1\n",
      "大连力得现代科技有限公司 1\n",
      "天信投顾 2\n",
      "天健网 1\n",
      "天山网 2\n",
      "天山网原创 3\n",
      "天意足球 1\n",
      "天津北方网 1\n",
      "太平洋电脑网 1\n",
      "央广网 197\n",
      "央行 2\n",
      "央行网站 4\n",
      "央视 26\n",
      "央视新闻 23\n",
      "央视新闻客户端 6\n",
      "央视新闻客户端@ 1\n",
      "央视网 94\n",
      "央视财经 11\n",
      "央视财经@http://news.sina.com.cn/o/2017-06-20/doc-ifyhfhrt4858335.shtml?qq-pf-to=pcqq.c2c 1\n",
      "好奇心日报@http://tech.163.com/17/0619/14/CNA4VL9G00097U7R.html 1\n",
      "好网角网络收藏夹 1\n",
      "如豹网 1\n",
      "威海新闻网 1\n",
      "威锋网@http://www.feng.com/ 15\n",
      "娱乐小狗仔 1\n",
      "娱乐市场 1\n",
      "娱八婆 1\n",
      "宁夏新闻网 1\n",
      "宁波晚报 1\n",
      "宁波海顺 3\n",
      "安信证券 1\n",
      "安卓中国@https://www.anzhuo.cn/news/p_19901 1\n",
      "安卓中国@https://www.anzhuo.cn/news/p_19908 1\n",
      "安卓中国@https://www.anzhuo.cn/news/p_19910 1\n",
      "安卓中国@https://www.anzhuo.cn/news/p_19915 1\n",
      "安卓中国@https://www.anzhuo.cn/news/p_19930 1\n",
      "安卓中国@https://www.anzhuo.cn/news/p_19944 1\n",
      "安徽政务网 1\n",
      "安徽教育网 1\n",
      "安徽网 1\n",
      "安徽高清 1\n",
      "安邦保险集团 1\n",
      "宋祖儿 1\n",
      "官网 1\n",
      "容维投资 3\n",
      "封面新闻 11\n",
      "小贤说恒大 1\n",
      "尚雯婕 1\n",
      "山东传媒 1\n",
      "山东师范大学附属中学 1\n",
      "山东高院 2\n",
      "山西新闻网 1\n",
      "工人日报 1\n",
      "巨丰投顾 5\n",
      "广州市政府 1\n",
      "广州日报 15\n",
      "广州日报第01版 64\n",
      "广州日报第02版 19\n",
      "广州日报第A10版 10\n",
      "广州日报第A11版 6\n",
      "广州日报第A12版 19\n",
      "广州日报第A13版 10\n",
      "广州日报第A14版 2\n",
      "广州日报第A15版 7\n",
      "广州日报第A16版 10\n",
      "广州日报第A17版 15\n",
      "广州日报第A18版 17\n",
      "广州日报第A19版 21\n",
      "广州日报第A1版 18\n",
      "广州日报第A20版 21\n",
      "广州日报第A21版 16\n",
      "广州日报第A22版 18\n",
      "广州日报第A23版 6\n",
      "广州日报第A24版 1\n",
      "广州日报第A25版 6\n",
      "广州日报第A26版 6\n",
      "广州日报第A2版 12\n",
      "广州日报第A3版 7\n",
      "广州日报第A4版 6\n",
      "广州日报第A5版 7\n",
      "广州日报第A6版 17\n",
      "广州日报第A7版 7\n",
      "广州日报第A8版 4\n",
      "广州日报第A9版 9\n",
      "广州日报第DG1版 26\n",
      "广州日报第DGA15版 13\n",
      "广州日报第DGA16版 11\n",
      "广州日报第DGA17版 9\n",
      "广州日报第DGA18版 14\n",
      "广州日报第FS1版 26\n",
      "广州日报第FSA15版 4\n",
      "广州日报第FSA16版 7\n",
      "广州日报第FSA17版 5\n",
      "广州日报第FSA18版 2\n",
      "广州日报第FSA23版 6\n",
      "广州日报第FSA24版 3\n",
      "广州日报第FSA25版 3\n",
      "广州日报第FSA26版 8\n",
      "广州日报第H1版 1\n",
      "广州日报第H2版 1\n",
      "广州日报第JMA15版 3\n",
      "广州日报第JMA16版 7\n",
      "广州日报第SS1版 2\n",
      "广州日报第SS2版 1\n",
      "广州日报第SS3版 7\n",
      "广州日报第SS4版 1\n",
      "广州日报第SZA15版 11\n",
      "广州日报第SZA16版 10\n",
      "广州日报第ZSA15版 12\n",
      "广西新闻网 1\n",
      "广证恒生新三板研究极客 1\n",
      "廉政瞭望 1\n",
      "开源证券 1\n",
      "张子枫官方工作室 1\n",
      "张家口在线 1\n",
      "徐州市大马路小学 1\n",
      "微信公众号分析师徐彪 1\n",
      "微信公众号长江策略 1\n",
      "微信公众号陈果A股策略 1\n",
      "微博 2477\n",
      "微山门户网 1\n",
      "德江网 1\n",
      "快科技 6\n",
      "快科技@http://www.kkj.cn/ 35\n",
      "悦己self 1\n",
      "意甲守望者联盟 1\n",
      "懒人科技网 1\n",
      "懿惠投资 1\n",
      "成都商报 2\n",
      "成都商报第01版 37\n",
      "成都商报第02版 8\n",
      "成都商报第03版 2\n",
      "成都商报第04版 8\n",
      "成都商报第05版 7\n",
      "成都商报第06版 10\n",
      "成都商报第07版 7\n",
      "成都商报第08版 9\n",
      "成都商报第09版 10\n",
      "成都商报第10版 9\n",
      "成都商报第11版 13\n",
      "成都商报第12版 5\n",
      "成都商报第13版 4\n",
      "成都商报第14版 1\n",
      "成都商报第15版 3\n",
      "成都商报第16版 3\n",
      "成都商报第17版 3\n",
      "成都商报第18版 7\n",
      "成都商报第19版 3\n",
      "成都商报第20版 4\n",
      "成都商报第21版 1\n",
      "成都商报第22版 4\n",
      "成都商报第23版 1\n",
      "成都商报第24版 2\n",
      "成都晚报 2\n",
      "我爱英超 1\n",
      "房天下 1\n",
      "扬子晚报 15\n",
      "扬子晚报网 2\n",
      "扬州晚报 1\n",
      "投资快报 5\n",
      "拳星时代 1\n",
      "挖贝网 6\n",
      "排排网 1\n",
      "排骨资讯网 2\n",
      "搜房网 1\n",
      "搜狐 6\n",
      "搜狐娱乐 2\n",
      "搜狐焦点 3\n",
      "搜狐科技@http://www.sohu.com/a/150107740_115565?qq-pf-to=pcqq.c2c 1\n",
      "搜狐网 2\n",
      "政事儿 1\n",
      "政府网站 3\n",
      "政知圈 1\n",
      "政知见 1\n",
      "政知道 4\n",
      "数据宝 4\n",
      "数说体育 2\n",
      "文思海辉 2\n",
      "新三板在线 1\n",
      "新三板智库 3\n",
      "新三板论坛 4\n",
      "新京报 31\n",
      "新京报@ 1\n",
      "新京报@http://tech.163.com/17/0620/07/CNC06KA800097U7T.html 1\n",
      "新京报即时新闻 9\n",
      "新京报我们视频 3\n",
      "新京报政事儿 2\n",
      "新京报评论 1\n",
      "新华国际 2\n",
      "新华国际微博 1\n",
      "新华日报1 3\n",
      "新华社 78661\n",
      "新华社@ 1\n",
      "新华社@http://tech.163.com/17/0619/15/CNA7J2EJ00097U7T.html 1\n",
      "新华社@http://tech.huanqiu.com/intelligent/2017-06/10868069.html?qq-pf-to=pcqq.c2c 1\n",
      "新华社新媒体专线 10\n",
      "新华网 172\n",
      "新华网@ 1\n",
      "新华网@http://tech.163.com/17/0620/15/CNCQ8UH500097U81.html 1\n",
      "新华通讯社 1\n",
      "新快报 3\n",
      "新摄影@ 1\n",
      "新文化报 2\n",
      "新旅界 1\n",
      "新民晚报 1\n",
      "新民网 1\n",
      "新浪 1\n",
      "新浪体育 132\n",
      "新浪军事 5\n",
      "新浪娱乐 7\n",
      "新浪汽车 1\n",
      "新浪科技 5\n",
      "新浪科技@ 10\n",
      "新浪科技@http://tech.sina.com.cn/ 13\n",
      "新浪综合 21\n",
      "新浪综合@ 1\n",
      "新浪网 7\n",
      "新浪美股@ 1\n",
      "新浪财经 28\n",
      "新浪财经@ 1\n",
      "新浪财经@http://tech.sina.com.cn/d/i/2017-06-20/doc-ifyhfnqa4497509.shtml?qq-pf-to=pcqq.c2c 1\n",
      "新浪财经@http://tech.sina.com.cn/i/2017-06-20/doc-ifyhfnrf9391000.shtml?qq-pf-to=pcqq.c2c 1\n",
      "新疆日报 9\n",
      "新纪元期货 1\n",
      "新闻晨报 3\n",
      "方寸书斋 1\n",
      "方正中期 2\n",
      "旅业传媒 1\n",
      "时代周报 3\n",
      "时代财经@ 1\n",
      "时光网 4\n",
      "时刻体育 2\n",
      "时尚COSMO 1\n",
      "时尚健康 2\n",
      "时尚芭莎 1\n",
      "昆明日报 第A01版 3\n",
      "易科软件（上海）有限公司 1\n",
      "易米云通 1\n",
      "星城古龙 1\n",
      "映象网 1\n",
      "昭苏零距离 1\n",
      "晓体sports 1\n",
      "智东西 1\n",
      "智通财经 3\n",
      "智通财经网 2\n",
      "曲一刀 1\n",
      "最后一公里 3\n",
      "最爱浙江 1\n",
      "最高人民法院 1\n",
      "最高检网站 2\n",
      "期货日报 2\n",
      "未来网 13\n",
      "机器人网@https://www.jqr.com/news/003814 1\n",
      "机器人网@https://www.jqr.com/news/003825 1\n",
      "机器人网@https://www.jqr.com/news/003871 1\n",
      "杨烁工作室 1\n",
      "杭州交通91.8 1\n",
      "杭州交通918 2\n",
      "杭州玄机科技信息技术有限公司 1\n",
      "果加智能 1\n",
      "枪炮篮球PiU 1\n",
      "柳州新闻网 1\n",
      "格隆汇 1\n",
      "梅州广播电视台 1\n",
      "梅州网 1\n",
      "梨视频 3\n",
      "梵净网 2\n",
      "检察日报 1\n",
      "楚天都市报第1版 3\n",
      "歙县电子政务网 1\n",
      "正义网 19\n",
      "正义网-检察日报 3\n",
      "正义网@ 1\n",
      "每日人物 1\n",
      "每日涨停板复盘 1\n",
      "每日甘肃网 1\n",
      "每日经济新闻 58\n",
      "每日经济新闻@ 4\n",
      "每日经济新闻公号 1\n",
      "民航资源网 1\n",
      "水星家纺 1\n",
      "汇通网 11\n",
      "汉丰网 1\n",
      "江西日报 1\n",
      "汽车之家 2\n",
      "沈阳日报 1\n",
      "沈阳日报第A01版 3\n",
      "沈阳晚报 1\n",
      "河北新闻网 2\n",
      "河北新闻网@ 1\n",
      "河南日报 1\n",
      "河南日报第01版 23\n",
      "河南日报第02版 34\n",
      "河南日报第03版 35\n",
      "河南日报第04版 10\n",
      "河南日报第05版 7\n",
      "河南日报第06版 16\n",
      "河南日报第07版 6\n",
      "河南日报第08版 8\n",
      "河南日报第09版 12\n",
      "河南日报第10版 15\n",
      "河南日报第11版 4\n",
      "河南日报第12版 8\n",
      "河南日报第13版 11\n",
      "河南日报第14版 9\n",
      "河南日报第15版 20\n",
      "河南日报第16版 14\n",
      "河南电视台 1\n",
      "法制日报 2\n",
      "法制晚报 5\n",
      "法制网 21\n",
      "法律法规网 1\n",
      "泡泡网 1\n",
      "济南中院 1\n",
      "济南时报 1\n",
      "济南网络电视台 1\n",
      "浙商证券 1\n",
      "浙江在线 10\n",
      "浙江法制报 1\n",
      "浙青网-青年时报 1\n",
      "浪潮工作室 2\n",
      "海南日报 1\n",
      "海南日报第001版 54\n",
      "海南日报第002版 30\n",
      "海南日报第003版 17\n",
      "海南日报第004版 6\n",
      "海南日报第005版 20\n",
      "海南日报第006版 2\n",
      "海南日报第007版 3\n",
      "海南日报第008版 13\n",
      "海南日报第009版 14\n",
      "海南日报第010版 21\n",
      "海南日报第011版 20\n",
      "海南日报第012版 13\n",
      "海南日报第013版 18\n",
      "海南日报第014版 29\n",
      "海南日报第015版 12\n",
      "海南日报第016版 10\n",
      "海南日报第017版 15\n",
      "海南日报第018版 7\n",
      "海南日报第019版 7\n",
      "海南日报第020版 3\n",
      "海南特区报 1\n",
      "海外探客 1\n",
      "海外网 15\n",
      "海报网 2\n",
      "海清FICC频道 1\n",
      "海运仓内参 4\n",
      "淄博发布 1\n",
      "淮北濉溪公安在线 1\n",
      "深交所网站 1\n",
      "深圳大件事 2\n",
      "深圳晚报 2\n",
      "深读 2\n",
      "清丰网 1\n",
      "渤海证券 1\n",
      "港股那点事 2\n",
      "游民星空@ 2\n",
      "游民星空@http://www.gamersky.com/news/201706/917315.shtml 1\n",
      "游民星空@http://www.gamersky.com/news/201706/917721.shtml 1\n",
      "湖北日报 1\n",
      "湖北日报第10版 22\n",
      "湖北日报第11版 18\n",
      "湖北日报第12版 12\n",
      "湖北日报第13版 3\n",
      "湖北日报第14版 9\n",
      "湖北日报第15版 6\n",
      "湖北日报第16版 2\n",
      "湖北日报第17版 1\n",
      "湖北日报第18版 2\n",
      "湖北日报第19版 2\n",
      "湖北日报第1版 33\n",
      "湖北日报第20版 2\n",
      "湖北日报第21版 4\n",
      "湖北日报第22版 3\n",
      "湖北日报第23版 3\n",
      "湖北日报第24版 2\n",
      "湖北日报第26版 1\n",
      "湖北日报第27版 1\n",
      "湖北日报第28版 1\n",
      "湖北日报第2版 38\n",
      "湖北日报第3版 18\n",
      "湖北日报第4版 20\n",
      "湖北日报第5版 13\n",
      "湖北日报第6版 13\n",
      "湖北日报第7版 10\n",
      "湖北日报第8版 9\n",
      "湖北日报第9版 20\n",
      "湖北日报网 1\n",
      "湘东检察 1\n",
      "源达投顾 3\n",
      "潇湘晨报 1\n",
      "澎湃 3\n",
      "澎湃新闻 16\n",
      "澎湃新闻网 54\n",
      "澎湃新闻网@ 2\n",
      "澎湃有戏 1\n",
      "热刺节操巷 1\n",
      "热点体育 3\n",
      "焦点房地产网 1\n",
      "燕赵晚报 2\n",
      "燕赵晚报A01 3\n",
      "爱奇艺 2\n",
      "牛弹琴 1\n",
      "犀牛之星 2\n",
      "狂言之体育 1\n",
      "王三三 3\n",
      "王珞丹工作室 1\n",
      "玩懂手机网@ 1\n",
      "环球家电网 2\n",
      "环球时报 119\n",
      "环球时报-环球网 73\n",
      "环球科技@http://tech.huanqiu.com/ 5\n",
      "环球网 308\n",
      "环球网-生命时报 1\n",
      "环球网@ 6\n",
      "环球老虎财经 1\n",
      "现代快报 11\n",
      "现代快报全媒体 1\n",
      "球娱天下 1\n",
      "生命时报 2\n",
      "生意社 1\n",
      "生活报网 1\n",
      "电影大爆炸 1\n",
      "电脑上wap网 1\n",
      "界面 1\n",
      "界面新闻 1\n",
      "疯狂的球迷 1\n",
      "百度 4\n",
      "盖世汽车 1\n",
      "盖世汽车综合 1\n",
      "盖世汽车网@ 1\n",
      "直通台湾 1\n",
      "看看新闻 12\n",
      "看看新闻KNEWS 3\n",
      "看看新闻Knews 2\n",
      "看看新闻Knews综合 2\n",
      "看看新闻网 7\n",
      "真狍子歪解体坛 1\n",
      "知乎 1\n",
      "知客数码@http://www.zaeke.com/article-7066-1.html 1\n",
      "破壳翻译组 1\n",
      "科学大院微信公众号 1\n",
      "科德投资 3\n",
      "科技快报 1\n",
      "科技成果转化联盟 1\n",
      "科技日报 5\n",
      "科技日报社-中国科技网 2\n",
      "科普中国网 1\n",
      "科研圈@ 1\n",
      "穿衣助手 1\n",
      "立方娱乐 3\n",
      "站长之家 1\n",
      "第一财经 11\n",
      "第一财经@http://tech.163.com/17/0620/14/CNCOOB6800097U7R.html 1\n",
      "第一财经日报 20\n",
      "第一财经网 3\n",
      "篮球迷俱乐部 1\n",
      "红星新闻 6\n",
      "红网 7\n",
      "红网@ 1\n",
      "纷纷雨 1\n",
      "经济参考报 31\n",
      "经济导报 2\n",
      "经济日报 5\n",
      "经济观察报@ 1\n",
      "经济观察网 1\n",
      "经济观察网@ 1\n",
      "绯色侃球 1\n",
      "维欧服装设计留学作品集 1\n",
      "绿色望谟 1\n",
      "网址之家 1\n",
      "网易 3\n",
      "网易体育 16\n",
      "网易历史 1\n",
      "网易娱乐 3\n",
      "网易房产 8\n",
      "网易新闻 1\n",
      "网易科学人@ 1\n",
      "网易科学快讯@http://tech.163.com/17/0619/13/CNA16JQ900097U81.html 1\n",
      "网易科技@http://tech.163.com/ 10\n",
      "网易财经 2\n",
      "网易财经综合 1\n",
      "网络 4\n",
      "网贷之家 1\n",
      "羊城晚报 2\n",
      "美美娱乐 1\n",
      "翔哥有话要说 1\n",
      "老球皮丁丁 1\n",
      "老邓侃球 1\n",
      "考拉网 1\n",
      "肆客足球 1\n",
      "肆客足球App 1\n",
      "胖编专栏 1\n",
      "腾讯 2\n",
      "腾讯科技 1\n",
      "腾讯网 1\n",
      "腾讯财经 1\n",
      "英大期货 1\n",
      "英才 1\n",
      "荆楚网-楚天都市报 4\n",
      "荆楚网-湖北日报 4\n",
      "莱芜新闻网 1\n",
      "菱镜头 1\n",
      "萌神木木 1\n",
      "蓝鲸TMT@ 1\n",
      "蓝鲸教育 1\n",
      "虎扑体育 1\n",
      "虎扑篮球 1\n",
      "虎扑足球 1\n",
      "融360 2\n",
      "融360房贷 1\n",
      "西南证券 1\n",
      "西安晚报 2\n",
      "西楚网 1\n",
      "西部网 5\n",
      "观察者网 3\n",
      "观海解局 3\n",
      "观点地产网 2\n",
      "解放军报 9\n",
      "证券市场周刊?红周刊 1\n",
      "证券日报 51\n",
      "证券日报-资本证券网 3\n",
      "证券时报 51\n",
      "证券时报?e公司 11\n",
      "证券时报APP 25\n",
      "证券时报网 84\n",
      "证监会发布 3\n",
      "证监会网站 1\n",
      "说人解事 2\n",
      "读懂新三板 4\n",
      "谈资 1\n",
      "豆丁 1\n",
      "财富动力网 1\n",
      "财政部 1\n",
      "财政部网站 2\n",
      "财新网 1\n",
      "财经网 2\n",
      "财联社 3\n",
      "贵州基层党建网 1\n",
      "贵阳日报(A01) 3\n",
      "贵阳晚报 1\n",
      "贵阳网 4\n",
      "赛迪网 1\n",
      "赤峰日报001 3\n",
      "足坛宙斯 1\n",
      "足球喜剧之王 2\n",
      "足球小志 1\n",
      "足球部落国内版 1\n",
      "足球部落国际版 1\n",
      "跑否金融 微信公众号 1\n",
      "轻松一刻工作室 4\n",
      "迈克尔程 1\n",
      "迈科期货 1\n",
      "速途网 1\n",
      "遂宁日报网 1\n",
      "邹汝萍 1\n",
      "郑州日报 1\n",
      "郑州日报第01版 40\n",
      "郑州日报第02版 32\n",
      "郑州日报第03版 38\n",
      "郑州日报第04版 19\n",
      "郑州日报第05版 6\n",
      "郑州日报第06版 15\n",
      "郑州日报第07版 17\n",
      "郑州日报第08版 18\n",
      "郑州日报第09版 11\n",
      "郑州日报第10版 14\n",
      "郑州日报第11版 16\n",
      "郑州日报第12版 14\n",
      "郑州晚报 1\n",
      "都市快报 6\n",
      "都市时报 1\n",
      "都市热报 1\n",
      "重庆叁壹伍捌信息技术有限公司 1\n",
      "重庆时报网 1\n",
      "重庆时间 1\n",
      "重庆晚报 2\n",
      "重庆晨报 7\n",
      "重庆晨报@ 1\n",
      "重庆晨报上游新闻 7\n",
      "重案组37号 1\n",
      "野马财经 1\n",
      "金华政府门户网站 1\n",
      "金百临投资 1\n",
      "金羊网 1\n",
      "金融投资报 1\n",
      "金融时报 3\n",
      "金融深度 1\n",
      "金融界 2\n",
      "金融界网站 3\n",
      "钱坤投资 4\n",
      "钱江晚报 3\n",
      "长城网 1\n",
      "长城证券 1\n",
      "长安街知事 6\n",
      "长江日报@http://tech.163.com/17/0620/15/CNCQ35FV00097U82.html 1\n",
      "长江日报@http://tech.163.com/17/0620/15/CNCQDVDE00097U81.html 1\n",
      "长江日报第10版 13\n",
      "长江日报第11版 13\n",
      "长江日报第12版 13\n",
      "长江日报第13版 13\n",
      "长江日报第14版 15\n",
      "长江日报第15版 4\n",
      "长江日报第16版 9\n",
      "长江日报第17版 1\n",
      "长江日报第18版 4\n",
      "长江日报第19版 1\n",
      "长江日报第1版 43\n",
      "长江日报第20版 1\n",
      "长江日报第21版 1\n",
      "长江日报第22版 4\n",
      "长江日报第23版 2\n",
      "长江日报第24版 1\n",
      "长江日报第2版 24\n",
      "长江日报第3版 16\n",
      "长江日报第4版 10\n",
      "长江日报第5版 16\n",
      "长江日报第6版 4\n",
      "长江日报第7版 13\n",
      "长江日报第8版 4\n",
      "长江日报第9版 11\n",
      "长江网-武汉晨报 1\n",
      "闽西新闻网 1\n",
      "阳郊网警 1\n",
      "阿思达克财经 1\n",
      "雷帝触网 1\n",
      "雷锋网 2\n",
      "雷锋网@ 1\n",
      "雷锋网@http://www.leiphone.com/ 5\n",
      "霍寿喜 1\n",
      "青岛广易通网络科技有限公司 1\n",
      "青年时报 2\n",
      "青海日报第1版 2\n",
      "风尚中国 1\n",
      "风长眼量 1\n",
      "飞象网 1\n",
      "饶阳县公众信息网 1\n",
      "马鞍山师范高等专科学校 1\n",
      "鲁豫有约 1\n",
      "黑色柳丁 2\n",
      "黑龙江日报 2\n",
      "黔讯网 1\n",
      "齐鲁壹点 6\n",
      "齐鲁晚报 2\n",
      "齐鲁晚报网 1\n",
      "齐鲁网 7\n",
      "龙源期刊网 1\n"
     ]
    }
   ],
   "source": [
    "#文章出处\n",
    "for name, group in TF_content.groupby(\"source\"):\n",
    "    print(name,len(group))"
   ]
  },
  {
   "cell_type": "code",
   "execution_count": 10,
   "metadata": {},
   "outputs": [],
   "source": [
    "with open('/Users/HP/Desktop/stopwords.txt', encoding='utf8') as file:\n",
    "    stopword_list = [k.strip() for k in file.readlines()]"
   ]
  },
  {
   "cell_type": "code",
   "execution_count": 11,
   "metadata": {},
   "outputs": [
    {
     "name": "stderr",
     "output_type": "stream",
     "text": [
      "Building prefix dict from the default dictionary ...\n",
      "Loading model from cache C:\\Users\\HP\\AppData\\Local\\Temp\\jieba.cache\n",
      "Loading model cost 0.848 seconds.\n",
      "Prefix dict has been built succesfully.\n"
     ]
    },
    {
     "name": "stdout",
     "output_type": "stream",
     "text": [
      "前1000篇文章分词结束\n",
      "前2000篇文章分词结束\n",
      "前3000篇文章分词结束\n",
      "前4000篇文章分词结束\n",
      "前5000篇文章分词结束\n",
      "前6000篇文章分词结束\n",
      "前7000篇文章分词结束\n",
      "前8000篇文章分词结束\n",
      "前9000篇文章分词结束\n",
      "前10000篇文章分词结束\n",
      "前11000篇文章分词结束\n",
      "前12000篇文章分词结束\n",
      "前13000篇文章分词结束\n",
      "前14000篇文章分词结束\n",
      "前15000篇文章分词结束\n",
      "前16000篇文章分词结束\n",
      "前17000篇文章分词结束\n",
      "前18000篇文章分词结束\n",
      "前19000篇文章分词结束\n",
      "前20000篇文章分词结束\n",
      "前21000篇文章分词结束\n",
      "前22000篇文章分词结束\n",
      "前23000篇文章分词结束\n",
      "前24000篇文章分词结束\n",
      "前25000篇文章分词结束\n",
      "前26000篇文章分词结束\n",
      "前27000篇文章分词结束\n",
      "前28000篇文章分词结束\n",
      "前29000篇文章分词结束\n",
      "前30000篇文章分词结束\n",
      "前31000篇文章分词结束\n",
      "前32000篇文章分词结束\n",
      "前33000篇文章分词结束\n",
      "前34000篇文章分词结束\n",
      "前35000篇文章分词结束\n",
      "前36000篇文章分词结束\n",
      "前37000篇文章分词结束\n",
      "前38000篇文章分词结束\n",
      "前39000篇文章分词结束\n",
      "前40000篇文章分词结束\n",
      "前41000篇文章分词结束\n",
      "前42000篇文章分词结束\n",
      "前43000篇文章分词结束\n",
      "前44000篇文章分词结束\n",
      "前45000篇文章分词结束\n",
      "前46000篇文章分词结束\n",
      "前47000篇文章分词结束\n",
      "前48000篇文章分词结束\n",
      "前49000篇文章分词结束\n",
      "前50000篇文章分词结束\n",
      "前51000篇文章分词结束\n",
      "前52000篇文章分词结束\n",
      "前53000篇文章分词结束\n",
      "前54000篇文章分词结束\n",
      "前55000篇文章分词结束\n",
      "前56000篇文章分词结束\n",
      "前57000篇文章分词结束\n",
      "前58000篇文章分词结束\n",
      "前59000篇文章分词结束\n",
      "前60000篇文章分词结束\n",
      "前61000篇文章分词结束\n",
      "前62000篇文章分词结束\n",
      "前63000篇文章分词结束\n",
      "前64000篇文章分词结束\n",
      "前65000篇文章分词结束\n",
      "前66000篇文章分词结束\n",
      "前67000篇文章分词结束\n",
      "前68000篇文章分词结束\n",
      "前69000篇文章分词结束\n",
      "前70000篇文章分词结束\n",
      "前71000篇文章分词结束\n",
      "前72000篇文章分词结束\n",
      "前73000篇文章分词结束\n",
      "前74000篇文章分词结束\n",
      "前75000篇文章分词结束\n",
      "前76000篇文章分词结束\n",
      "前77000篇文章分词结束\n",
      "前78000篇文章分词结束\n",
      "前79000篇文章分词结束\n",
      "前80000篇文章分词结束\n",
      "前81000篇文章分词结束\n",
      "前82000篇文章分词结束\n",
      "前83000篇文章分词结束\n",
      "前84000篇文章分词结束\n",
      "前85000篇文章分词结束\n",
      "前86000篇文章分词结束\n",
      "前87000篇文章分词结束\n",
      "前88000篇文章分词结束\n",
      "前89000篇文章分词结束\n"
     ]
    }
   ],
   "source": [
    "import jieba\n",
    "cutwords_list = []\n",
    "i=0\n",
    "for article in TF_content['content'].astype(str):\n",
    "    cutwords = [k for k in jieba.cut(article) if k not in stopword_list]\n",
    "    cutwords_list.append(cutwords)\n",
    "    i +=1\n",
    "    if i % 1000 == 0:\n",
    "        print('前%d篇文章分词结束' %(i))"
   ]
  },
  {
   "cell_type": "code",
   "execution_count": 12,
   "metadata": {},
   "outputs": [],
   "source": [
    "with open('/Users/HP/Desktop/cutwords_list.txt', 'w',encoding='utf8') as file: \n",
    "    for cutwords in cutwords_list:\n",
    "        file.write(' '.join(cutwords) + '\\n')\n",
    "    file.close()"
   ]
  },
  {
   "cell_type": "markdown",
   "metadata": {},
   "source": [
    "#TFIDF处理文本"
   ]
  },
  {
   "cell_type": "code",
   "execution_count": 14,
   "metadata": {},
   "outputs": [
    {
     "name": "stdout",
     "output_type": "stream",
     "text": [
      "(89611, 3117)\n"
     ]
    }
   ],
   "source": [
    "from sklearn.feature_extraction.text import TfidfVectorizer\n",
    "\n",
    "tfidf = TfidfVectorizer(cutwords_list, stop_words=stopword_list, min_df=40, max_df=0.3)\n",
    "X = tfidf.fit_transform(TF_content['content'].astype(str))\n",
    "print(X.shape)"
   ]
  },
  {
   "cell_type": "code",
   "execution_count": null,
   "metadata": {},
   "outputs": [],
   "source": [
    "#下面的多分类由于某些分类的样本太少，分类结果比较差；\n",
    "#二分类没有进行平衡采样，进行的是非平衡标签的分类，分类的效果应该是不如平衡采样后的分类效果的"
   ]
  },
  {
   "cell_type": "markdown",
   "metadata": {},
   "source": [
    "# 建立机器学习模型"
   ]
  },
  {
   "cell_type": "markdown",
   "metadata": {},
   "source": [
    "#多标签分类——LogisticRegression算法处理"
   ]
  },
  {
   "cell_type": "code",
   "execution_count": 16,
   "metadata": {},
   "outputs": [
    {
     "name": "stdout",
     "output_type": "stream",
     "text": [
      "[450 450 450 ... 518 518 518]\n"
     ]
    }
   ],
   "source": [
    "from sklearn.preprocessing import LabelEncoder\n",
    "labelEncoder = LabelEncoder()\n",
    "y = labelEncoder.fit_transform(TF_content['source'].astype(str))\n",
    "print(y)"
   ]
  },
  {
   "cell_type": "code",
   "execution_count": 17,
   "metadata": {},
   "outputs": [
    {
     "name": "stderr",
     "output_type": "stream",
     "text": [
      "C:\\ProgramData\\Anaconda3\\lib\\site-packages\\sklearn\\linear_model\\logistic.py:433: FutureWarning: Default solver will be changed to 'lbfgs' in 0.22. Specify a solver to silence this warning.\n",
      "  FutureWarning)\n",
      "C:\\ProgramData\\Anaconda3\\lib\\site-packages\\sklearn\\linear_model\\logistic.py:460: FutureWarning: Default multi_class will be changed to 'auto' in 0.22. Specify the multi_class option to silence this warning.\n",
      "  \"this warning.\", FutureWarning)\n"
     ]
    },
    {
     "data": {
      "text/plain": [
       "0.9220554594654913"
      ]
     },
     "execution_count": 17,
     "metadata": {},
     "output_type": "execute_result"
    }
   ],
   "source": [
    "from sklearn.linear_model import LogisticRegression\n",
    "from sklearn.model_selection import train_test_split\n",
    "\n",
    "train_X, test_X, train_y, test_y = train_test_split(X, y, test_size=0.2)\n",
    "logistic_model = LogisticRegression()\n",
    "logistic_model.fit(train_X, train_y)\n",
    "logistic_model.score(test_X, test_y)"
   ]
  },
  {
   "cell_type": "code",
   "execution_count": 18,
   "metadata": {},
   "outputs": [
    {
     "name": "stdout",
     "output_type": "stream",
     "text": [
      "0.8696558834340075\n",
      "0.9220554594654913\n",
      "0.8928558369233908\n"
     ]
    },
    {
     "name": "stderr",
     "output_type": "stream",
     "text": [
      "C:\\ProgramData\\Anaconda3\\lib\\site-packages\\sklearn\\metrics\\classification.py:1143: UndefinedMetricWarning: Precision is ill-defined and being set to 0.0 in labels with no predicted samples.\n",
      "  'precision', 'predicted', average, warn_for)\n",
      "C:\\ProgramData\\Anaconda3\\lib\\site-packages\\sklearn\\metrics\\classification.py:1143: UndefinedMetricWarning: F-score is ill-defined and being set to 0.0 in labels with no predicted samples.\n",
      "  'precision', 'predicted', average, warn_for)\n"
     ]
    }
   ],
   "source": [
    "from sklearn import metrics\n",
    "logistic_model_predict_y= logistic_model.predict(test_X)\n",
    "print(metrics.precision_score(test_y, logistic_model_predict_y,average='weighted'))\n",
    "print(metrics.recall_score(test_y, logistic_model_predict_y,average='weighted'))\n",
    "print(metrics.f1_score(test_y, logistic_model_predict_y,average='weighted'))\n",
    "#这儿有个问题不清楚，类别不平衡问题不知道选择'weighted'是否准确"
   ]
  },
  {
   "cell_type": "markdown",
   "metadata": {},
   "source": [
    "#二元标签分类——LogisticRegression算法处理"
   ]
  },
  {
   "cell_type": "code",
   "execution_count": 20,
   "metadata": {},
   "outputs": [
    {
     "name": "stdout",
     "output_type": "stream",
     "text": [
      "89611\n"
     ]
    }
   ],
   "source": [
    "# 将不是新华社的source处理为0，是新华社的处理为1，将多标签分类变为二元标签分类，得到标签List\n",
    "y_binary = []\n",
    "for word in TF_content['source'].astype(str):\n",
    "    if word==\"新华社\":\n",
    "        y_binary.append(1)\n",
    "    else:\n",
    "        y_binary.append(0)\n",
    "print(len(y_binary))"
   ]
  },
  {
   "cell_type": "code",
   "execution_count": 21,
   "metadata": {},
   "outputs": [
    {
     "data": {
      "text/plain": [
       "0.9635105730067511"
      ]
     },
     "execution_count": 21,
     "metadata": {},
     "output_type": "execute_result"
    }
   ],
   "source": [
    "from sklearn.linear_model import LogisticRegression\n",
    "from sklearn.model_selection import train_test_split\n",
    "\n",
    "train_X, test_X, train_y, test_y = train_test_split(X,y_binary, test_size=0.2)\n",
    "logistic_model_binary = LogisticRegression()\n",
    "logistic_model_binary.fit(train_X, train_y)\n",
    "logistic_model_binary.score(test_X, test_y)"
   ]
  },
  {
   "cell_type": "code",
   "execution_count": 22,
   "metadata": {},
   "outputs": [
    {
     "name": "stdout",
     "output_type": "stream",
     "text": [
      "0.9643911439114391\n",
      "0.9952399086062452\n",
      "0.9795727136431784\n"
     ]
    }
   ],
   "source": [
    "from sklearn import metrics\n",
    "binary_predict_y= logistic_model_binary.predict(test_X)\n",
    "print(metrics.precision_score(test_y, binary_predict_y))\n",
    "print(metrics.recall_score(test_y, binary_predict_y))\n",
    "print(metrics.f1_score(test_y, binary_predict_y))"
   ]
  },
  {
   "cell_type": "markdown",
   "metadata": {},
   "source": [
    "#多标签分类——KNN算法处理"
   ]
  },
  {
   "cell_type": "code",
   "execution_count": 24,
   "metadata": {},
   "outputs": [
    {
     "data": {
      "text/plain": [
       "0.9150253863750488"
      ]
     },
     "execution_count": 24,
     "metadata": {},
     "output_type": "execute_result"
    }
   ],
   "source": [
    "from sklearn.neighbors import KNeighborsClassifier\n",
    "from sklearn.model_selection import train_test_split\n",
    "train_X, test_X, train_y, test_y = train_test_split(X, y, test_size=0.2)\n",
    "sklearn_knn_model = KNeighborsClassifier(n_neighbors=5)\n",
    "sklearn_knn_model.fit(train_X,train_y)\n",
    "sklearn_knn_model.score(test_X,test_y)"
   ]
  },
  {
   "cell_type": "code",
   "execution_count": 25,
   "metadata": {},
   "outputs": [
    {
     "name": "stdout",
     "output_type": "stream",
     "text": [
      "0.8728483033381826\n",
      "0.9150253863750488\n",
      "0.889756273143822\n"
     ]
    },
    {
     "name": "stderr",
     "output_type": "stream",
     "text": [
      "C:\\ProgramData\\Anaconda3\\lib\\site-packages\\sklearn\\metrics\\classification.py:1143: UndefinedMetricWarning: Precision is ill-defined and being set to 0.0 in labels with no predicted samples.\n",
      "  'precision', 'predicted', average, warn_for)\n",
      "C:\\ProgramData\\Anaconda3\\lib\\site-packages\\sklearn\\metrics\\classification.py:1145: UndefinedMetricWarning: Recall is ill-defined and being set to 0.0 in labels with no true samples.\n",
      "  'recall', 'true', average, warn_for)\n",
      "C:\\ProgramData\\Anaconda3\\lib\\site-packages\\sklearn\\metrics\\classification.py:1143: UndefinedMetricWarning: F-score is ill-defined and being set to 0.0 in labels with no predicted samples.\n",
      "  'precision', 'predicted', average, warn_for)\n",
      "C:\\ProgramData\\Anaconda3\\lib\\site-packages\\sklearn\\metrics\\classification.py:1145: UndefinedMetricWarning: F-score is ill-defined and being set to 0.0 in labels with no true samples.\n",
      "  'recall', 'true', average, warn_for)\n"
     ]
    }
   ],
   "source": [
    "from sklearn import metrics\n",
    "sklearn_knn_model_predict_y= sklearn_knn_model.predict(test_X)\n",
    "print(metrics.precision_score(test_y, sklearn_knn_model_predict_y,average='weighted'))\n",
    "print(metrics.recall_score(test_y, sklearn_knn_model_predict_y,average='weighted'))\n",
    "print(metrics.f1_score(test_y, sklearn_knn_model_predict_y,average='weighted'))"
   ]
  },
  {
   "cell_type": "markdown",
   "metadata": {},
   "source": [
    "#二元标签分类——KNN算法处理"
   ]
  },
  {
   "cell_type": "code",
   "execution_count": 27,
   "metadata": {},
   "outputs": [
    {
     "data": {
      "text/plain": [
       "0.942866707582436"
      ]
     },
     "execution_count": 27,
     "metadata": {},
     "output_type": "execute_result"
    }
   ],
   "source": [
    "from sklearn.neighbors import KNeighborsClassifier\n",
    "from sklearn.model_selection import train_test_split\n",
    "\n",
    "train_X, test_X, train_y, test_y = train_test_split(X,y_binary, test_size=0.2)\n",
    "sklearn_knn_model_binary = KNeighborsClassifier(n_neighbors=5)\n",
    "sklearn_knn_model_binary.fit(train_X, train_y)\n",
    "sklearn_knn_model_binary.score(test_X, test_y)"
   ]
  },
  {
   "cell_type": "code",
   "execution_count": 28,
   "metadata": {},
   "outputs": [
    {
     "name": "stdout",
     "output_type": "stream",
     "text": [
      "0.9481359448410519\n",
      "0.9889263667027303\n",
      "0.9681016759080431\n"
     ]
    }
   ],
   "source": [
    "from sklearn import metrics\n",
    "binary_predict_y= sklearn_knn_model_binary.predict(test_X)\n",
    "print(metrics.precision_score(test_y, binary_predict_y))\n",
    "print(metrics.recall_score(test_y, binary_predict_y))\n",
    "print(metrics.f1_score(test_y, binary_predict_y))"
   ]
  },
  {
   "cell_type": "markdown",
   "metadata": {},
   "source": [
    "#二元标签分类——SVM算法处理"
   ]
  },
  {
   "cell_type": "code",
   "execution_count": 30,
   "metadata": {},
   "outputs": [
    {
     "name": "stderr",
     "output_type": "stream",
     "text": [
      "C:\\ProgramData\\Anaconda3\\lib\\site-packages\\sklearn\\svm\\base.py:196: FutureWarning: The default value of gamma will change from 'auto' to 'scale' in version 0.22 to account better for unscaled features. Set gamma explicitly to 'auto' or 'scale' to avoid this warning.\n",
      "  \"avoid this warning.\", FutureWarning)\n"
     ]
    },
    {
     "data": {
      "text/plain": [
       "0.9065446632818167"
      ]
     },
     "execution_count": 30,
     "metadata": {},
     "output_type": "execute_result"
    }
   ],
   "source": [
    "from sklearn.svm import SVC\n",
    "from sklearn.model_selection import train_test_split\n",
    "train_X, test_X, train_y, test_y = train_test_split(X,y_binary, test_size=0.2)\n",
    "SVC_model_binary = SVC()\n",
    "SVC_model_binary.fit(train_X, train_y)\n",
    "SVC_model_binary.score(test_X, test_y)"
   ]
  },
  {
   "cell_type": "code",
   "execution_count": 31,
   "metadata": {},
   "outputs": [
    {
     "name": "stdout",
     "output_type": "stream",
     "text": [
      "0.9036802760207016\n",
      "1.0\n",
      "0.9494034133816645\n"
     ]
    }
   ],
   "source": [
    "from sklearn import metrics\n",
    "binary_predict_y= SVC_model_binary.predict(test_X)\n",
    "print(metrics.precision_score(test_y, binary_predict_y))\n",
    "print(metrics.recall_score(test_y, binary_predict_y))\n",
    "print(metrics.f1_score(test_y, binary_predict_y))"
   ]
  },
  {
   "cell_type": "code",
   "execution_count": null,
   "metadata": {},
   "outputs": [],
   "source": [
    "#ACC和precision稍微小一点，调一下参数,主要是C、gamma、kernel"
   ]
  },
  {
   "cell_type": "code",
   "execution_count": 37,
   "metadata": {},
   "outputs": [
    {
     "data": {
      "text/plain": [
       "0.9202700440774424"
      ]
     },
     "execution_count": 37,
     "metadata": {},
     "output_type": "execute_result"
    }
   ],
   "source": [
    "from sklearn.svm import SVC\n",
    "from sklearn.model_selection import train_test_split\n",
    "train_X, test_X, train_y, test_y = train_test_split(X,y_binary, test_size=0.2)\n",
    "SVC_model_binary = SVC(C=50, class_weight='balanced')\n",
    "SVC_model_binary.fit(train_X, train_y)\n",
    "SVC_model_binary.score(test_X, test_y)"
   ]
  },
  {
   "cell_type": "code",
   "execution_count": 36,
   "metadata": {},
   "outputs": [
    {
     "data": {
      "text/plain": [
       "0.9059309267421749"
      ]
     },
     "execution_count": 36,
     "metadata": {},
     "output_type": "execute_result"
    }
   ],
   "source": [
    "from sklearn.svm import SVC\n",
    "from sklearn.model_selection import train_test_split\n",
    "train_X, test_X, train_y, test_y = train_test_split(X,y_binary, test_size=0.2)\n",
    "SVC_model_binary = SVC(C=1.0, class_weight='balanced', gamma=0.05)\n",
    "SVC_model_binary.fit(train_X, train_y)\n",
    "SVC_model_binary.score(test_X, test_y)"
   ]
  },
  {
   "cell_type": "code",
   "execution_count": 46,
   "metadata": {},
   "outputs": [
    {
     "data": {
      "text/plain": [
       "0.9072141940523349"
      ]
     },
     "execution_count": 46,
     "metadata": {},
     "output_type": "execute_result"
    }
   ],
   "source": [
    "from sklearn.svm import SVC\n",
    "from sklearn.model_selection import train_test_split\n",
    "train_X, test_X, train_y, test_y = train_test_split(X,y_binary, test_size=0.2)\n",
    "SVC_model_binary = SVC(C=1.0,kernel='linear', class_weight='balanced', gamma=0.05)\n",
    "SVC_model_binary.fit(train_X, train_y)\n",
    "SVC_model_binary.score(test_X, test_y)"
   ]
  },
  {
   "cell_type": "code",
   "execution_count": null,
   "metadata": {},
   "outputs": [],
   "source": [
    "#C和gamma是两个比较重要的参数，gamma增加效果不明显，C增大效果明显，使用NuSVC试了一下，没有明显变好"
   ]
  },
  {
   "cell_type": "code",
   "execution_count": 45,
   "metadata": {},
   "outputs": [
    {
     "data": {
      "text/plain": [
       "0.9095575517491491"
      ]
     },
     "execution_count": 45,
     "metadata": {},
     "output_type": "execute_result"
    }
   ],
   "source": [
    "from sklearn.svm import NuSVC\n",
    "from sklearn.model_selection import train_test_split\n",
    "train_X, test_X, train_y, test_y = train_test_split(X,y_binary, test_size=0.2)\n",
    "SVC_model_binary = NuSVC(nu=0.2)\n",
    "SVC_model_binary.fit(train_X, train_y)\n",
    "SVC_model_binary.score(test_X, test_y)"
   ]
  },
  {
   "cell_type": "code",
   "execution_count": null,
   "metadata": {},
   "outputs": [],
   "source": [
    "#二元标签分类——朴素贝叶斯"
   ]
  },
  {
   "cell_type": "code",
   "execution_count": 54,
   "metadata": {},
   "outputs": [
    {
     "data": {
      "text/plain": [
       "0.8743513920660604"
      ]
     },
     "execution_count": 54,
     "metadata": {},
     "output_type": "execute_result"
    }
   ],
   "source": [
    "from sklearn.naive_bayes import GaussianNB\n",
    "from sklearn.model_selection import train_test_split\n",
    "train_X, test_X, train_y, test_y = train_test_split(X,y_binary, test_size=0.2)\n",
    "GNB_model_binary = GaussianNB()\n",
    "train_X = train_X.toarray()\n",
    "test_X = test_X.toarray()\n",
    "GNB_model_binary.fit(train_X, train_y)\n",
    "GNB_model_binary.score(test_X, test_y)"
   ]
  },
  {
   "cell_type": "code",
   "execution_count": 55,
   "metadata": {},
   "outputs": [
    {
     "name": "stdout",
     "output_type": "stream",
     "text": [
      "0.9976399439486687\n",
      "0.8590207658601638\n",
      "0.9231556677813417\n"
     ]
    }
   ],
   "source": [
    "from sklearn import metrics\n",
    "binary_predict_y= GNB_model_binary.predict(test_X)\n",
    "print(metrics.precision_score(test_y, binary_predict_y))\n",
    "print(metrics.recall_score(test_y, binary_predict_y))\n",
    "print(metrics.f1_score(test_y, binary_predict_y))"
   ]
  },
  {
   "cell_type": "code",
   "execution_count": null,
   "metadata": {},
   "outputs": [],
   "source": [
    "#二元标签分类——随机森林"
   ]
  },
  {
   "cell_type": "code",
   "execution_count": 73,
   "metadata": {},
   "outputs": [
    {
     "data": {
      "text/plain": [
       "0.9308151537131061"
      ]
     },
     "execution_count": 73,
     "metadata": {},
     "output_type": "execute_result"
    }
   ],
   "source": [
    "from sklearn.ensemble import RandomForestClassifier\n",
    "from sklearn.model_selection import train_test_split\n",
    "train_X, test_X, train_y, test_y = train_test_split(X,y_binary, test_size=0.2)\n",
    "RFC_model_binary = RandomForestClassifier(n_estimators=100, criterion=\"entropy\",class_weight='balanced',oob_score=True,n_jobs=4)\n",
    "train_X = train_X.toarray()\n",
    "test_X = test_X.toarray()\n",
    "RFC_model_binary.fit(train_X, train_y)\n",
    "RFC_model_binary.score(test_X, test_y)"
   ]
  },
  {
   "cell_type": "code",
   "execution_count": 74,
   "metadata": {},
   "outputs": [
    {
     "name": "stderr",
     "output_type": "stream",
     "text": [
      "C:\\ProgramData\\Anaconda3\\lib\\site-packages\\sklearn\\ensemble\\forest.py:458: UserWarning: Some inputs do not have OOB scores. This probably means too few trees were used to compute any reliable oob estimates.\n",
      "  warn(\"Some inputs do not have OOB scores. \"\n",
      "C:\\ProgramData\\Anaconda3\\lib\\site-packages\\sklearn\\ensemble\\forest.py:463: RuntimeWarning: invalid value encountered in true_divide\n",
      "  predictions[k].sum(axis=1)[:, np.newaxis])\n"
     ]
    },
    {
     "data": {
      "text/plain": [
       "0.9316520671762539"
      ]
     },
     "execution_count": 74,
     "metadata": {},
     "output_type": "execute_result"
    }
   ],
   "source": [
    "from sklearn.ensemble import RandomForestClassifier\n",
    "from sklearn.model_selection import train_test_split\n",
    "train_X, test_X, train_y, test_y = train_test_split(X,y_binary, test_size=0.2)\n",
    "RFC_model_binary = RandomForestClassifier(n_estimators=10, criterion=\"entropy\",class_weight='balanced',oob_score=True,n_jobs=4)\n",
    "RFC_model_binary.fit(train_X, train_y)\n",
    "RFC_model_binary.score(test_X, test_y)"
   ]
  },
  {
   "cell_type": "code",
   "execution_count": 79,
   "metadata": {},
   "outputs": [
    {
     "name": "stderr",
     "output_type": "stream",
     "text": [
      "[Parallel(n_jobs=4)]: Using backend ThreadingBackend with 4 concurrent workers.\n"
     ]
    },
    {
     "name": "stdout",
     "output_type": "stream",
     "text": [
      "building tree 1 of 15building tree 2 of 15building tree 3 of 15\n",
      "building tree 4 of 15\n",
      "\n",
      "\n",
      "building tree 5 of 15\n",
      "building tree 6 of 15\n",
      "building tree 7 of 15\n",
      "building tree 8 of 15\n",
      "building tree 9 of 15\n",
      "building tree 10 of 15\n",
      "building tree 11 of 15\n",
      "building tree 12 of 15\n",
      "building tree 13 of 15\n",
      "building tree 14 of 15\n",
      "building tree 15 of 15\n"
     ]
    },
    {
     "name": "stderr",
     "output_type": "stream",
     "text": [
      "[Parallel(n_jobs=4)]: Done  12 out of  15 | elapsed:    1.4s remaining:    0.3s\n",
      "[Parallel(n_jobs=4)]: Done  15 out of  15 | elapsed:    1.8s finished\n",
      "C:\\ProgramData\\Anaconda3\\lib\\site-packages\\sklearn\\ensemble\\forest.py:458: UserWarning: Some inputs do not have OOB scores. This probably means too few trees were used to compute any reliable oob estimates.\n",
      "  warn(\"Some inputs do not have OOB scores. \"\n",
      "C:\\ProgramData\\Anaconda3\\lib\\site-packages\\sklearn\\ensemble\\forest.py:463: RuntimeWarning: invalid value encountered in true_divide\n",
      "  predictions[k].sum(axis=1)[:, np.newaxis])\n",
      "[Parallel(n_jobs=4)]: Using backend ThreadingBackend with 4 concurrent workers.\n",
      "[Parallel(n_jobs=4)]: Done  12 out of  15 | elapsed:    0.0s remaining:    0.0s\n",
      "[Parallel(n_jobs=4)]: Done  15 out of  15 | elapsed:    0.0s finished\n"
     ]
    },
    {
     "data": {
      "text/plain": [
       "0.9339954248730681"
      ]
     },
     "execution_count": 79,
     "metadata": {},
     "output_type": "execute_result"
    }
   ],
   "source": [
    "from sklearn.ensemble import RandomForestClassifier\n",
    "from sklearn.model_selection import train_test_split\n",
    "train_X, test_X, train_y, test_y = train_test_split(X,y_binary, test_size=0.2)\n",
    "RFC_model_binary = RandomForestClassifier(n_estimators=15, criterion=\"entropy\",class_weight='balanced',oob_score=True,verbose=5,n_jobs=4)\n",
    "RFC_model_binary.fit(train_X, train_y)\n",
    "RFC_model_binary.score(test_X, test_y)"
   ]
  },
  {
   "cell_type": "code",
   "execution_count": 80,
   "metadata": {},
   "outputs": [
    {
     "name": "stdout",
     "output_type": "stream",
     "text": [
      "0.9841679915209327\n",
      "0.9402569457629264\n",
      "0.9617114930252127\n"
     ]
    },
    {
     "name": "stderr",
     "output_type": "stream",
     "text": [
      "[Parallel(n_jobs=4)]: Using backend ThreadingBackend with 4 concurrent workers.\n",
      "[Parallel(n_jobs=4)]: Done  12 out of  15 | elapsed:    0.0s remaining:    0.0s\n",
      "[Parallel(n_jobs=4)]: Done  15 out of  15 | elapsed:    0.0s finished\n"
     ]
    }
   ],
   "source": [
    "from sklearn import metrics\n",
    "binary_predict_y= RFC_model_binary.predict(test_X)\n",
    "print(metrics.precision_score(test_y, binary_predict_y))\n",
    "print(metrics.recall_score(test_y, binary_predict_y))\n",
    "print(metrics.f1_score(test_y, binary_predict_y))"
   ]
  },
  {
   "cell_type": "code",
   "execution_count": null,
   "metadata": {},
   "outputs": [],
   "source": [
    "#调整了一些参数，准确度还是有点低"
   ]
  },
  {
   "cell_type": "markdown",
   "metadata": {},
   "source": [
    "# 判断是否抄袭，即实际值是0，预测值是1"
   ]
  },
  {
   "cell_type": "code",
   "execution_count": null,
   "metadata": {},
   "outputs": [],
   "source": [
    "#使用precision最高的朴素贝叶斯模型，即保证选出来的是抄袭的新闻，但会遗漏一些"
   ]
  },
  {
   "cell_type": "code",
   "execution_count": 95,
   "metadata": {},
   "outputs": [
    {
     "data": {
      "text/plain": [
       "(89611,)"
      ]
     },
     "execution_count": 95,
     "metadata": {},
     "output_type": "execute_result"
    }
   ],
   "source": [
    "binary_predict_y =GNB_model_binary.predict(X.toarray())\n",
    "binary_predict_y.shape"
   ]
  },
  {
   "cell_type": "code",
   "execution_count": 96,
   "metadata": {},
   "outputs": [
    {
     "data": {
      "text/html": [
       "<div>\n",
       "<style scoped>\n",
       "    .dataframe tbody tr th:only-of-type {\n",
       "        vertical-align: middle;\n",
       "    }\n",
       "\n",
       "    .dataframe tbody tr th {\n",
       "        vertical-align: top;\n",
       "    }\n",
       "\n",
       "    .dataframe thead th {\n",
       "        text-align: right;\n",
       "    }\n",
       "</style>\n",
       "<table border=\"1\" class=\"dataframe\">\n",
       "  <thead>\n",
       "    <tr style=\"text-align: right;\">\n",
       "      <th></th>\n",
       "      <th>id</th>\n",
       "      <th>author</th>\n",
       "      <th>source</th>\n",
       "      <th>content</th>\n",
       "      <th>feature</th>\n",
       "      <th>title</th>\n",
       "      <th>url</th>\n",
       "      <th>y_binary</th>\n",
       "      <th>binary_predict_y</th>\n",
       "    </tr>\n",
       "  </thead>\n",
       "  <tbody>\n",
       "    <tr>\n",
       "      <th>0</th>\n",
       "      <td>89617</td>\n",
       "      <td>NaN</td>\n",
       "      <td>快科技@http://www.kkj.cn/</td>\n",
       "      <td>此外，自本周（6月12日）起，除小米手机6等15款机型外，其余机型已暂停更新发布（含开发版/...</td>\n",
       "      <td>{\"type\":\"科技\",\"site\":\"cnbeta\",\"commentNum\":\"37\"...</td>\n",
       "      <td>小米MIUI 9首批机型曝光：共计15款</td>\n",
       "      <td>http://www.cnbeta.com/articles/tech/623597.htm</td>\n",
       "      <td>0</td>\n",
       "      <td>0</td>\n",
       "    </tr>\n",
       "    <tr>\n",
       "      <th>1</th>\n",
       "      <td>89616</td>\n",
       "      <td>NaN</td>\n",
       "      <td>快科技@http://www.kkj.cn/</td>\n",
       "      <td>骁龙835作为唯一通过Windows 10桌面平台认证的ARM处理器，高通强调，不会因为只考...</td>\n",
       "      <td>{\"type\":\"科技\",\"site\":\"cnbeta\",\"commentNum\":\"15\"...</td>\n",
       "      <td>骁龙835在Windows 10上的性能表现有望改善</td>\n",
       "      <td>http://www.cnbeta.com/articles/tech/623599.htm</td>\n",
       "      <td>0</td>\n",
       "      <td>0</td>\n",
       "    </tr>\n",
       "  </tbody>\n",
       "</table>\n",
       "</div>"
      ],
      "text/plain": [
       "      id author                  source  \\\n",
       "0  89617    NaN  快科技@http://www.kkj.cn/   \n",
       "1  89616    NaN  快科技@http://www.kkj.cn/   \n",
       "\n",
       "                                             content  \\\n",
       "0  此外，自本周（6月12日）起，除小米手机6等15款机型外，其余机型已暂停更新发布（含开发版/...   \n",
       "1  骁龙835作为唯一通过Windows 10桌面平台认证的ARM处理器，高通强调，不会因为只考...   \n",
       "\n",
       "                                             feature  \\\n",
       "0  {\"type\":\"科技\",\"site\":\"cnbeta\",\"commentNum\":\"37\"...   \n",
       "1  {\"type\":\"科技\",\"site\":\"cnbeta\",\"commentNum\":\"15\"...   \n",
       "\n",
       "                        title                                             url  \\\n",
       "0        小米MIUI 9首批机型曝光：共计15款  http://www.cnbeta.com/articles/tech/623597.htm   \n",
       "1  骁龙835在Windows 10上的性能表现有望改善  http://www.cnbeta.com/articles/tech/623599.htm   \n",
       "\n",
       "   y_binary  binary_predict_y  \n",
       "0         0                 0  \n",
       "1         0                 0  "
      ]
     },
     "execution_count": 96,
     "metadata": {},
     "output_type": "execute_result"
    }
   ],
   "source": [
    "TF_content['y_binary'] = y_binary\n",
    "TF_content['binary_predict_y'] = binary_predict_y\n",
    "TF_content.head(2)"
   ]
  },
  {
   "cell_type": "code",
   "execution_count": 97,
   "metadata": {},
   "outputs": [
    {
     "data": {
      "text/html": [
       "<div>\n",
       "<style scoped>\n",
       "    .dataframe tbody tr th:only-of-type {\n",
       "        vertical-align: middle;\n",
       "    }\n",
       "\n",
       "    .dataframe tbody tr th {\n",
       "        vertical-align: top;\n",
       "    }\n",
       "\n",
       "    .dataframe thead th {\n",
       "        text-align: right;\n",
       "    }\n",
       "</style>\n",
       "<table border=\"1\" class=\"dataframe\">\n",
       "  <thead>\n",
       "    <tr style=\"text-align: right;\">\n",
       "      <th></th>\n",
       "      <th>id</th>\n",
       "      <th>author</th>\n",
       "      <th>source</th>\n",
       "      <th>content</th>\n",
       "      <th>feature</th>\n",
       "      <th>title</th>\n",
       "      <th>url</th>\n",
       "      <th>y_binary</th>\n",
       "      <th>binary_predict_y</th>\n",
       "    </tr>\n",
       "  </thead>\n",
       "  <tbody>\n",
       "    <tr>\n",
       "      <th>98</th>\n",
       "      <td>89519</td>\n",
       "      <td>NaN</td>\n",
       "      <td>中国新闻网</td>\n",
       "      <td>中新社吉隆坡6月23日电 (赵胜玉 张淼)中国浙江吉利控股集团23日在吉隆坡与马来西亚DRB...</td>\n",
       "      <td>{\"type\":\"国际财经\",\"site\":\"参考消息\",\"commentNum\":\"0\",...</td>\n",
       "      <td>吉利控股集团与马来西亚DRB-HICOM集团签署最终协议</td>\n",
       "      <td>http://www.cankaoxiaoxi.com/finance/20170623/2...</td>\n",
       "      <td>0</td>\n",
       "      <td>1</td>\n",
       "    </tr>\n",
       "    <tr>\n",
       "      <th>158</th>\n",
       "      <td>89459</td>\n",
       "      <td>张田宇</td>\n",
       "      <td>环球网</td>\n",
       "      <td>2017 年 6 月 16 日(星期五)第二届澳门国际影展暨颁奖典礼 (下称“影展”) ...</td>\n",
       "      <td>{\"type\":\"娱乐\",\"site\":\"环球\",\"commentNum\":\"0\",\"joi...</td>\n",
       "      <td>第二届澳门国际影展暨颁奖典礼 前所未见的新戏象</td>\n",
       "      <td>http://ent.huanqiu.com/movie/yingshi-gangtai/2...</td>\n",
       "      <td>0</td>\n",
       "      <td>1</td>\n",
       "    </tr>\n",
       "  </tbody>\n",
       "</table>\n",
       "</div>"
      ],
      "text/plain": [
       "        id author source                                            content  \\\n",
       "98   89519    NaN  中国新闻网  中新社吉隆坡6月23日电 (赵胜玉 张淼)中国浙江吉利控股集团23日在吉隆坡与马来西亚DRB...   \n",
       "158  89459    张田宇    环球网  　　2017 年 6 月 16 日(星期五)第二届澳门国际影展暨颁奖典礼 (下称“影展”) ...   \n",
       "\n",
       "                                               feature  \\\n",
       "98   {\"type\":\"国际财经\",\"site\":\"参考消息\",\"commentNum\":\"0\",...   \n",
       "158  {\"type\":\"娱乐\",\"site\":\"环球\",\"commentNum\":\"0\",\"joi...   \n",
       "\n",
       "                            title  \\\n",
       "98   吉利控股集团与马来西亚DRB-HICOM集团签署最终协议   \n",
       "158       第二届澳门国际影展暨颁奖典礼 前所未见的新戏象   \n",
       "\n",
       "                                                   url  y_binary  \\\n",
       "98   http://www.cankaoxiaoxi.com/finance/20170623/2...         0   \n",
       "158  http://ent.huanqiu.com/movie/yingshi-gangtai/2...         0   \n",
       "\n",
       "     binary_predict_y  \n",
       "98                  1  \n",
       "158                 1  "
      ]
     },
     "execution_count": 97,
     "metadata": {},
     "output_type": "execute_result"
    }
   ],
   "source": [
    "copy_news = TF_content[(TF_content.y_binary == 0) & (TF_content.binary_predict_y == 1)]\n",
    "copy_news.head(2)"
   ]
  },
  {
   "cell_type": "code",
   "execution_count": 98,
   "metadata": {},
   "outputs": [
    {
     "data": {
      "text/plain": [
       "40"
      ]
     },
     "execution_count": 98,
     "metadata": {},
     "output_type": "execute_result"
    }
   ],
   "source": [
    "len(copy_news.source)"
   ]
  },
  {
   "cell_type": "code",
   "execution_count": 99,
   "metadata": {},
   "outputs": [
    {
     "name": "stdout",
     "output_type": "stream",
     "text": [
      "cnBeta.COM 1\n",
      "中国新闻网 2\n",
      "中国经济网 1\n",
      "中国证券网 1\n",
      "中国金融信息网 1\n",
      "人民网－人民日报 1\n",
      "凤凰体育 1\n",
      "凤凰财经 2\n",
      "南方日报第01版 5\n",
      "叮咚体坛 1\n",
      "广州日报第DGA17版 1\n",
      "广州日报第ZSA15版 1\n",
      "搜狐焦点 1\n",
      "新华社新媒体专线 1\n",
      "新华网 4\n",
      "新旅界 1\n",
      "新浪体育 1\n",
      "河南日报第16版 1\n",
      "海南日报第004版 1\n",
      "湖北日报第12版 1\n",
      "燕赵晚报 1\n",
      "环球网 3\n",
      "经济参考报 1\n",
      "经济日报 1\n",
      "考拉网 1\n",
      "证券时报APP 1\n",
      "证券时报网 1\n",
      "长江日报第21版 1\n",
      "长江日报第5版 1\n"
     ]
    }
   ],
   "source": [
    "for name, group in copy_news.groupby(\"source\"):\n",
    "    print(name,len(group))"
   ]
  },
  {
   "cell_type": "markdown",
   "metadata": {},
   "source": []
  },
  {
   "cell_type": "markdown",
   "metadata": {},
   "source": [
    "# 各机器学习模型的优缺点"
   ]
  },
  {
   "cell_type": "raw",
   "metadata": {},
   "source": [
    "1.LogisticRegression：\n",
    "\n",
    "优点：\n",
    "    实现简单,速度快，适合二分类问题；\n",
    "    简单易于理解，直接看到各个特征的权重；\n",
    "    能容易地更新模型吸收新的数据；\n",
    "    对逻辑回归而言，多重共线性并不是问题，它可以结合L2正则化来解决该问题.\n",
    "    \n",
    "缺点： \n",
    "    当特征空间很大时，逻辑回归的性能不是很好(本次作业我处理的特征向量空间就太大了，LR模型就不是很好)； \n",
    "    容易欠拟合，一般准确度不太高 \n",
    "    只能处理两分类问题（在此基础上衍生出来的softmax可以用于多分类），且必须线性可分，对于非线性特征，需要进行转换；  \n",
    "    只是广义线性模型，不是真正的非线性方法；\n",
    "    异常值和缺失值影响大，应先排除"
   ]
  },
  {
   "cell_type": "raw",
   "metadata": {},
   "source": [
    "2.KNN：\n",
    "\n",
    "优点：\n",
    "   理论成熟，思想简单，既可以用来做分类又可以做回归；\n",
    "   可以用于非线性分类；\n",
    "   对异常点不敏感（不在分类的点旁边）；\n",
    "   由于KNN方法主要靠周围有限的邻近的样本，而不是靠判别类域的方法来确定所属的类别，因此对于类域的交叉或重叠较多的待分类样本集来说，KNN方法较其他方法更为适合;\n",
    "   适用于样本容量比较大的类域的自动分类，而那些样本容量比较小的类域采用这种算法比较容易产生误分类.\n",
    "\n",
    "缺点：\n",
    "   计算量大，尤其是特征数非常多的时候,计算时间慢；\n",
    "   样本不平衡的时候，对稀有类别的预测准确率低；\n",
    "   KD树，球树之类的模型建立需要大量的内存；\n",
    "   高维特征向量相似度高，不易区分；\n",
    "   K值不好选择"
   ]
  },
  {
   "cell_type": "raw",
   "metadata": {},
   "source": [
    "3.SVM：\n",
    "\n",
    "优点：\n",
    "    使用核函数，可以简化高维空间问题的求解难度；\n",
    "    基于小样本统计理论的基础上，有较好的泛化能力；\n",
    "    可以解决非线性问题\n",
    "    \n",
    "缺点：    \n",
    "    用SVM解决多分类问题存在困难；\n",
    "    SVM算法对大规模训练样本难以实施 由于SVM是借助二次规划来求解支持向量，而求解二次规划将涉及m阶矩阵的计算（m为样本的个数），当m数目很大时该矩阵的存储和计算将耗费大量的机器内存和运算时间；\n",
    "    对噪声和缺失数据敏感。"
   ]
  },
  {
   "cell_type": "raw",
   "metadata": {},
   "source": [
    "4.Naive Bayes:\n",
    "优点：\n",
    "    朴素贝叶斯模型发源于古典数学理论，有着坚实的数学基础，以及稳定的分类效率；\n",
    "    NBC模型所需估计的参数很少，对缺失数据不太敏感，算法也比较简单；\n",
    "    属性相关性较小时，NBC模型的性能最为良好\n",
    "    对于多分类问题也同样很有效，复杂度也不会有大程度上升。  \n",
    "  \n",
    "缺点：\n",
    "    属性相关性较大时，NBC模型的性能不太好。\n",
    "    需要知道先验概率。"
   ]
  },
  {
   "cell_type": "raw",
   "metadata": {},
   "source": [
    "5.Decision Tree:\n",
    "优点：\n",
    "    策树易于理解和解释，可以可视化分析；\n",
    "    适合高维数据；\n",
    "     能够同时处理数据型和常规型属性。其他的技术往往要求数据属性的单一；\n",
    "     效率高，决策树只需要一次构建，反复使用，每一次预测的最大计算次数不超过决策树的深度；\n",
    "     可以处理不相关特征数据；\n",
    "     对缺失值不敏感。\n",
    "缺点：\n",
    "    决策树容易发生过拟合，但是随机森林可以很大程度上减少过拟合；\n",
    "    对连续性的字段比较难预测；\n",
    "    在处理特征关联性比较强的数据时表现得不是太好；\n",
    "    当类别太多时，错误可能就会增加的比较快\n",
    "    （这次作业，对于这种非平衡的数据处理结果不是很好）"
   ]
  },
  {
   "cell_type": "markdown",
   "metadata": {},
   "source": []
  }
 ],
 "metadata": {
  "kernelspec": {
   "display_name": "Python 3",
   "language": "python",
   "name": "python3"
  },
  "language_info": {
   "codemirror_mode": {
    "name": "ipython",
    "version": 3
   },
   "file_extension": ".py",
   "mimetype": "text/x-python",
   "name": "python",
   "nbconvert_exporter": "python",
   "pygments_lexer": "ipython3",
   "version": "3.7.1"
  }
 },
 "nbformat": 4,
 "nbformat_minor": 2
}
