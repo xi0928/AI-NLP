{
 "cells": [
  {
   "cell_type": "markdown",
   "metadata": {},
   "source": [
    "## Assignments for Week-02"
   ]
  },
  {
   "cell_type": "markdown",
   "metadata": {},
   "source": [
    "In this course, we learnt what's the search problem and what's the machine leanring. In this assignment, we need you do some more practice."
   ]
  },
  {
   "cell_type": "markdown",
   "metadata": {},
   "source": [
    "### 1. Re-code the house price machine learning\n",
    "\n",
    "###### 1. Random Choose Method to get optimal *k* and *b*\n",
    "###### 2.Supervised Direction to get optimal *k* and *b*\n",
    "###### 3.Gradient Descent to get optimal *k* and *b*\n",
    "###### 4. Try different Loss function and learning rate. \n",
    "\n",
    "For example, you can change the loss function: $Loss = \\frac{1}{n} sum({y_i - \\hat{y_i}})^2$ to $Loss = \\frac{1}{n} sum(|{y_i - \\hat{y_i}}|)$\n",
    "\n",
    "And you can change the learning rate and observe the performance."
   ]
  },
  {
   "cell_type": "markdown",
   "metadata": {},
   "source": [
    "![](https://timgsa.baidu.com/timg?image&quality=80&size=b9999_10000&sec=1562414412237&di=8377c38d7b50c6f8d45b92ccc78dc1e7&imgtype=0&src=http%3A%2F%2Fmmbiz.qpic.cn%2Fmmbiz_jpg%2FlSyiavfm6wPgQDuDYa42IMgSkLOcPJU91RbkMibGy7VHLrhhNVLibTYk1iaLcmXKTdHc4icTDVia59QFXwqpW8cLflaw%2F640%3Fwx_fmt%3Djpeg)"
   ]
  },
  {
   "cell_type": "code",
   "execution_count": 4,
   "metadata": {},
   "outputs": [],
   "source": [
    "from sklearn.datasets import load_boston"
   ]
  },
  {
   "cell_type": "code",
   "execution_count": 5,
   "metadata": {},
   "outputs": [],
   "source": [
    "import matplotlib.pyplot as plt"
   ]
  },
  {
   "cell_type": "code",
   "execution_count": 6,
   "metadata": {},
   "outputs": [],
   "source": [
    "data = load_boston()"
   ]
  },
  {
   "cell_type": "code",
   "execution_count": 7,
   "metadata": {},
   "outputs": [],
   "source": [
    "X, y = data['data'], data['target']"
   ]
  },
  {
   "cell_type": "code",
   "execution_count": 8,
   "metadata": {},
   "outputs": [],
   "source": [
    "%matplotlib inline"
   ]
  },
  {
   "cell_type": "code",
   "execution_count": 9,
   "metadata": {},
   "outputs": [],
   "source": [
    "def draw_rm_and_price():\n",
    "    plt.scatter(X[:, 5], y)"
   ]
  },
  {
   "cell_type": "code",
   "execution_count": 10,
   "metadata": {},
   "outputs": [
    {
     "data": {
      "image/png": "[encoded data removed]",
      "text/plain": [
       "<Figure size 432x288 with 1 Axes>"
      ]
     },
     "metadata": {
      "needs_background": "light"
     },
     "output_type": "display_data"
    }
   ],
   "source": [
    "draw_rm_and_price()"
   ]
  },
  {
   "cell_type": "markdown",
   "metadata": {},
   "source": [
    "# First-Method: Random generation: get best k and best b"
   ]
  },
  {
   "cell_type": "code",
   "execution_count": 11,
   "metadata": {},
   "outputs": [],
   "source": [
    "import random"
   ]
  },
  {
   "cell_type": "code",
   "execution_count": 12,
   "metadata": {},
   "outputs": [],
   "source": [
    "def price(rm, k, b):\n",
    "    return k * rm + b"
   ]
  },
  {
   "cell_type": "code",
   "execution_count": 13,
   "metadata": {},
   "outputs": [],
   "source": [
    "def price_random(n):#一元一次函数与实际房价\n",
    "    X_rm = X[:, 5]\n",
    "    k = random.randint(-n, n)\n",
    "    b = random.randint(-n, n)\n",
    "    price_by_random_k_and_b = [price(r, k, b) for r in X_rm]\n",
    "    return draw_rm_and_price(), plt.scatter(X_rm, price_by_random_k_and_b)"
   ]
  },
  {
   "cell_type": "code",
   "execution_count": 14,
   "metadata": {},
   "outputs": [
    {
     "data": {
      "text/plain": [
       "(None, <matplotlib.collections.PathCollection at 0x1a7600d3278>)"
      ]
     },
     "execution_count": 14,
     "metadata": {},
     "output_type": "execute_result"
    },
    {
     "data": {
      "image/png": "[encoded data removed]",
      "text/plain": [
       "<Figure size 432x288 with 1 Axes>"
      ]
     },
     "metadata": {
      "needs_background": "light"
     },
     "output_type": "display_data"
    }
   ],
   "source": [
    " price_random(100)#k b in random [-100,100]"
   ]
  },
  {
   "cell_type": "code",
   "execution_count": 15,
   "metadata": {},
   "outputs": [],
   "source": [
    "def loss(y, y_hat): # to evaluate the performance \n",
    "    return sum((y_i - y_hat_i)**2 for y_i, y_hat_i in zip(list(y), list(y_hat))) / len(list(y))"
   ]
  },
  {
   "cell_type": "code",
   "execution_count": 16,
   "metadata": {},
   "outputs": [],
   "source": [
    "def get_the_min_loss(n):  #try different k,b to get the min loss\n",
    "    min_loss = float('inf')\n",
    "    best_k, best_b = None, None\n",
    "    X_rm = X[:, 5]\n",
    "    for i in range(n):\n",
    "        k = random.random() * 200 - 100\n",
    "        b = random.random() * 200 - 100\n",
    "        price_by_random_k_and_b = [price(r, k, b) for r in X_rm]\n",
    "        current_loss = loss(y, price_by_random_k_and_b)\n",
    "        if current_loss < min_loss:\n",
    "            min_loss = current_loss\n",
    "            best_k, best_b = k, b\n",
    "            print('When time is : {}, get best_k: {} best_b: {}, and the loss is: {}'.format(i, best_k, best_b, min_loss))"
   ]
  },
  {
   "cell_type": "code",
   "execution_count": 17,
   "metadata": {},
   "outputs": [
    {
     "name": "stdout",
     "output_type": "stream",
     "text": [
      "When time is : 0, get best_k: 58.30830451855678 best_b: 17.519090667667882, and the loss is: 131870.10639256568\n",
      "When time is : 1, get best_k: -7.5967249193843855 best_b: -8.46446873620279, and the loss is: 6380.963144533497\n",
      "When time is : 14, get best_k: -17.038153637510405 best_b: 65.55349672146744, and the loss is: 4483.67721887284\n",
      "When time is : 15, get best_k: 10.837726209503671 best_b: -22.32474336050305, and the loss is: 585.8145102547477\n",
      "When time is : 37, get best_k: -7.755222778299654 best_b: 79.06363460513413, and the loss is: 244.32621464833105\n",
      "When time is : 67, get best_k: 8.114929829339872 best_b: -28.87013228951261, and the loss is: 44.24356443433222\n",
      "When time is : 8877, get best_k: 9.41976795006984 best_b: -35.94954241609041, and the loss is: 44.165001113551796\n"
     ]
    }
   ],
   "source": [
    "get_the_min_loss(10000)"
   ]
  },
  {
   "cell_type": "markdown",
   "metadata": {},
   "source": [
    "# 2nd-Method: Direction Adjusting"
   ]
  },
  {
   "cell_type": "code",
   "execution_count": 55,
   "metadata": {},
   "outputs": [],
   "source": [
    "def get_the_min_loss_adjust(n):  #try different k,b to get the min loss/give direction adjusting\n",
    "    min_loss = float('inf')\n",
    "    best_k = random.random() * 200 - 100\n",
    "    best_b = random.random() * 200 - 100\n",
    "    X_rm = X[:, 5]\n",
    "\n",
    "    direction = [\n",
    "    (+1, -1),  # first element: k's change direction, second element: b's change direction\n",
    "    (+1, +1), \n",
    "    (-1, -1), \n",
    "    (-1, +1),\n",
    "    ]\n",
    "\n",
    "    next_direction = random.choice(direction)\n",
    "\n",
    "    scalar = 0.1\n",
    "\n",
    "    for i in range(n):\n",
    "    \n",
    "        k_direction, b_direction = next_direction\n",
    "    \n",
    "        current_k, current_b = best_k + k_direction * scalar, best_b + b_direction * scalar\n",
    "    \n",
    "        price_by_k_and_b = [price(r, current_k, current_b) for r in X_rm]\n",
    "\n",
    "        current_loss = loss(y, price_by_k_and_b)\n",
    "    \n",
    "        if current_loss < min_loss: # performance became better\n",
    "            min_loss = current_loss\n",
    "            best_k, best_b = current_k, current_b\n",
    "        \n",
    "            next_direction = next_direction\n",
    "            print('When time is : {}, get best_k: {} best_b: {}, and the loss is: {}'.format(i, best_k, best_b, min_loss))\n",
    "        else:\n",
    "            next_direction = random.choice(direction)"
   ]
  },
  {
   "cell_type": "code",
   "execution_count": 57,
   "metadata": {},
   "outputs": [
    {
     "name": "stdout",
     "output_type": "stream",
     "text": [
      "When time is : 0, get best_k: 21.603258226516125 best_b: -32.50917594181572, and the loss is: 6637.381841341489\n",
      "When time is : 1, get best_k: 21.503258226516124 best_b: -32.60917594181572, and the loss is: 6519.072826709759\n",
      "When time is : 2, get best_k: 21.403258226516122 best_b: -32.70917594181572, and the loss is: 6401.8349839455195\n",
      "When time is : 3, get best_k: 21.30325822651612 best_b: -32.809175941815724, and the loss is: 6285.668313048735\n",
      "When time is : 4, get best_k: 21.20325822651612 best_b: -32.909175941815725, and the loss is: 6170.572814019426\n",
      "When time is : 5, get best_k: 21.103258226516118 best_b: -33.00917594181573, and the loss is: 6056.54848685759\n",
      "When time is : 6, get best_k: 21.003258226516117 best_b: -33.10917594181573, and the loss is: 5943.595331563223\n",
      "When time is : 7, get best_k: 20.903258226516115 best_b: -33.20917594181573, and the loss is: 5831.713348136334\n",
      "When time is : 8, get best_k: 20.803258226516114 best_b: -33.30917594181573, and the loss is: 5720.902536576901\n",
      "When time is : 9, get best_k: 20.703258226516112 best_b: -33.40917594181573, and the loss is: 5611.162896884941\n",
      "When time is : 10, get best_k: 20.60325822651611 best_b: -33.509175941815734, and the loss is: 5502.494429060451\n",
      "When time is : 11, get best_k: 20.50325822651611 best_b: -33.609175941815735, and the loss is: 5394.897133103439\n",
      "When time is : 12, get best_k: 20.403258226516108 best_b: -33.70917594181574, and the loss is: 5288.371009013895\n",
      "When time is : 13, get best_k: 20.303258226516107 best_b: -33.80917594181574, and the loss is: 5182.916056791819\n",
      "When time is : 14, get best_k: 20.203258226516105 best_b: -33.90917594181574, and the loss is: 5078.53227643721\n",
      "When time is : 15, get best_k: 20.103258226516104 best_b: -34.00917594181574, and the loss is: 4975.219667950076\n",
      "When time is : 16, get best_k: 20.003258226516103 best_b: -34.10917594181574, and the loss is: 4872.978231330416\n",
      "When time is : 17, get best_k: 19.9032582265161 best_b: -34.209175941815744, and the loss is: 4771.807966578221\n",
      "When time is : 18, get best_k: 19.8032582265161 best_b: -34.309175941815745, and the loss is: 4671.708873693501\n",
      "When time is : 19, get best_k: 19.7032582265161 best_b: -34.40917594181575, and the loss is: 4572.68095267624\n",
      "When time is : 20, get best_k: 19.603258226516097 best_b: -34.50917594181575, and the loss is: 4474.724203526463\n",
      "When time is : 21, get best_k: 19.503258226516095 best_b: -34.60917594181575, and the loss is: 4377.838626244148\n",
      "When time is : 22, get best_k: 19.403258226516094 best_b: -34.70917594181575, and the loss is: 4282.024220829308\n",
      "When time is : 23, get best_k: 19.303258226516093 best_b: -34.80917594181575, and the loss is: 4187.280987281938\n",
      "When time is : 24, get best_k: 19.20325822651609 best_b: -34.909175941815754, and the loss is: 4093.608925602036\n",
      "When time is : 25, get best_k: 19.10325822651609 best_b: -35.009175941815755, and the loss is: 4001.008035789604\n",
      "When time is : 26, get best_k: 19.00325822651609 best_b: -35.10917594181576, and the loss is: 3909.478317844643\n",
      "When time is : 27, get best_k: 18.903258226516087 best_b: -35.20917594181576, and the loss is: 3819.0197717671545\n",
      "When time is : 28, get best_k: 18.803258226516085 best_b: -35.30917594181576, and the loss is: 3729.6323975571363\n",
      "When time is : 29, get best_k: 18.703258226516084 best_b: -35.40917594181576, and the loss is: 3641.3161952145906\n",
      "When time is : 30, get best_k: 18.603258226516083 best_b: -35.50917594181576, and the loss is: 3554.0711647395087\n",
      "When time is : 31, get best_k: 18.50325822651608 best_b: -35.609175941815764, and the loss is: 3467.897306131899\n",
      "When time is : 32, get best_k: 18.40325822651608 best_b: -35.709175941815765, and the loss is: 3382.7946193917633\n",
      "When time is : 33, get best_k: 18.30325822651608 best_b: -35.80917594181577, and the loss is: 3298.7631045190938\n",
      "When time is : 34, get best_k: 18.203258226516077 best_b: -35.90917594181577, and the loss is: 3215.802761513898\n",
      "When time is : 35, get best_k: 18.103258226516076 best_b: -36.00917594181577, and the loss is: 3133.913590376172\n",
      "When time is : 36, get best_k: 18.003258226516074 best_b: -36.10917594181577, and the loss is: 3053.095591105907\n",
      "When time is : 37, get best_k: 17.903258226516073 best_b: -36.20917594181577, and the loss is: 2973.3487637031285\n",
      "When time is : 38, get best_k: 17.80325822651607 best_b: -36.309175941815774, and the loss is: 2894.6731081678126\n",
      "When time is : 39, get best_k: 17.70325822651607 best_b: -36.409175941815775, and the loss is: 2817.068624499966\n",
      "When time is : 40, get best_k: 17.60325822651607 best_b: -36.509175941815776, and the loss is: 2740.535312699591\n",
      "When time is : 41, get best_k: 17.503258226516067 best_b: -36.60917594181578, and the loss is: 2665.0731727666885\n",
      "When time is : 42, get best_k: 17.403258226516066 best_b: -36.70917594181578, and the loss is: 2590.682204701252\n",
      "When time is : 43, get best_k: 17.303258226516064 best_b: -36.80917594181578, and the loss is: 2517.3624085032898\n",
      "When time is : 44, get best_k: 17.203258226516063 best_b: -36.90917594181578, and the loss is: 2445.1137841727946\n",
      "When time is : 45, get best_k: 17.10325822651606 best_b: -37.00917594181578, and the loss is: 2373.9363317097727\n",
      "When time is : 46, get best_k: 17.00325822651606 best_b: -37.109175941815785, and the loss is: 2303.8300511142193\n",
      "When time is : 47, get best_k: 16.90325822651606 best_b: -37.209175941815786, and the loss is: 2234.794942386138\n",
      "When time is : 48, get best_k: 16.803258226516057 best_b: -37.30917594181579, and the loss is: 2166.8310055255274\n",
      "When time is : 49, get best_k: 16.703258226516056 best_b: -37.40917594181579, and the loss is: 2099.938240532385\n",
      "When time is : 50, get best_k: 16.603258226516054 best_b: -37.50917594181579, and the loss is: 2034.1166474067127\n",
      "When time is : 51, get best_k: 16.503258226516053 best_b: -37.60917594181579, and the loss is: 1969.3662261485147\n",
      "When time is : 52, get best_k: 16.40325822651605 best_b: -37.70917594181579, and the loss is: 1905.6869767577837\n",
      "When time is : 53, get best_k: 16.30325822651605 best_b: -37.809175941815795, and the loss is: 1843.0788992345238\n",
      "When time is : 54, get best_k: 16.20325822651605 best_b: -37.909175941815796, and the loss is: 1781.5419935787354\n",
      "When time is : 55, get best_k: 16.103258226516047 best_b: -38.0091759418158, and the loss is: 1721.0762597904159\n",
      "When time is : 56, get best_k: 16.003258226516046 best_b: -38.1091759418158, and the loss is: 1661.6816978695656\n",
      "When time is : 57, get best_k: 15.903258226516046 best_b: -38.2091759418158, and the loss is: 1603.3583078161887\n",
      "When time is : 58, get best_k: 15.803258226516046 best_b: -38.3091759418158, and the loss is: 1546.1060896302815\n",
      "When time is : 59, get best_k: 15.703258226516047 best_b: -38.4091759418158, and the loss is: 1489.925043311845\n",
      "When time is : 60, get best_k: 15.603258226516047 best_b: -38.509175941815805, and the loss is: 1434.8151688608802\n",
      "When time is : 61, get best_k: 15.503258226516047 best_b: -38.609175941815806, and the loss is: 1380.776466277384\n",
      "When time is : 62, get best_k: 15.403258226516048 best_b: -38.70917594181581, and the loss is: 1327.8089355613577\n",
      "When time is : 63, get best_k: 15.303258226516048 best_b: -38.80917594181581, and the loss is: 1275.9125767127996\n",
      "When time is : 64, get best_k: 15.203258226516049 best_b: -38.90917594181581, and the loss is: 1225.0873897317158\n",
      "When time is : 65, get best_k: 15.103258226516049 best_b: -39.00917594181581, and the loss is: 1175.3333746181027\n",
      "When time is : 66, get best_k: 15.00325822651605 best_b: -39.10917594181581, and the loss is: 1126.6505313719583\n",
      "When time is : 67, get best_k: 14.90325822651605 best_b: -39.209175941815815, and the loss is: 1079.0388599932828\n",
      "When time is : 68, get best_k: 14.80325822651605 best_b: -39.309175941815816, and the loss is: 1032.4983604820804\n",
      "When time is : 69, get best_k: 14.70325822651605 best_b: -39.40917594181582, and the loss is: 987.0290328383476\n",
      "When time is : 70, get best_k: 14.60325822651605 best_b: -39.50917594181582, and the loss is: 942.6308770620849\n",
      "When time is : 71, get best_k: 14.503258226516051 best_b: -39.60917594181582, and the loss is: 899.3038931532914\n",
      "When time is : 72, get best_k: 14.403258226516051 best_b: -39.70917594181582, and the loss is: 857.0480811119703\n",
      "When time is : 73, get best_k: 14.303258226516052 best_b: -39.80917594181582, and the loss is: 815.8634409381191\n",
      "When time is : 74, get best_k: 14.203258226516052 best_b: -39.909175941815825, and the loss is: 775.7499726317367\n",
      "When time is : 75, get best_k: 14.103258226516052 best_b: -40.009175941815826, and the loss is: 736.7076761928257\n",
      "When time is : 76, get best_k: 14.003258226516053 best_b: -40.10917594181583, and the loss is: 698.7365516213847\n",
      "When time is : 77, get best_k: 13.903258226516053 best_b: -40.20917594181583, and the loss is: 661.8365989174147\n",
      "When time is : 78, get best_k: 13.803258226516053 best_b: -40.30917594181583, and the loss is: 626.0078180809153\n",
      "When time is : 79, get best_k: 13.703258226516054 best_b: -40.40917594181583, and the loss is: 591.2502091118857\n",
      "When time is : 80, get best_k: 13.603258226516054 best_b: -40.50917594181583, and the loss is: 557.563772010326\n",
      "When time is : 81, get best_k: 13.503258226516055 best_b: -40.609175941815835, and the loss is: 524.948506776237\n",
      "When time is : 82, get best_k: 13.403258226516055 best_b: -40.709175941815836, and the loss is: 493.4044134096184\n",
      "When time is : 83, get best_k: 13.303258226516055 best_b: -40.80917594181584, and the loss is: 462.9314919104702\n",
      "When time is : 84, get best_k: 13.203258226516056 best_b: -40.90917594181584, and the loss is: 433.5297422787919\n",
      "When time is : 85, get best_k: 13.103258226516056 best_b: -41.00917594181584, and the loss is: 405.1991645145843\n",
      "When time is : 86, get best_k: 13.003258226516056 best_b: -41.10917594181584, and the loss is: 377.9397586178474\n",
      "When time is : 87, get best_k: 12.903258226516057 best_b: -41.20917594181584, and the loss is: 351.7515245885805\n",
      "When time is : 88, get best_k: 12.803258226516057 best_b: -41.309175941815845, and the loss is: 326.6344624267841\n",
      "When time is : 89, get best_k: 12.703258226516057 best_b: -41.409175941815846, and the loss is: 302.5885721324581\n",
      "When time is : 90, get best_k: 12.603258226516058 best_b: -41.50917594181585, and the loss is: 279.6138537056024\n",
      "When time is : 91, get best_k: 12.503258226516058 best_b: -41.60917594181585, and the loss is: 257.71030714621696\n",
      "When time is : 92, get best_k: 12.403258226516058 best_b: -41.70917594181585, and the loss is: 236.87793245430197\n",
      "When time is : 93, get best_k: 12.303258226516059 best_b: -41.80917594181585, and the loss is: 217.11672962985708\n",
      "When time is : 94, get best_k: 12.20325822651606 best_b: -41.90917594181585, and the loss is: 198.42669867288285\n",
      "When time is : 95, get best_k: 12.10325822651606 best_b: -42.009175941815855, and the loss is: 180.8078395833789\n",
      "When time is : 96, get best_k: 12.00325822651606 best_b: -42.109175941815856, and the loss is: 164.26015236134538\n",
      "When time is : 97, get best_k: 11.90325822651606 best_b: -42.20917594181586, and the loss is: 148.7836370067821\n",
      "When time is : 98, get best_k: 11.80325822651606 best_b: -42.30917594181586, and the loss is: 134.37829351968907\n",
      "When time is : 99, get best_k: 11.703258226516061 best_b: -42.40917594181586, and the loss is: 121.04412190006649\n",
      "When time is : 100, get best_k: 11.603258226516061 best_b: -42.50917594181586, and the loss is: 108.78112214791436\n",
      "When time is : 101, get best_k: 11.503258226516062 best_b: -42.60917594181586, and the loss is: 97.58929426323238\n",
      "When time is : 102, get best_k: 11.403258226516062 best_b: -42.709175941815865, and the loss is: 87.46863824602099\n",
      "When time is : 103, get best_k: 11.303258226516062 best_b: -42.809175941815866, and the loss is: 78.4191540962798\n",
      "When time is : 104, get best_k: 11.203258226516063 best_b: -42.90917594181587, and the loss is: 70.440841814009\n",
      "When time is : 105, get best_k: 11.103258226516063 best_b: -43.00917594181587, and the loss is: 63.533701399208525\n",
      "When time is : 106, get best_k: 11.003258226516063 best_b: -43.10917594181587, and the loss is: 57.6977328518784\n",
      "When time is : 107, get best_k: 10.903258226516064 best_b: -43.20917594181587, and the loss is: 52.93293617201869\n",
      "When time is : 108, get best_k: 10.803258226516064 best_b: -43.30917594181587, and the loss is: 49.23931135962928\n",
      "When time is : 109, get best_k: 10.703258226516065 best_b: -43.409175941815874, and the loss is: 46.61685841471028\n",
      "When time is : 110, get best_k: 10.603258226516065 best_b: -43.509175941815876, and the loss is: 45.06557733726152\n",
      "When time is : 111, get best_k: 10.503258226516065 best_b: -43.60917594181588, and the loss is: 44.58546812728321\n"
     ]
    }
   ],
   "source": [
    "get_the_min_loss_adjust(10000)"
   ]
  },
  {
   "cell_type": "code",
   "execution_count": null,
   "metadata": {},
   "outputs": [],
   "source": []
  },
  {
   "cell_type": "code",
   "execution_count": null,
   "metadata": {},
   "outputs": [],
   "source": []
  },
  {
   "cell_type": "markdown",
   "metadata": {},
   "source": [
    "## 2. Answer following questions:\n",
    "\n",
    "\n",
    "###### 1. Why do we need machine learning methods instead of creating a complicated formula?\n"
   ]
  },
  {
   "cell_type": "raw",
   "metadata": {},
   "source": [
    "Ans:数据庞大驳杂时，很难找到一个很好的函数来拟合它。机器学习通过不断的减小loss，可以找到数据的最优拟合函数"
   ]
  },
  {
   "cell_type": "markdown",
   "metadata": {},
   "source": [
    "###### 2.  Wha't's the disadvantages of `the 1st Random Choosen` methods in our course? "
   ]
  },
  {
   "cell_type": "raw",
   "metadata": {},
   "source": [
    "Ans:变化方向随机，不能沿着好的方向变化"
   ]
  },
  {
   "cell_type": "markdown",
   "metadata": {},
   "source": [
    "###### 3. Is the `2nd method supervised direction` better than 1st one?  What's the disadvantages of `the 2nd supversied directin` method? "
   ]
  },
  {
   "cell_type": "raw",
   "metadata": {},
   "source": [
    "Ans:是的，通过监督，可以使函数向较优的方向变化。缺点就是当函数变量较多时，变化方向不可能一一列举，而且不能每次都向着最优的方向变化"
   ]
  },
  {
   "cell_type": "markdown",
   "metadata": {},
   "source": [
    "###### 4. Why do we use `Derivative / Gredient` to fit a target function? "
   ]
  },
  {
   "cell_type": "raw",
   "metadata": {},
   "source": [
    "Ans:梯度下降是函数变化最快的方向，可以以更快的速度取得更优的拟合值"
   ]
  },
  {
   "cell_type": "markdown",
   "metadata": {},
   "source": [
    "###### 5. In the words 'Gredient Descent', what's the `Gredient` and what's the `Descent`?"
   ]
  },
  {
   "cell_type": "raw",
   "metadata": {},
   "source": [
    "Ans：“梯度”是Loss函数对拟合参数的偏导数，“下降”指偏导数随着拟合参数变化的反方向变化"
   ]
  },
  {
   "cell_type": "markdown",
   "metadata": {},
   "source": [
    "###### 6. What's the advantages of `the 3rd gradient descent method` compared to the previous methods?"
   ]
  },
  {
   "cell_type": "raw",
   "metadata": {},
   "source": [
    "Ans: 每次都能向着最优的方向变化"
   ]
  },
  {
   "cell_type": "markdown",
   "metadata": {},
   "source": [
    "###### 7. Using the simple words to describe: What's the machine leanring."
   ]
  },
  {
   "cell_type": "raw",
   "metadata": {},
   "source": [
    "Ans: 寻找最优的方法给出最佳拟合函数的过程"
   ]
  },
  {
   "cell_type": "markdown",
   "metadata": {},
   "source": [
    "## 3. Finish the search problem"
   ]
  },
  {
   "cell_type": "markdown",
   "metadata": {},
   "source": [
    "Please using the search policy to implement an agent. This agent receives two input, one is @param start station and the other is @param destination. Your agent should give the optimal route based on Beijing Subway system. "
   ]
  },
  {
   "cell_type": "markdown",
   "metadata": {},
   "source": [
    "> Deadline: 2019-July-13\n",
    "\n",
    ">Submit: Submit the source code and result to github. \n",
    "\n"
   ]
  },
  {
   "cell_type": "markdown",
   "metadata": {},
   "source": [
    "![](https://timgsa.baidu.com/timg?image&quality=80&size=b9999_10000&sec=1562414356407&di=b57814aafd215bb8b8d9d8cd37c573d6&imgtype=0&src=http%3A%2F%2Fcli.clewm.net%2Ffile%2F2015%2F03%2F24%2F174ed60082b8422ac0636cfd3efb9e7f.jpg)"
   ]
  },
  {
   "cell_type": "markdown",
   "metadata": {},
   "source": [
    "#### Dataflow: "
   ]
  },
  {
   "cell_type": "markdown",
   "metadata": {},
   "source": [
    "##### 1.\tGet data from web page.\n",
    "\n",
    "> a.\tGet web page source from: https://baike.baidu.com/item/%E5%8C%97%E4%BA%AC%E5%9C%B0%E9%93%81/408485\n",
    "\n",
    "> b.\tYou may need @package **requests**[https://2.python-requests.org/en/master/] page to get the response via url\n",
    "\n",
    "> c.\tYou may need save the page source to file system.\n",
    "\n",
    "> d.\tThe target of this step is to get station information of all the subway lines;\n",
    "\n",
    "> e.\tYou may need install @package beautiful soup[https://www.crummy.com/software/BeautifulSoup/bs4/doc/]  to get the url information, or just use > Regular Expression to get the url.  Our recommendation is that using the Regular Expression and BeautiflSoup both. \n",
    "\n",
    "> f.\tYou may need BFS to get all the related page url from one url. \n",
    "Question: Why do we use BFS to traverse web page (or someone said, build a web spider)?  Can DFS do this job? which is better? "
   ]
  },
  {
   "cell_type": "markdown",
   "metadata": {},
   "source": [
    "##### 2.\tPreprocessing data from page source.\n",
    "\n",
    "> a.\tBased on the page source gotten from url. You may need some more preprocessing of the page. \n",
    "\n",
    "> b.\tthe Regular Expression you may need to process the text information.\n",
    "\n",
    "> c.\tYou may need @package networkx, @package matplotlib to visualize data. \n",
    "\n",
    "> d.\tYou should build a dictionary or graph which could represent the connection information of Beijing subway routes. \n",
    "\n",
    "> e.\tYou may need the defaultdict, set data structures to implement this procedure. "
   ]
  },
  {
   "cell_type": "markdown",
   "metadata": {},
   "source": [
    "##### 3. Build the search agent\n",
    "\n",
    "> Build the search agent based on the graph we build.\n",
    "\n",
    "for example, when you run: \n",
    "\n",
    "```python\n",
    ">>> search('奥体中心', '天安门') \n",
    "```\n",
    "you need get the result: \n",
    "\n",
    "奥体中心-> A -> B -> C -> ... -> 天安门\n",
    "\n"
   ]
  },
  {
   "cell_type": "raw",
   "metadata": {},
   "source": [
    "# 抓取station的正则表达式实在是不会写，怎么写都不对，整个流程是勉强写下来了，但结果是错的。。"
   ]
  },
  {
   "cell_type": "code",
   "execution_count": 1,
   "metadata": {},
   "outputs": [],
   "source": [
    "import requests"
   ]
  },
  {
   "cell_type": "code",
   "execution_count": 3,
   "metadata": {},
   "outputs": [],
   "source": [
    "import re"
   ]
  },
  {
   "cell_type": "code",
   "execution_count": 4,
   "metadata": {},
   "outputs": [],
   "source": [
    "headers = {'user-agent': 'Mozilla/5.0 (Windows NT 10.0; Win64; x64) AppleWebKit/537.36 (KHTML, like Gecko) Chrome/75.0.3770.100 Safari/537.36'}"
   ]
  },
  {
   "cell_type": "code",
   "execution_count": 28,
   "metadata": {},
   "outputs": [],
   "source": [
    "url = 'https://baike.baidu.com/item/北京地铁/408485'"
   ]
  },
  {
   "cell_type": "code",
   "execution_count": 29,
   "metadata": {},
   "outputs": [],
   "source": [
    "page = requests.get(url, headers=headers)"
   ]
  },
  {
   "cell_type": "code",
   "execution_count": 30,
   "metadata": {},
   "outputs": [
    {
     "data": {
      "text/plain": [
       "200"
      ]
     },
     "execution_count": 30,
     "metadata": {},
     "output_type": "execute_result"
    }
   ],
   "source": [
    "content = page.content.decode('utf-8')\n",
    "page.status_code"
   ]
  },
  {
   "cell_type": "code",
   "execution_count": 31,
   "metadata": {},
   "outputs": [],
   "source": [
    "line_pattern = re.compile(r'<a target=_blank href=\"(/item/[\\d\\w%]+[\\w\\d%])\">(北京[\\w\\d]+线)</a>')"
   ]
  },
  {
   "cell_type": "code",
   "execution_count": 32,
   "metadata": {},
   "outputs": [],
   "source": [
    "#line_pattern = re.compile(r'<a target=_blank href=\"(/item/[\\d\\w%]+/\\d+)\" data-lemmaid=\"\\d+\">(北京[\\w\\d]+线)</a>')"
   ]
  },
  {
   "cell_type": "code",
   "execution_count": 33,
   "metadata": {},
   "outputs": [
    {
     "data": {
      "text/plain": [
       "{'北京地铁1号线': 'https://baike.baidu.com/item/%E5%8C%97%E4%BA%AC%E5%9C%B0%E9%93%811%E5%8F%B7%E7%BA%BF',\n",
       " '北京地铁13号线': 'https://baike.baidu.com/item/%E5%8C%97%E4%BA%AC%E5%9C%B0%E9%93%8113%E5%8F%B7%E7%BA%BF',\n",
       " '北京地铁八通线': 'https://baike.baidu.com/item/%E5%8C%97%E4%BA%AC%E5%9C%B0%E9%93%81%E5%85%AB%E9%80%9A%E7%BA%BF',\n",
       " '北京地铁5号线': 'https://baike.baidu.com/item/%E5%8C%97%E4%BA%AC%E5%9C%B0%E9%93%815%E5%8F%B7%E7%BA%BF',\n",
       " '北京地铁8号线': 'https://baike.baidu.com/item/%E5%8C%97%E4%BA%AC%E5%9C%B0%E9%93%818%E5%8F%B7%E7%BA%BF',\n",
       " '北京地铁10号线': 'https://baike.baidu.com/item/%E5%8C%97%E4%BA%AC%E5%9C%B0%E9%93%8110%E5%8F%B7%E7%BA%BF',\n",
       " '北京地铁机场线': 'https://baike.baidu.com/item/%E5%8C%97%E4%BA%AC%E5%9C%B0%E9%93%81%E6%9C%BA%E5%9C%BA%E7%BA%BF',\n",
       " '北京地铁4号线': 'https://baike.baidu.com/item/%E5%8C%97%E4%BA%AC%E5%9C%B0%E9%93%814%E5%8F%B7%E7%BA%BF',\n",
       " '北京地铁15号线': 'https://baike.baidu.com/item/%E5%8C%97%E4%BA%AC%E5%9C%B0%E9%93%8115%E5%8F%B7%E7%BA%BF',\n",
       " '北京地铁昌平线': 'https://baike.baidu.com/item/%E5%8C%97%E4%BA%AC%E5%9C%B0%E9%93%81%E6%98%8C%E5%B9%B3%E7%BA%BF',\n",
       " '北京地铁大兴线': 'https://baike.baidu.com/item/%E5%8C%97%E4%BA%AC%E5%9C%B0%E9%93%81%E5%A4%A7%E5%85%B4%E7%BA%BF',\n",
       " '北京地铁房山线': 'https://baike.baidu.com/item/%E5%8C%97%E4%BA%AC%E5%9C%B0%E9%93%81%E6%88%BF%E5%B1%B1%E7%BA%BF',\n",
       " '北京地铁亦庄线': 'https://baike.baidu.com/item/%E5%8C%97%E4%BA%AC%E5%9C%B0%E9%93%81%E4%BA%A6%E5%BA%84%E7%BA%BF',\n",
       " '北京地铁9号线': 'https://baike.baidu.com/item/%E5%8C%97%E4%BA%AC%E5%9C%B0%E9%93%819%E5%8F%B7%E7%BA%BF',\n",
       " '北京地铁6号线': 'https://baike.baidu.com/item/%E5%8C%97%E4%BA%AC%E5%9C%B0%E9%93%816%E5%8F%B7%E7%BA%BF',\n",
       " '北京地铁14号线': 'https://baike.baidu.com/item/%E5%8C%97%E4%BA%AC%E5%9C%B0%E9%93%8114%E5%8F%B7%E7%BA%BF',\n",
       " '北京地铁7号线': 'https://baike.baidu.com/item/%E5%8C%97%E4%BA%AC%E5%9C%B0%E9%93%817%E5%8F%B7%E7%BA%BF',\n",
       " '北京地铁16号线': 'https://baike.baidu.com/item/%E5%8C%97%E4%BA%AC%E5%9C%B0%E9%93%8116%E5%8F%B7%E7%BA%BF',\n",
       " '北京地铁西郊线': 'https://baike.baidu.com/item/%E5%8C%97%E4%BA%AC%E5%9C%B0%E9%93%81%E8%A5%BF%E9%83%8A%E7%BA%BF',\n",
       " '北京地铁S1线': 'https://baike.baidu.com/item/%E5%8C%97%E4%BA%AC%E5%9C%B0%E9%93%81S1%E7%BA%BF',\n",
       " '北京地铁燕房线': 'https://baike.baidu.com/item/%E5%8C%97%E4%BA%AC%E5%9C%B0%E9%93%81%E7%87%95%E6%88%BF%E7%BA%BF',\n",
       " '北京地铁2号线': 'https://baike.baidu.com/item/%E5%8C%97%E4%BA%AC%E5%9C%B0%E9%93%812%E5%8F%B7%E7%BA%BF'}"
      ]
     },
     "execution_count": 33,
     "metadata": {},
     "output_type": "execute_result"
    }
   ],
   "source": [
    "all_lines = {}\n",
    "for link, line in line_pattern.findall(content):\n",
    "    if line in all_lines: continue\n",
    "    all_lines[line] = 'https://baike.baidu.com' + link\n",
    "all_lines"
   ]
  },
  {
   "cell_type": "code",
   "execution_count": 35,
   "metadata": {},
   "outputs": [
    {
     "data": {
      "text/plain": [
       "'https://baike.baidu.com/item/%E5%8C%97%E4%BA%AC%E5%9C%B0%E9%93%81%E6%9C%BA%E5%9C%BA%E7%BA%BF'"
      ]
     },
     "execution_count": 35,
     "metadata": {},
     "output_type": "execute_result"
    }
   ],
   "source": [
    "all_lines[line]"
   ]
  },
  {
   "cell_type": "code",
   "execution_count": 62,
   "metadata": {},
   "outputs": [
    {
     "data": {
      "text/plain": [
       "{'北京地铁1号线': ['南礼士路站',\n",
       "  '长椿街站',\n",
       "  '西单站',\n",
       "  '黑石头站',\n",
       "  '高井站',\n",
       "  '福寿岭站',\n",
       "  '苹果园站',\n",
       "  '八角游乐园站',\n",
       "  '八宝山站',\n",
       "  '玉泉路站',\n",
       "  '五棵松站',\n",
       "  '公主坟站',\n",
       "  '军事博物馆站',\n",
       "  '木樨地站',\n",
       "  '王府井站',\n",
       "  '东单站',\n",
       "  '建国门站',\n",
       "  '永安里站',\n",
       "  '大望路站',\n",
       "  '四惠站',\n",
       "  '四惠东站',\n",
       "  '天安门西站',\n",
       "  '天安门东站',\n",
       "  '安定门站',\n",
       "  '鼓楼大街站',\n",
       "  '积水潭站',\n",
       "  '雍和宫站',\n",
       "  '东直门站',\n",
       "  '北京军区站'],\n",
       " '北京地铁13号线': ['大钟寺站',\n",
       "  '知春路站',\n",
       "  '五道口站',\n",
       "  '上地站',\n",
       "  '西二旗站',\n",
       "  '龙泽站',\n",
       "  '回龙观站',\n",
       "  '霍营站',\n",
       "  '立水桥站',\n",
       "  '望京西站',\n",
       "  '芍药居站',\n",
       "  '光熙门站',\n",
       "  '柳芳站',\n",
       "  '东直门站',\n",
       "  '清华东路西口站',\n",
       "  '清华东站'],\n",
       " '北京地铁八通线': ['四惠站',\n",
       "  '四惠东站',\n",
       "  '传媒大学站',\n",
       "  '管庄站',\n",
       "  '八里桥站',\n",
       "  '通州北苑站',\n",
       "  '果园站',\n",
       "  '九棵树站',\n",
       "  '临河里站',\n",
       "  '环球影城站'],\n",
       " '北京地铁5号线': ['刘家窑站',\n",
       "  '蒲黄榆站',\n",
       "  '天坛东门站',\n",
       "  '崇文门站',\n",
       "  '东单站',\n",
       "  '灯市口站',\n",
       "  '东四站',\n",
       "  '张自忠路站',\n",
       "  '北新桥站',\n",
       "  '雍和宫站',\n",
       "  '和平里北街站',\n",
       "  '和平西桥站',\n",
       "  '惠新西街南口站',\n",
       "  '惠新西街北口站',\n",
       "  '大屯路东站',\n",
       "  '北苑路北站',\n",
       "  '立水桥南站',\n",
       "  '立水桥站',\n",
       "  '天通苑南站',\n",
       "  '天通苑站',\n",
       "  '天通苑北站'],\n",
       " '北京地铁8号线': ['西二旗站',\n",
       "  '中国美术馆站',\n",
       "  '朱辛庄站',\n",
       "  '育知路站',\n",
       "  '平西府站',\n",
       "  '回龙观东大街站',\n",
       "  '霍营站',\n",
       "  '育新站',\n",
       "  '西小口站',\n",
       "  '永泰庄站',\n",
       "  '林萃桥站',\n",
       "  '森林公园南门站',\n",
       "  '北土城站',\n",
       "  '安华桥站',\n",
       "  '安德里北街站',\n",
       "  '鼓楼大街站',\n",
       "  '什刹海站',\n",
       "  '南锣鼓巷站',\n",
       "  '王府井站',\n",
       "  '前门站',\n",
       "  '珠市口站',\n",
       "  '永定门外站',\n",
       "  '大红门站',\n",
       "  '和义站',\n",
       "  '五福堂站',\n",
       "  '德茂站',\n",
       "  '瀛海站'],\n",
       " '北京地铁10号线': ['巴沟站',\n",
       "  '苏州街站',\n",
       "  '海淀黄庄站',\n",
       "  '知春里站',\n",
       "  '知春路站',\n",
       "  '西土城站',\n",
       "  '牡丹园站',\n",
       "  '健德门站',\n",
       "  '北土城站',\n",
       "  '安贞门站',\n",
       "  '惠新西街南口站',\n",
       "  '芍药居站',\n",
       "  '太阳宫站',\n",
       "  '三元桥站',\n",
       "  '亮马桥站',\n",
       "  '农业展览馆站',\n",
       "  '团结湖站',\n",
       "  '呼家楼站',\n",
       "  '金台夕照站',\n",
       "  '双井站',\n",
       "  '潘家园站',\n",
       "  '分钟寺站',\n",
       "  '成寿寺站',\n",
       "  '石榴庄站',\n",
       "  '大红门站',\n",
       "  '角门东站',\n",
       "  '角门西站',\n",
       "  '纪家庙站',\n",
       "  '首经贸站',\n",
       "  '泥洼站',\n",
       "  '西局站',\n",
       "  '六里桥站',\n",
       "  '莲花桥站',\n",
       "  '公主坟站',\n",
       "  '西钓鱼台站',\n",
       "  '慈寿寺站',\n",
       "  '车道沟站',\n",
       "  '长春桥站',\n",
       "  '火器营站'],\n",
       " '北京地铁机场线': ['三元桥站', '东直门站', '3号航站楼站', '2号航站楼站'],\n",
       " '北京地铁4号线': ['安河桥北站',\n",
       "  '公益西桥站',\n",
       "  '角门西站',\n",
       "  '马家堡站',\n",
       "  '陶然亭站',\n",
       "  '菜市口站',\n",
       "  '宣武门站',\n",
       "  '西单站',\n",
       "  '灵境胡同站',\n",
       "  '西四站',\n",
       "  '平安里站',\n",
       "  '国家图书馆站',\n",
       "  '魏公村站',\n",
       "  '人民大学站',\n",
       "  '海淀黄庄站',\n",
       "  '中关村站',\n",
       "  '北京大学东门站',\n",
       "  '圆明园站',\n",
       "  '西苑站',\n",
       "  '北宫门站'],\n",
       " '北京地铁15号线': ['望京东站',\n",
       "  '清华东路西口站',\n",
       "  '六道口站',\n",
       "  '北沙滩站',\n",
       "  '安立路站',\n",
       "  '大屯路东站',\n",
       "  '关庄站',\n",
       "  '望京西站',\n",
       "  '崔各庄站',\n",
       "  '马泉营站',\n",
       "  '孙河站',\n",
       "  '国展站',\n",
       "  '花梨坎站',\n",
       "  '后沙峪站',\n",
       "  '南法信站',\n",
       "  '俸伯站',\n",
       "  '圆明园站',\n",
       "  '西苑站'],\n",
       " '北京地铁昌平线': ['西二旗站',\n",
       "  '生命科学园站',\n",
       "  '朱辛庄站',\n",
       "  '巩华城站',\n",
       "  '沙河高教园站',\n",
       "  '南邵站',\n",
       "  '北邵洼站',\n",
       "  '昌平东关站',\n",
       "  '昌平北站',\n",
       "  '十三陵景区站',\n",
       "  '昌平西山口站',\n",
       "  '岛式车站'],\n",
       " '北京地铁大兴线': ['天宫院站',\n",
       "  '安河桥北站',\n",
       "  '生物医药基地站',\n",
       "  '义和庄站',\n",
       "  '黄村西大街站',\n",
       "  '清源路站',\n",
       "  '高米店南站',\n",
       "  '高米店北站',\n",
       "  '西红门站',\n",
       "  '新宫站',\n",
       "  '公益西桥站',\n",
       "  '角门西站',\n",
       "  '马家堡站',\n",
       "  '陶然亭站',\n",
       "  '菜市口站',\n",
       "  '宣武门站',\n",
       "  '西单站',\n",
       "  '灵境胡同站',\n",
       "  '西四站',\n",
       "  '平安里站',\n",
       "  '国家图书馆站',\n",
       "  '魏公村站',\n",
       "  '人民大学站',\n",
       "  '海淀黄庄站',\n",
       "  '中关村站',\n",
       "  '北京大学东门站',\n",
       "  '圆明园站',\n",
       "  '西苑站',\n",
       "  '北宫门站'],\n",
       " '北京地铁房山线': ['新宫站',\n",
       "  '郭公庄站',\n",
       "  '阎村东站',\n",
       "  '苏庄站',\n",
       "  '良乡南关站',\n",
       "  '良乡大学城西站',\n",
       "  '良乡大学城站',\n",
       "  '良乡大学城北站',\n",
       "  '广阳城站',\n",
       "  '篱笆房站',\n",
       "  '稻田站',\n",
       "  '大葆台站',\n",
       "  '首经贸站',\n",
       "  '丰益桥南站'],\n",
       " '北京地铁9号线': ['丰台东大街站',\n",
       "  '郭公庄站',\n",
       "  '丰台科技园站',\n",
       "  '科怡路站',\n",
       "  '丰台南路站',\n",
       "  '七里庄站',\n",
       "  '六里桥站',\n",
       "  '六里桥东站',\n",
       "  '军事博物馆站',\n",
       "  '白堆子站',\n",
       "  '白石桥南站',\n",
       "  '国家图书馆站'],\n",
       " '北京地铁6号线': ['金安桥站',\n",
       "  '苹果园站',\n",
       "  '海淀五路居站',\n",
       "  '慈寿寺站',\n",
       "  '花园桥站',\n",
       "  '白石桥南站',\n",
       "  '二里沟站',\n",
       "  '车公庄西站',\n",
       "  '车公庄站',\n",
       "  '平安里站',\n",
       "  '北海北站',\n",
       "  '南锣鼓巷站',\n",
       "  '东四站',\n",
       "  '东大桥站',\n",
       "  '呼家楼站',\n",
       "  '金台路站',\n",
       "  '褡裢坡站',\n",
       "  '黄渠站',\n",
       "  '常营站',\n",
       "  '草房站',\n",
       "  '物资学院路站',\n",
       "  '通州北关站',\n",
       "  '通运门站',\n",
       "  '北运河西站',\n",
       "  '北运河东站',\n",
       "  '郝家府站',\n",
       "  '东夏园站',\n",
       "  '潞城站'],\n",
       " '北京地铁14号线': ['园博园站',\n",
       "  '大瓦窑站',\n",
       "  '郭庄子站',\n",
       "  '大井站',\n",
       "  '七里庄站',\n",
       "  '西局站',\n",
       "  '丽泽商务区站',\n",
       "  '陶然桥站',\n",
       "  '永定门外站',\n",
       "  '蒲黄榆站',\n",
       "  '方庄站',\n",
       "  '北工大西门站',\n",
       "  '平乐园站',\n",
       "  '大望路站',\n",
       "  '金台路站',\n",
       "  '朝阳公园站',\n",
       "  '枣营站',\n",
       "  '东风北桥站',\n",
       "  '将台站',\n",
       "  '高家园站',\n",
       "  '望京南站',\n",
       "  '阜通站',\n",
       "  '东湖渠站',\n",
       "  '来广营站',\n",
       "  '善各庄站'],\n",
       " '北京地铁7号线': ['西客站',\n",
       "  '广安门站',\n",
       "  '牛街站',\n",
       "  '湾子站',\n",
       "  '达官营站',\n",
       "  '广安门内站',\n",
       "  '菜市口站',\n",
       "  '虎坊桥站',\n",
       "  '珠市口站',\n",
       "  '广渠门内站',\n",
       "  '广渠门外站',\n",
       "  '双井站',\n",
       "  '大郊亭站',\n",
       "  '南楼梓庄站',\n",
       "  '欢乐谷景区站',\n",
       "  '垡头站',\n",
       "  '双合站',\n",
       "  '焦化厂站',\n",
       "  '豆各庄站'],\n",
       " '北京地铁16号线': ['木樨地站',\n",
       "  '二里沟站',\n",
       "  '宛平城站',\n",
       "  '宛平站',\n",
       "  '榆树庄站',\n",
       "  '看丹站',\n",
       "  '富丰桥站',\n",
       "  '丰台南路站',\n",
       "  '丰益桥南站',\n",
       "  '丽泽商务区站',\n",
       "  '红莲南里站',\n",
       "  '达官营站',\n",
       "  '玉渊潭东门站',\n",
       "  '甘家口站',\n",
       "  '国家图书馆站',\n",
       "  '万寿寺站',\n",
       "  '苏州桥站',\n",
       "  '苏州街站',\n",
       "  '万泉河桥站',\n",
       "  '西苑站',\n",
       "  '农大南路站',\n",
       "  '马连洼站',\n",
       "  '西北旺站',\n",
       "  '永丰南站',\n",
       "  '永丰站',\n",
       "  '屯佃站',\n",
       "  '稻香湖路站',\n",
       "  '温阳路站',\n",
       "  '北安河站'],\n",
       " '北京地铁西郊线': ['巴沟站', '香山站', '颐和园西门站'],\n",
       " '北京地铁S1线': ['金安桥站', '四道桥站', '桥户营站', '上岸站', '栗园庄站', '小园站', '石厂站'],\n",
       " '北京地铁燕房线': ['阎村东站',\n",
       "  '星城站',\n",
       "  '紫草坞站',\n",
       "  '阎村站',\n",
       "  '大石河东站',\n",
       "  '马各庄站',\n",
       "  '饶乐府站',\n",
       "  '房山城关站',\n",
       "  '老城区站',\n",
       "  '顾册站'],\n",
       " '北京地铁2号线': ['高井站',\n",
       "  '长椿街站',\n",
       "  '积水潭站',\n",
       "  '鼓楼大街站',\n",
       "  '安定门站',\n",
       "  '雍和宫站',\n",
       "  '东直门站',\n",
       "  '东四十条站',\n",
       "  '建国门站',\n",
       "  '崇文门站',\n",
       "  '前门站',\n",
       "  '宣武门站',\n",
       "  '阜成门站',\n",
       "  '车公庄站']}"
      ]
     },
     "execution_count": 62,
     "metadata": {},
     "output_type": "execute_result"
    }
   ],
   "source": [
    "all_stations_Dic = {}\n",
    "station_patterns = []\n",
    "for line in all_lines:\n",
    "    url_line = all_lines[line]\n",
    "    response_station = requests.get(url_line, headers=headers)\n",
    "    content = response_station.content.decode('utf-8')\n",
    "    station_pattern = re.compile(r'<a target=_blank href=\"(/item/[|%\\d\\w%]+[\\w\\d%])\">([\\w+]+站)</a>')# 错误！！！\n",
    "    all_stations = {}\n",
    "    stations = []\n",
    "    for link_station,station in station_pattern.findall(content):\n",
    "        if station in stations: continue\n",
    "        stations.append(station)\n",
    "        all_stations[line] = stations\n",
    "    all_stations_Dic.update(all_stations)\n",
    "all_stations_Dic\n"
   ]
  },
  {
   "cell_type": "code",
   "execution_count": 63,
   "metadata": {},
   "outputs": [
    {
     "name": "stdout",
     "output_type": "stream",
     "text": [
      "{'南礼士路站': ['长椿街站'], '长椿街站': ['南礼士路站', '西单站', '高井站', '积水潭站'], '西单站': ['长椿街站', '黑石头站', '宣武门站', '灵境胡同站', '宣武门站', '灵境胡同站'], '黑石头站': ['西单站', '高井站'], '高井站': ['黑石头站', '福寿岭站', '长椿街站'], '福寿岭站': ['高井站', '苹果园站'], '苹果园站': ['福寿岭站', '八角游乐园站', '金安桥站', '海淀五路居站'], '八角游乐园站': ['苹果园站', '八宝山站'], '八宝山站': ['八角游乐园站', '玉泉路站'], '玉泉路站': ['八宝山站', '五棵松站'], '五棵松站': ['玉泉路站', '公主坟站'], '公主坟站': ['五棵松站', '军事博物馆站', '莲花桥站', '西钓鱼台站'], '军事博物馆站': ['公主坟站', '木樨地站', '六里桥东站', '白堆子站'], '木樨地站': ['军事博物馆站', '王府井站', '二里沟站'], '王府井站': ['木樨地站', '东单站', '南锣鼓巷站', '前门站'], '东单站': ['王府井站', '建国门站', '崇文门站', '灯市口站'], '建国门站': ['东单站', '永安里站', '东四十条站', '崇文门站'], '永安里站': ['建国门站', '大望路站'], '大望路站': ['永安里站', '四惠站', '平乐园站', '金台路站'], '四惠站': ['大望路站', '四惠东站', '四惠东站'], '四惠东站': ['四惠站', '天安门西站', '四惠站', '传媒大学站'], '天安门西站': ['四惠东站', '天安门东站'], '天安门东站': ['天安门西站', '安定门站'], '安定门站': ['天安门东站', '鼓楼大街站', '鼓楼大街站', '雍和宫站'], '鼓楼大街站': ['安定门站', '积水潭站', '安德里北街站', '什刹海站', '积水潭站', '安定门站'], '积水潭站': ['鼓楼大街站', '雍和宫站', '长椿街站', '鼓楼大街站'], '雍和宫站': ['积水潭站', '东直门站', '北新桥站', '和平里北街站', '安定门站', '东直门站'], '东直门站': ['雍和宫站', '北京军区站', '柳芳站', '清华东路西口站', '三元桥站', '3号航站楼站', '雍和宫站', '东四十条站'], '北京军区站': ['东直门站'], '大钟寺站': ['知春路站'], '知春路站': ['大钟寺站', '五道口站', '知春里站', '西土城站'], '五道口站': ['知春路站', '上地站'], '上地站': ['五道口站', '西二旗站'], '西二旗站': ['上地站', '龙泽站', '中国美术馆站', '生命科学园站'], '龙泽站': ['西二旗站', '回龙观站'], '回龙观站': ['龙泽站', '霍营站'], '霍营站': ['回龙观站', '立水桥站', '回龙观东大街站', '育新站'], '立水桥站': ['霍营站', '望京西站', '立水桥南站', '天通苑南站'], '望京西站': ['立水桥站', '芍药居站', '关庄站', '崔各庄站'], '芍药居站': ['望京西站', '光熙门站', '惠新西街南口站', '太阳宫站'], '光熙门站': ['芍药居站', '柳芳站'], '柳芳站': ['光熙门站', '东直门站'], '清华东路西口站': ['东直门站', '清华东站', '望京东站', '六道口站'], '清华东站': ['清华东路西口站'], '传媒大学站': ['四惠东站', '管庄站'], '管庄站': ['传媒大学站', '八里桥站'], '八里桥站': ['管庄站', '通州北苑站'], '通州北苑站': ['八里桥站', '果园站'], '果园站': ['通州北苑站', '九棵树站'], '九棵树站': ['果园站', '临河里站'], '临河里站': ['九棵树站', '环球影城站'], '环球影城站': ['临河里站'], '刘家窑站': ['蒲黄榆站'], '蒲黄榆站': ['刘家窑站', '天坛东门站', '永定门外站', '方庄站'], '天坛东门站': ['蒲黄榆站', '崇文门站'], '崇文门站': ['天坛东门站', '东单站', '建国门站', '前门站'], '灯市口站': ['东单站', '东四站'], '东四站': ['灯市口站', '张自忠路站', '南锣鼓巷站', '东大桥站'], '张自忠路站': ['东四站', '北新桥站'], '北新桥站': ['张自忠路站', '雍和宫站'], '和平里北街站': ['雍和宫站', '和平西桥站'], '和平西桥站': ['和平里北街站', '惠新西街南口站'], '惠新西街南口站': ['和平西桥站', '惠新西街北口站', '安贞门站', '芍药居站'], '惠新西街北口站': ['惠新西街南口站', '大屯路东站'], '大屯路东站': ['惠新西街北口站', '北苑路北站', '安立路站', '关庄站'], '北苑路北站': ['大屯路东站', '立水桥南站'], '立水桥南站': ['北苑路北站', '立水桥站'], '天通苑南站': ['立水桥站', '天通苑站'], '天通苑站': ['天通苑南站', '天通苑北站'], '天通苑北站': ['天通苑站'], '中国美术馆站': ['西二旗站', '朱辛庄站'], '朱辛庄站': ['中国美术馆站', '育知路站', '生命科学园站', '巩华城站'], '育知路站': ['朱辛庄站', '平西府站'], '平西府站': ['育知路站', '回龙观东大街站'], '回龙观东大街站': ['平西府站', '霍营站'], '育新站': ['霍营站', '西小口站'], '西小口站': ['育新站', '永泰庄站'], '永泰庄站': ['西小口站', '林萃桥站'], '林萃桥站': ['永泰庄站', '森林公园南门站'], '森林公园南门站': ['林萃桥站', '北土城站'], '北土城站': ['森林公园南门站', '安华桥站', '健德门站', '安贞门站'], '安华桥站': ['北土城站', '安德里北街站'], '安德里北街站': ['安华桥站', '鼓楼大街站'], '什刹海站': ['鼓楼大街站', '南锣鼓巷站'], '南锣鼓巷站': ['什刹海站', '王府井站', '北海北站', '东四站'], '前门站': ['王府井站', '珠市口站', '崇文门站', '宣武门站'], '珠市口站': ['前门站', '永定门外站', '虎坊桥站', '广渠门内站'], '永定门外站': ['珠市口站', '大红门站', '陶然桥站', '蒲黄榆站'], '大红门站': ['永定门外站', '和义站', '石榴庄站', '角门东站'], '和义站': ['大红门站', '五福堂站'], '五福堂站': ['和义站', '德茂站'], '德茂站': ['五福堂站', '瀛海站'], '瀛海站': ['德茂站'], '巴沟站': ['苏州街站', '香山站'], '苏州街站': ['巴沟站', '海淀黄庄站', '苏州桥站', '万泉河桥站'], '海淀黄庄站': ['苏州街站', '知春里站', '人民大学站', '中关村站', '人民大学站', '中关村站'], '知春里站': ['海淀黄庄站', '知春路站'], '西土城站': ['知春路站', '牡丹园站'], '牡丹园站': ['西土城站', '健德门站'], '健德门站': ['牡丹园站', '北土城站'], '安贞门站': ['北土城站', '惠新西街南口站'], '太阳宫站': ['芍药居站', '三元桥站'], '三元桥站': ['太阳宫站', '亮马桥站', '东直门站'], '亮马桥站': ['三元桥站', '农业展览馆站'], '农业展览馆站': ['亮马桥站', '团结湖站'], '团结湖站': ['农业展览馆站', '呼家楼站'], '呼家楼站': ['团结湖站', '金台夕照站', '东大桥站', '金台路站'], '金台夕照站': ['呼家楼站', '双井站'], '双井站': ['金台夕照站', '潘家园站', '广渠门外站', '大郊亭站'], '潘家园站': ['双井站', '分钟寺站'], '分钟寺站': ['潘家园站', '成寿寺站'], '成寿寺站': ['分钟寺站', '石榴庄站'], '石榴庄站': ['成寿寺站', '大红门站'], '角门东站': ['大红门站', '角门西站'], '角门西站': ['角门东站', '纪家庙站', '公益西桥站', '马家堡站', '公益西桥站', '马家堡站'], '纪家庙站': ['角门西站', '首经贸站'], '首经贸站': ['纪家庙站', '泥洼站', '大葆台站', '丰益桥南站'], '泥洼站': ['首经贸站', '西局站'], '西局站': ['泥洼站', '六里桥站', '七里庄站', '丽泽商务区站'], '六里桥站': ['西局站', '莲花桥站', '七里庄站', '六里桥东站'], '莲花桥站': ['六里桥站', '公主坟站'], '西钓鱼台站': ['公主坟站', '慈寿寺站'], '慈寿寺站': ['西钓鱼台站', '车道沟站', '海淀五路居站', '花园桥站'], '车道沟站': ['慈寿寺站', '长春桥站'], '长春桥站': ['车道沟站', '火器营站'], '火器营站': ['长春桥站'], '3号航站楼站': ['东直门站', '2号航站楼站'], '2号航站楼站': ['3号航站楼站'], '安河桥北站': ['公益西桥站', '天宫院站', '生物医药基地站'], '公益西桥站': ['安河桥北站', '角门西站', '新宫站', '角门西站'], '马家堡站': ['角门西站', '陶然亭站', '角门西站', '陶然亭站'], '陶然亭站': ['马家堡站', '菜市口站', '马家堡站', '菜市口站'], '菜市口站': ['陶然亭站', '宣武门站', '陶然亭站', '宣武门站', '广安门内站', '虎坊桥站'], '宣武门站': ['菜市口站', '西单站', '菜市口站', '西单站', '前门站', '阜成门站'], '灵境胡同站': ['西单站', '西四站', '西单站', '西四站'], '西四站': ['灵境胡同站', '平安里站', '灵境胡同站', '平安里站'], '平安里站': ['西四站', '国家图书馆站', '西四站', '国家图书馆站', '车公庄站', '北海北站'], '国家图书馆站': ['平安里站', '魏公村站', '平安里站', '魏公村站', '白石桥南站', '甘家口站', '万寿寺站'], '魏公村站': ['国家图书馆站', '人民大学站', '国家图书馆站', '人民大学站'], '人民大学站': ['魏公村站', '海淀黄庄站', '魏公村站', '海淀黄庄站'], '中关村站': ['海淀黄庄站', '北京大学东门站', '海淀黄庄站', '北京大学东门站'], '北京大学东门站': ['中关村站', '圆明园站', '中关村站', '圆明园站'], '圆明园站': ['北京大学东门站', '西苑站', '俸伯站', '西苑站', '北京大学东门站', '西苑站'], '西苑站': ['圆明园站', '北宫门站', '圆明园站', '圆明园站', '北宫门站', '万泉河桥站', '农大南路站'], '北宫门站': ['西苑站', '西苑站'], '望京东站': ['清华东路西口站'], '六道口站': ['清华东路西口站', '北沙滩站'], '北沙滩站': ['六道口站', '安立路站'], '安立路站': ['北沙滩站', '大屯路东站'], '关庄站': ['大屯路东站', '望京西站'], '崔各庄站': ['望京西站', '马泉营站'], '马泉营站': ['崔各庄站', '孙河站'], '孙河站': ['马泉营站', '国展站'], '国展站': ['孙河站', '花梨坎站'], '花梨坎站': ['国展站', '后沙峪站'], '后沙峪站': ['花梨坎站', '南法信站'], '南法信站': ['后沙峪站', '俸伯站'], '俸伯站': ['南法信站', '圆明园站'], '生命科学园站': ['西二旗站', '朱辛庄站'], '巩华城站': ['朱辛庄站', '沙河高教园站'], '沙河高教园站': ['巩华城站', '南邵站'], '南邵站': ['沙河高教园站', '北邵洼站'], '北邵洼站': ['南邵站', '昌平东关站'], '昌平东关站': ['北邵洼站', '昌平北站'], '昌平北站': ['昌平东关站', '十三陵景区站'], '十三陵景区站': ['昌平北站', '昌平西山口站'], '昌平西山口站': ['十三陵景区站', '岛式车站'], '岛式车站': ['昌平西山口站'], '天宫院站': ['安河桥北站'], '生物医药基地站': ['安河桥北站', '义和庄站'], '义和庄站': ['生物医药基地站', '黄村西大街站'], '黄村西大街站': ['义和庄站', '清源路站'], '清源路站': ['黄村西大街站', '高米店南站'], '高米店南站': ['清源路站', '高米店北站'], '高米店北站': ['高米店南站', '西红门站'], '西红门站': ['高米店北站', '新宫站'], '新宫站': ['西红门站', '公益西桥站', '郭公庄站'], '郭公庄站': ['新宫站', '阎村东站', '丰台东大街站', '丰台科技园站'], '阎村东站': ['郭公庄站', '苏庄站', '星城站'], '苏庄站': ['阎村东站', '良乡南关站'], '良乡南关站': ['苏庄站', '良乡大学城西站'], '良乡大学城西站': ['良乡南关站', '良乡大学城站'], '良乡大学城站': ['良乡大学城西站', '良乡大学城北站'], '良乡大学城北站': ['良乡大学城站', '广阳城站'], '广阳城站': ['良乡大学城北站', '篱笆房站'], '篱笆房站': ['广阳城站', '稻田站'], '稻田站': ['篱笆房站', '大葆台站'], '大葆台站': ['稻田站', '首经贸站'], '丰益桥南站': ['首经贸站', '丰台南路站', '丽泽商务区站'], '丰台东大街站': ['郭公庄站'], '丰台科技园站': ['郭公庄站', '科怡路站'], '科怡路站': ['丰台科技园站', '丰台南路站'], '丰台南路站': ['科怡路站', '七里庄站', '富丰桥站', '丰益桥南站'], '七里庄站': ['丰台南路站', '六里桥站', '大井站', '西局站'], '六里桥东站': ['六里桥站', '军事博物馆站'], '白堆子站': ['军事博物馆站', '白石桥南站'], '白石桥南站': ['白堆子站', '国家图书馆站', '花园桥站', '二里沟站'], '金安桥站': ['苹果园站', '四道桥站'], '海淀五路居站': ['苹果园站', '慈寿寺站'], '花园桥站': ['慈寿寺站', '白石桥南站'], '二里沟站': ['白石桥南站', '车公庄西站', '木樨地站', '宛平城站'], '车公庄西站': ['二里沟站', '车公庄站'], '车公庄站': ['车公庄西站', '平安里站', '阜成门站'], '北海北站': ['平安里站', '南锣鼓巷站'], '东大桥站': ['东四站', '呼家楼站'], '金台路站': ['呼家楼站', '褡裢坡站', '大望路站', '朝阳公园站'], '褡裢坡站': ['金台路站', '黄渠站'], '黄渠站': ['褡裢坡站', '常营站'], '常营站': ['黄渠站', '草房站'], '草房站': ['常营站', '物资学院路站'], '物资学院路站': ['草房站', '通州北关站'], '通州北关站': ['物资学院路站', '通运门站'], '通运门站': ['通州北关站', '北运河西站'], '北运河西站': ['通运门站', '北运河东站'], '北运河东站': ['北运河西站', '郝家府站'], '郝家府站': ['北运河东站', '东夏园站'], '东夏园站': ['郝家府站', '潞城站'], '潞城站': ['东夏园站'], '园博园站': ['大瓦窑站'], '大瓦窑站': ['园博园站', '郭庄子站'], '郭庄子站': ['大瓦窑站', '大井站'], '大井站': ['郭庄子站', '七里庄站'], '丽泽商务区站': ['西局站', '陶然桥站', '丰益桥南站', '红莲南里站'], '陶然桥站': ['丽泽商务区站', '永定门外站'], '方庄站': ['蒲黄榆站', '北工大西门站'], '北工大西门站': ['方庄站', '平乐园站'], '平乐园站': ['北工大西门站', '大望路站'], '朝阳公园站': ['金台路站', '枣营站'], '枣营站': ['朝阳公园站', '东风北桥站'], '东风北桥站': ['枣营站', '将台站'], '将台站': ['东风北桥站', '高家园站'], '高家园站': ['将台站', '望京南站'], '望京南站': ['高家园站', '阜通站'], '阜通站': ['望京南站', '东湖渠站'], '东湖渠站': ['阜通站', '来广营站'], '来广营站': ['东湖渠站', '善各庄站'], '善各庄站': ['来广营站'], '西客站': ['广安门站'], '广安门站': ['西客站', '牛街站'], '牛街站': ['广安门站', '湾子站'], '湾子站': ['牛街站', '达官营站'], '达官营站': ['湾子站', '广安门内站', '红莲南里站', '玉渊潭东门站'], '广安门内站': ['达官营站', '菜市口站'], '虎坊桥站': ['菜市口站', '珠市口站'], '广渠门内站': ['珠市口站', '广渠门外站'], '广渠门外站': ['广渠门内站', '双井站'], '大郊亭站': ['双井站', '南楼梓庄站'], '南楼梓庄站': ['大郊亭站', '欢乐谷景区站'], '欢乐谷景区站': ['南楼梓庄站', '垡头站'], '垡头站': ['欢乐谷景区站', '双合站'], '双合站': ['垡头站', '焦化厂站'], '焦化厂站': ['双合站', '豆各庄站'], '豆各庄站': ['焦化厂站'], '宛平城站': ['二里沟站', '宛平站'], '宛平站': ['宛平城站', '榆树庄站'], '榆树庄站': ['宛平站', '看丹站'], '看丹站': ['榆树庄站', '富丰桥站'], '富丰桥站': ['看丹站', '丰台南路站'], '红莲南里站': ['丽泽商务区站', '达官营站'], '玉渊潭东门站': ['达官营站', '甘家口站'], '甘家口站': ['玉渊潭东门站', '国家图书馆站'], '万寿寺站': ['国家图书馆站', '苏州桥站'], '苏州桥站': ['万寿寺站', '苏州街站'], '万泉河桥站': ['苏州街站', '西苑站'], '农大南路站': ['西苑站', '马连洼站'], '马连洼站': ['农大南路站', '西北旺站'], '西北旺站': ['马连洼站', '永丰南站'], '永丰南站': ['西北旺站', '永丰站'], '永丰站': ['永丰南站', '屯佃站'], '屯佃站': ['永丰站', '稻香湖路站'], '稻香湖路站': ['屯佃站', '温阳路站'], '温阳路站': ['稻香湖路站', '北安河站'], '北安河站': ['温阳路站'], '香山站': ['巴沟站', '颐和园西门站'], '颐和园西门站': ['香山站'], '四道桥站': ['金安桥站', '桥户营站'], '桥户营站': ['四道桥站', '上岸站'], '上岸站': ['桥户营站', '栗园庄站'], '栗园庄站': ['上岸站', '小园站'], '小园站': ['栗园庄站', '石厂站'], '石厂站': ['小园站'], '星城站': ['阎村东站', '紫草坞站'], '紫草坞站': ['星城站', '阎村站'], '阎村站': ['紫草坞站', '大石河东站'], '大石河东站': ['阎村站', '马各庄站'], '马各庄站': ['大石河东站', '饶乐府站'], '饶乐府站': ['马各庄站', '房山城关站'], '房山城关站': ['饶乐府站', '老城区站'], '老城区站': ['房山城关站', '顾册站'], '顾册站': ['老城区站'], '东四十条站': ['东直门站', '建国门站'], '阜成门站': ['宣武门站', '车公庄站']}\n"
     ]
    }
   ],
   "source": [
    "connection_info_src = {}           \n",
    "\n",
    "for k,v in enumerate(all_stations_Dic):\n",
    "\n",
    "      for idx, val in enumerate(all_stations_Dic[v]):\n",
    "\n",
    "         if val not in connection_info_src.keys():\n",
    "\n",
    "              connection_info_src[val] = []\n",
    "\n",
    "         if idx >= 1:\n",
    "\n",
    "              connection_info_src[val].append(all_stations_Dic[v][idx -1])\n",
    "\n",
    "         if idx + 1 < len(all_stations_Dic[v]):\n",
    "\n",
    "              connection_info_src[val].append(all_stations_Dic[v][idx+1])\n",
    "\n",
    "print(connection_info_src)"
   ]
  },
  {
   "cell_type": "code",
   "execution_count": 67,
   "metadata": {},
   "outputs": [],
   "source": [
    "def search(start, destination, connection_grpah):\n",
    "    pathes = [[start]]\n",
    "    \n",
    "    visitied = set()\n",
    "    \n",
    "    while pathes: \n",
    "        path = pathes.pop(0)\n",
    "        froninter = path[-1]\n",
    "        \n",
    "        if froninter in visitied: continue\n",
    "            \n",
    "        successors = connection_grpah[froninter]\n",
    "        \n",
    "        for city in successors:\n",
    "            if city in path: continue  \n",
    "                \n",
    "            new_path = path + [city]\n",
    "            \n",
    "            pathes.append(new_path)\n",
    "            \n",
    "            if city == destination: return new_path\n",
    "        \n",
    "        visitied.add(froninter)"
   ]
  },
  {
   "cell_type": "code",
   "execution_count": 69,
   "metadata": {},
   "outputs": [
    {
     "data": {
      "text/plain": [
       "['苹果园站', '海淀五路居站', '慈寿寺站', '西钓鱼台站', '公主坟站', '莲花桥站', '六里桥站']"
      ]
     },
     "execution_count": 69,
     "metadata": {},
     "output_type": "execute_result"
    }
   ],
   "source": [
    "search(\"苹果园站\",\"六里桥站\",connection_info_src)"
   ]
  },
  {
   "cell_type": "code",
   "execution_count": 73,
   "metadata": {},
   "outputs": [],
   "source": [
    "def pretty_print(cities):\n",
    "    print('🚆->'.join(cities))"
   ]
  },
  {
   "cell_type": "code",
   "execution_count": 74,
   "metadata": {},
   "outputs": [
    {
     "name": "stdout",
     "output_type": "stream",
     "text": [
      "苹果园站🚆->海淀五路居站🚆->慈寿寺站🚆->西钓鱼台站🚆->公主坟站🚆->莲花桥站🚆->六里桥站\n"
     ]
    }
   ],
   "source": [
    "pretty_print(search(\"苹果园站\",\"六里桥站\",connection_info_src))"
   ]
  },
  {
   "cell_type": "code",
   "execution_count": null,
   "metadata": {},
   "outputs": [],
   "source": []
  },
  {
   "cell_type": "code",
   "execution_count": null,
   "metadata": {},
   "outputs": [],
   "source": []
  },
  {
   "cell_type": "code",
   "execution_count": null,
   "metadata": {},
   "outputs": [],
   "source": []
  },
  {
   "cell_type": "code",
   "execution_count": null,
   "metadata": {},
   "outputs": [],
   "source": []
  },
  {
   "cell_type": "markdown",
   "metadata": {},
   "source": [
    "下面是同学的使用BeautifulSoup解析包的写法"
   ]
  },
  {
   "cell_type": "code",
   "execution_count": 1,
   "metadata": {},
   "outputs": [],
   "source": [
    "import requests #爬虫库，解析网页"
   ]
  },
  {
   "cell_type": "code",
   "execution_count": 2,
   "metadata": {},
   "outputs": [],
   "source": [
    "import re #正则"
   ]
  },
  {
   "cell_type": "code",
   "execution_count": 3,
   "metadata": {},
   "outputs": [],
   "source": [
    "from bs4 import BeautifulSoup #爬虫库，解析网页"
   ]
  },
  {
   "cell_type": "code",
   "execution_count": 4,
   "metadata": {},
   "outputs": [],
   "source": [
    "url = 'https://www.bjsubway.com/station/xltcx/' #北京地铁官网"
   ]
  },
  {
   "cell_type": "code",
   "execution_count": 5,
   "metadata": {},
   "outputs": [],
   "source": [
    "headers = {'user-agent': 'Mozilla/5.0 (Windows NT 10.0; Win64; x64) AppleWebKit/537.36 (KHTML, like Gecko) Chrome/75.0.3770.100 Safari/537.36'}#给出head"
   ]
  },
  {
   "cell_type": "code",
   "execution_count": 7,
   "metadata": {},
   "outputs": [
    {
     "name": "stderr",
     "output_type": "stream",
     "text": [
      "C:\\ProgramData\\Anaconda3\\lib\\site-packages\\urllib3\\connectionpool.py:847: InsecureRequestWarning: Unverified HTTPS request is being made. Adding certificate verification is strongly advised. See: https://urllib3.readthedocs.io/en/latest/advanced-usage.html#ssl-warnings\n",
      "  InsecureRequestWarning)\n"
     ]
    }
   ],
   "source": [
    "response = requests.get(url, headers = headers, allow_redirects=False,verify=False) #没有证书验证，好像下载certifi和urllib3然后使用PoolManager可以解决，https://urllib3.readthedocs.io/en/latest/user-guide.html#ssl\n"
   ]
  },
  {
   "cell_type": "code",
   "execution_count": 8,
   "metadata": {},
   "outputs": [],
   "source": [
    "response.encoding=\"gb2312\" #说明网页原始code"
   ]
  },
  {
   "cell_type": "code",
   "execution_count": 9,
   "metadata": {},
   "outputs": [],
   "source": [
    "soup = BeautifulSoup(response.content, 'lxml')"
   ]
  },
  {
   "cell_type": "code",
   "execution_count": 10,
   "metadata": {},
   "outputs": [],
   "source": [
    "table = soup.findAll('div', attrs={'class':\"line_content\"}) # line_content属性里的div标签"
   ]
  },
  {
   "cell_type": "code",
   "execution_count": 14,
   "metadata": {},
   "outputs": [
    {
     "name": "stdout",
     "output_type": "stream",
     "text": [
      "[<div class=\"line_content\">\n",
      "<div class=\"line_name\">\n",
      "<div class=\"subway_num1\">1号线</div>\n",
      "</div>\n",
      "<div class=\"station\"><a href=\"/station/xltcx/line1/2013-08-19/3.html\">苹果园</a></div>\n",
      "<div class=\"station\"><a href=\"/station/xltcx/line1/2013-08-19/4.html\">古城</a></div>\n",
      "<div class=\"station\"><a href=\"/station/xltcx/line1/2013-08-19/5.html\">八角游乐园</a></div>\n",
      "<div class=\"station\"><a href=\"/station/xltcx/line1/2013-08-19/6.html\">八宝山</a></div>\n",
      "<div class=\"station\"><a href=\"/station/xltcx/line1/2013-08-19/7.html\">玉泉路</a></div>\n",
      "<div class=\"station\"><a href=\"/station/xltcx/line1/2013-08-19/8.html\">五棵松</a></div>\n",
      "<div class=\"station\"><a href=\"/station/xltcx/line1/2013-08-19/9.html\">万寿路</a></div>\n",
      "<div class=\"station\"><a href=\"/station/xltcx/line1/2013-08-19/10.html\">公主坟</a></div>\n",
      "<div class=\"station\"><a href=\"/station/xltcx/line1/2013-08-19/11.html\">军事博物馆</a></div>\n",
      "<div class=\"station\"><a href=\"/station/xltcx/line1/2013-08-19/12.html\">木樨地</a></div>\n",
      "<div class=\"station\"><a href=\"/station/xltcx/line1/2013-08-19/13.html\">南礼士路</a></div>\n",
      "<div class=\"station\"><a href=\"/station/xltcx/line1/2013-08-19/14.html\">复兴门</a></div>\n",
      "<div class=\"station\"><a href=\"/station/xltcx/line1/2013-08-20/35.html\">西单</a></div>\n",
      "<div class=\"station\"><a href=\"/station/xltcx/line1/2013-08-19/15.html\">天安门西</a></div>\n",
      "<div class=\"station\"><a href=\"/station/xltcx/line1/2013-08-19/16.html\">天安门东</a></div>\n",
      "<div class=\"station\"><a href=\"/station/xltcx/line1/2013-08-19/17.html\">王府井</a></div>\n",
      "<div class=\"station\"><a href=\"/station/xltcx/line1/2013-08-19/18.html\">东单</a></div>\n",
      "<div class=\"station\"><a href=\"/station/xltcx/line1/2013-08-19/19.html\">建国门</a></div>\n",
      "<div class=\"station\"><a href=\"/station/xltcx/line1/2013-08-19/20.html\">永安里</a></div>\n",
      "<div class=\"station\"><a href=\"/station/xltcx/line1/2013-08-19/21.html\">国贸</a></div>\n",
      "<div class=\"station\"><a href=\"/station/xltcx/line1/2013-08-19/22.html\">大望路</a></div>\n",
      "<div class=\"station\"><a href=\"/station/xltcx/line1/2013-08-19/23.html\">四惠</a></div>\n",
      "<div class=\"station\"><a href=\"/station/xltcx/line1/2013-08-19/24.html\">四惠东</a></div>\n",
      "<div class=\"line_name\">\n",
      "<div class=\"subway_num3\">2号线</div>\n",
      "</div>\n",
      "<div class=\"station\"><a href=\"/station/xltcx/line2/2013-08-19/25.html\">西直门</a></div>\n",
      "<div class=\"station\"><a href=\"/station/xltcx/line2/2013-08-19/28.html\">积水潭</a></div>\n",
      "<div class=\"station\"><a href=\"/station/xltcx/line2/2013-08-19/29.html\">鼓楼大街</a></div>\n",
      "<div class=\"station\"><a href=\"/station/xltcx/line2/2013-08-19/30.html\">安定门</a></div>\n",
      "<div class=\"station\"><a href=\"/station/xltcx/line2/2013-08-19/31.html\">雍和宫</a></div>\n",
      "<div class=\"station\"><a href=\"/station/xltcx/line2/2013-08-19/32.html\">东直门</a></div>\n",
      "<div class=\"station\"><a href=\"/station/xltcx/line2/2013-08-19/33.html\">东四十条</a></div>\n",
      "<div class=\"station\"><a href=\"/station/xltcx/line2/2013-08-19/34.html\">朝阳门</a></div>\n",
      "<div class=\"station\"><a href=\"/station/xltcx/line2/2013-08-26/260.html\">建国门</a></div>\n",
      "<div class=\"station\"><a href=\"/station/xltcx/line2/2013-08-26/267.html\">北京站</a></div>\n",
      "<div class=\"station\"><a href=\"/station/xltcx/line2/2013-08-26/268.html\">崇文门</a></div>\n",
      "<div class=\"station\"><a href=\"/station/xltcx/line2/2013-08-26/271.html\">前门</a></div>\n",
      "<div class=\"station\"><a href=\"/station/xltcx/line2/2013-08-26/272.html\">和平门</a></div>\n",
      "<div class=\"station\"><a href=\"/station/xltcx/line2/2013-08-26/273.html\">宣武门</a></div>\n",
      "<div class=\"station\"><a href=\"/station/xltcx/line2/2013-08-26/274.html\">长椿街</a></div>\n",
      "<div class=\"station\"><a href=\"/station/xltcx/line2/2013-08-26/275.html\">复兴门</a></div>\n",
      "<div class=\"station\"><a href=\"/station/xltcx/line2/2013-08-26/276.html\">阜成门</a></div>\n",
      "<div class=\"station\"><a href=\"/station/xltcx/line2/2013-08-26/277.html\">车公庄</a></div>\n",
      "<div class=\"line_name\">\n",
      "<div class=\"subway_num4\">4号线</div>　　<span style=\"line-height:30px;\">详询京港地铁官方网站</span>\n",
      "</div>\n",
      "<div class=\"station\">安河桥北</div>\n",
      "<div class=\"station\">北宫门</div>\n",
      "<div class=\"station\">西苑</div>\n",
      "<div class=\"station\">圆明园</div>\n",
      "<div class=\"station\">北京大学东门</div>\n",
      "<div class=\"station\">中关村</div>\n",
      "<div class=\"station\">海淀黄庄</div>\n",
      "<div class=\"station\">人民大学</div>\n",
      "<div class=\"station\">魏公村</div>\n",
      "<div class=\"station\">国家图书馆</div>\n",
      "<div class=\"station\">动物园</div>\n",
      "<div class=\"station\">西直门</div>\n",
      "<div class=\"station\">新街口</div>\n",
      "<div class=\"station\">平安里</div>\n",
      "<div class=\"station\">西四</div>\n",
      "<div class=\"station\">灵境胡同</div>\n",
      "<div class=\"station\">西单</div>\n",
      "<div class=\"station\">宣武门</div>\n",
      "<div class=\"station\">菜市口</div>\n",
      "<div class=\"station\">陶然亭</div>\n",
      "<div class=\"station\">北京南站</div>\n",
      "<div class=\"station\">马家堡</div>\n",
      "<div class=\"station\">角门西</div>\n",
      "<div class=\"station\">公益西桥</div>\n",
      "<div class=\"line_name\">\n",
      "<div class=\"subway_num6\">5号线</div>\n",
      "</div>\n",
      "<div class=\"station\"><a href=\"/station/xltcx/line5/2013-08-21/49.html\">宋家庄</a></div>\n",
      "<div class=\"station\"><a href=\"/station/xltcx/line5/2013-08-21/50.html\">刘家窑</a></div>\n",
      "<div class=\"station\"><a href=\"/station/xltcx/line5/2013-08-21/51.html\">蒲黄榆</a></div>\n",
      "<div class=\"station\"><a href=\"/station/xltcx/line5/2013-08-21/52.html\">天坛东门</a></div>\n",
      "<div class=\"station\"><a href=\"/station/xltcx/line5/2013-08-21/53.html\">磁器口</a></div>\n",
      "<div class=\"station\"><a href=\"/station/xltcx/line5/2013-08-21/54.html\">崇文门</a></div>\n",
      "<div class=\"station\"><a href=\"/station/xltcx/line5/2013-08-21/55.html\">东单</a></div>\n",
      "<div class=\"station\"><a href=\"/station/xltcx/line5/2013-08-21/56.html\">灯市口</a></div>\n",
      "<div class=\"station\"><a href=\"/station/xltcx/line5/2013-08-21/57.html\">东四</a></div>\n",
      "<div class=\"station\"><a href=\"/station/xltcx/line5/2013-08-21/58.html\">张自忠路</a></div>\n",
      "<div class=\"station\"><a href=\"/station/xltcx/line5/2013-08-21/59.html\">北新桥</a></div>\n",
      "<div class=\"station\"><a href=\"/station/xltcx/line5/2013-08-21/60.html\">雍和宫</a></div>\n",
      "<div class=\"station\"><a href=\"/station/xltcx/line5/2013-08-21/61.html\">和平里北街</a></div>\n",
      "<div class=\"station\"><a href=\"/station/xltcx/line5/2013-08-21/62.html\">和平西桥</a></div>\n",
      "<div class=\"station\"><a href=\"/station/xltcx/line5/2013-08-21/63.html\">惠新西街南口</a></div>\n",
      "<div class=\"station\"><a href=\"/station/xltcx/line5/2013-08-21/64.html\">惠新西街北口</a></div>\n",
      "<div class=\"station\"><a href=\"/station/xltcx/line5/2013-08-21/65.html\">大屯路东</a></div>\n",
      "<div class=\"station\"><a href=\"/station/xltcx/line5/2013-08-21/66.html\">北苑路北</a></div>\n",
      "<div class=\"station\"><a href=\"/station/xltcx/line5/2013-08-21/67.html\">立水桥南</a></div>\n",
      "<div class=\"station\"><a href=\"/station/xltcx/line5/2013-08-21/68.html\">立水桥</a></div>\n",
      "<div class=\"station\"><a href=\"/station/xltcx/line5/2013-08-21/69.html\">天通苑南</a></div>\n",
      "<div class=\"station\"><a href=\"/station/xltcx/line5/2013-08-21/70.html\">天通苑</a></div>\n",
      "<div class=\"station\"><a href=\"/station/xltcx/line5/2013-08-21/71.html\">天通苑北</a></div>\n",
      "<div class=\"line_name\">\n",
      "<div class=\"subway_num7\">6号线</div>\n",
      "</div>\n",
      "<div class=\"station\"><a href=\"/station/xltcx/line6/2018-12-30/539.html\">金安桥</a></div>\n",
      "<div class=\"station\"><a href=\"/station/xltcx/line6/2018-12-30/540.html\">苹果园</a></div>\n",
      "<div class=\"station\"><a href=\"/station/xltcx/line6/2018-12-30/541.html\">杨庄</a></div>\n",
      "<div class=\"station\"><a href=\"/station/xltcx/line6/2018-12-30/542.html\">西黄村</a></div>\n",
      "<div class=\"station\"><a href=\"/station/xltcx/line6/2018-12-30/543.html\">廖公庄</a></div>\n",
      "<div class=\"station\"><a href=\"/station/xltcx/line6/2018-12-30/544.html\">田村</a></div>\n",
      "<div class=\"station\"><a href=\"/station/xltcx/line6/2013-08-22/125.html\">海淀五路居</a></div>\n",
      "<div class=\"station\"><a href=\"/station/xltcx/line6/2013-08-22/126.html\">慈寿寺</a></div>\n",
      "<div class=\"station\"><a href=\"/station/xltcx/line6/2013-08-22/127.html\">花园桥</a></div>\n",
      "<div class=\"station\"><a href=\"/station/xltcx/line6/2013-08-23/128.html\">白石桥南</a></div>\n",
      "<div class=\"station\"><a href=\"/station/xltcx/line6/2013-08-23/129.html\">车公庄西</a></div>\n",
      "<div class=\"station\"><a href=\"/station/xltcx/line6/2013-08-23/130.html\">车公庄</a></div>\n",
      "<div class=\"station\"><a href=\"/station/xltcx/line6/2013-08-23/131.html\">平安里</a></div>\n",
      "<div class=\"station\"><a href=\"/station/xltcx/line6/2013-08-23/132.html\">北海北</a></div>\n",
      "<div class=\"station\"><a href=\"/station/xltcx/line6/2013-08-23/133.html\">南锣鼓巷</a></div>\n",
      "<div class=\"station\"><a href=\"/station/xltcx/line6/2013-08-23/134.html\">东四</a></div>\n",
      "<div class=\"station\"><a href=\"/station/xltcx/line6/2013-08-23/135.html\">朝阳门</a></div>\n",
      "<div class=\"station\"><a href=\"/station/xltcx/line6/2013-08-23/136.html\">东大桥</a></div>\n",
      "<div class=\"station\"><a href=\"/station/xltcx/line6/2013-08-23/137.html\">呼家楼</a></div>\n",
      "<div class=\"station\"><a href=\"/station/xltcx/line6/2013-08-23/138.html\">金台路</a></div>\n",
      "<div class=\"station\"><a href=\"/station/xltcx/line6/2013-08-23/139.html\">十里堡</a></div>\n",
      "<div class=\"station\"><a href=\"/station/xltcx/line6/2013-08-23/140.html\">青年路</a></div>\n",
      "<div class=\"station\"><a href=\"/station/xltcx/line6/2013-08-23/141.html\">褡裢坡</a></div>\n",
      "<div class=\"station\"><a href=\"/station/xltcx/line6/2013-08-23/142.html\">黄渠</a></div>\n",
      "<div class=\"station\"><a href=\"/station/xltcx/line6/2013-08-23/143.html\">常营</a></div>\n",
      "<div class=\"station\"><a href=\"/station/xltcx/line6/2013-08-23/144.html\">草房</a></div>\n",
      "<div class=\"station\"><a href=\"/station/xltcx/line6/2014-12-24/429.html\">物资学院路</a></div>\n",
      "<div class=\"station\"><a href=\"/station/xltcx/line6/2014-12-24/430.html\">通州北关</a></div>\n",
      "<div class=\"station\">通运门</div>\n",
      "<div class=\"station\"><a href=\"/station/xltcx/line6/2014-12-25/466.html\">北运河西</a></div>\n",
      "<div class=\"station\"><a href=\"/station/xltcx/line6/2014-12-25/467.html\">北运河东</a></div>\n",
      "<div class=\"station\"><a href=\"/station/xltcx/line6/2014-12-25/468.html\">郝家府</a></div>\n",
      "<div class=\"station\"><a href=\"/station/xltcx/line6/2014-12-25/469.html\">东夏园</a></div>\n",
      "<div class=\"station\"><a href=\"/station/xltcx/line6/2014-12-25/470.html\">潞城</a></div>\n",
      "<div class=\"line_name\">\n",
      "<div class=\"subway_num18\">7号线</div>\n",
      "</div>\n",
      "<div class=\"station\"><a href=\"/station/xltcx/lines7/2014-12-24/428.html\">北京西站</a></div>\n",
      "<div class=\"station\"><a href=\"/station/xltcx/lines7/2014-12-24/433.html\">湾子</a></div>\n",
      "<div class=\"station\"><a href=\"/station/xltcx/lines7/2014-12-24/436.html\">达官营</a></div>\n",
      "<div class=\"station\"><a href=\"/station/xltcx/lines7/2014-12-24/447.html\">广安门内</a></div>\n",
      "<div class=\"station\"><a href=\"/station/xltcx/lines7/2014-12-24/448.html\">菜市口</a></div>\n",
      "<div class=\"station\"><a href=\"/station/xltcx/lines7/2014-12-24/449.html\">虎坊桥</a></div>\n",
      "<div class=\"station\"><a href=\"/station/xltcx/lines7/2014-12-24/450.html\">珠市口</a></div>\n",
      "<div class=\"station\"><a href=\"/station/xltcx/lines7/2014-12-24/451.html\">桥湾</a></div>\n",
      "<div class=\"station\"><a href=\"/station/xltcx/lines7/2014-12-24/452.html\">磁器口</a></div>\n",
      "<div class=\"station\"><a href=\"/station/xltcx/lines7/2014-12-24/453.html\">广渠门内</a></div>\n",
      "<div class=\"station\"><a href=\"/station/xltcx/lines7/2014-12-24/454.html\">广渠门外</a></div>\n",
      "<div class=\"station\">双井</div>\n",
      "<div class=\"station\"><a href=\"/station/xltcx/lines7/2014-12-24/456.html\">九龙山</a></div>\n",
      "<div class=\"station\"><a href=\"/station/xltcx/lines7/2014-12-24/457.html\">大郊亭</a></div>\n",
      "<div class=\"station\"><a href=\"/station/xltcx/lines7/2014-12-24/458.html\">百子湾</a></div>\n",
      "<div class=\"station\"><a href=\"/station/xltcx/lines7/2014-12-24/459.html\">化工</a></div>\n",
      "<div class=\"station\"><a href=\"/station/xltcx/lines7/2014-12-24/460.html\">南楼梓庄</a></div>\n",
      "<div class=\"station\"><a href=\"/station/xltcx/lines7/2014-12-24/461.html\">欢乐谷景区</a></div>\n",
      "<div class=\"station\"><a href=\"/station/xltcx/lines7/2014-12-24/462.html\">垡头</a></div>\n",
      "<div class=\"station\"><a href=\"/station/xltcx/lines7/2014-12-24/463.html\">双合</a></div>\n",
      "<div class=\"station\"><a href=\"/station/xltcx/lines7/2014-12-24/464.html\">焦化厂</a></div>\n",
      "<div class=\"line_name\">\n",
      "<div class=\"subway_num8\">8号线</div>\n",
      "</div>\n",
      "<div class=\"station\"><a href=\"/station/xltcx/line8/2013-12-27/360.html\">朱辛庄</a></div>\n",
      "<div class=\"station\"><a href=\"/station/xltcx/line8/2013-12-27/361.html\">育知路</a></div>\n",
      "<div class=\"station\"><a href=\"/station/xltcx/line8/2013-12-27/362.html\">平西府</a></div>\n",
      "<div class=\"station\"><a href=\"/station/xltcx/line8/2013-12-27/363.html\">回龙观东大街</a></div>\n",
      "<div class=\"station\"><a href=\"/station/xltcx/line8/2013-12-27/364.html\">霍营</a></div>\n",
      "<div class=\"station\"><a href=\"/station/xltcx/line8/2013-12-27/365.html\">育新</a></div>\n",
      "<div class=\"station\"><a href=\"/station/xltcx/line8/2013-12-27/366.html\">西小口</a></div>\n",
      "<div class=\"station\"><a href=\"/station/xltcx/line8/2013-12-27/367.html\">永泰庄</a></div>\n",
      "<div class=\"station\"><a href=\"/station/xltcx/line8/2013-12-27/368.html\">林萃桥</a></div>\n",
      "<div class=\"station\"><a href=\"/station/xltcx/line8/2013-12-27/369.html\">森林公园南门</a></div>\n",
      "<div class=\"station\"><a href=\"/station/xltcx/line8/2013-12-27/370.html\">奥林匹克公园</a></div>\n",
      "<div class=\"station\"><a href=\"/station/xltcx/line8/2013-12-27/371.html\">奥体中心</a></div>\n",
      "<div class=\"station\"><a href=\"/station/xltcx/line8/2013-12-27/372.html\">北土城</a></div>\n",
      "<div class=\"station\"><a href=\"/station/xltcx/line8/2013-12-27/373.html\">安华桥</a></div>\n",
      "<div class=\"station\"><a href=\"/station/xltcx/line8/2013-12-27/374.html\">安德里北街</a></div>\n",
      "<div class=\"station\"><a href=\"/station/xltcx/line8/2013-12-27/375.html\">鼓楼大街</a></div>\n",
      "<div class=\"station\"><a href=\"/station/xltcx/line8/2013-12-27/376.html\">什刹海</a></div>\n",
      "<div class=\"station\"><a href=\"/station/xltcx/line8/2013-12-27/377.html\">南锣鼓巷</a></div>\n",
      "<div class=\"station\"><a href=\"/station/xltcx/line8/2018-12-30/545.html\">中国美术馆</a></div>\n",
      "<div class=\"station\"><a href=\"/station/xltcx/line8/2018-12-30/546.html\">珠市口</a></div>\n",
      "<div class=\"station\"><a href=\"/station/xltcx/line8/2018-12-30/547.html\">天桥</a></div>\n",
      "<div class=\"station\"><a href=\"/station/xltcx/line8/2018-12-30/548.html\">永定门外</a></div>\n",
      "<div class=\"station\"><a href=\"/station/xltcx/line8/2018-12-30/549.html\">木樨园</a></div>\n",
      "<div class=\"station\"><a href=\"/station/xltcx/line8/2018-12-30/550.html\">海户屯</a></div>\n",
      "<div class=\"station\"><a href=\"/station/xltcx/line8/2018-12-30/551.html\">大红门</a></div>\n",
      "<div class=\"station\"><a href=\"/station/xltcx/line8/2018-12-30/552.html\">大红门南</a></div>\n",
      "<div class=\"station\"><a href=\"/station/xltcx/line8/2018-12-30/553.html\">和义</a></div>\n",
      "<div class=\"station\"><a href=\"/station/xltcx/line8/2018-12-30/554.html\">东高地</a></div>\n",
      "<div class=\"station\"><a href=\"/station/xltcx/line8/2018-12-30/555.html\">火箭万源</a></div>\n",
      "<div class=\"station\"><a href=\"/station/xltcx/line8/2018-12-30/556.html\">五福堂</a></div>\n",
      "<div class=\"station\"><a href=\"/station/xltcx/line8/2018-12-30/557.html\">德茂</a></div>\n",
      "<div class=\"station\"><a href=\"/station/xltcx/line8/2018-12-30/558.html\">瀛海</a></div>\n",
      "<div class=\"line_name\">\n",
      "<div class=\"subway_num9\">9号线</div>\n",
      "</div>\n",
      "<div class=\"station\"><a href=\"/station/xltcx/line9/2013-08-23/158.html\">郭公庄</a></div>\n",
      "<div class=\"station\"><a href=\"/station/xltcx/line9/2013-08-23/159.html\">丰台科技园</a></div>\n",
      "<div class=\"station\"><a href=\"/station/xltcx/line9/2013-08-23/160.html\">科怡路</a></div>\n",
      "<div class=\"station\"><a href=\"/station/xltcx/line9/2013-08-23/161.html\">丰台南路</a></div>\n",
      "<div class=\"station\"><a href=\"/station/xltcx/line9/2013-08-23/162.html\">丰台东大街</a></div>\n",
      "<div class=\"station\"><a href=\"/station/xltcx/line9/2013-08-23/163.html\">七里庄</a></div>\n",
      "<div class=\"station\"><a href=\"/station/xltcx/line9/2013-08-23/164.html\">六里桥</a></div>\n",
      "<div class=\"station\"><a href=\"/station/xltcx/line9/2013-08-23/165.html\">六里桥东</a></div>\n",
      "<div class=\"station\"><a href=\"/station/xltcx/line9/2013-08-23/166.html\">北京西站</a></div>\n",
      "<div class=\"station\"><a href=\"/station/xltcx/line9/2013-10-26/344.html\">军事博物馆</a></div>\n",
      "<div class=\"station\"><a href=\"/station/xltcx/line9/2013-10-26/345.html\">白堆子</a></div>\n",
      "<div class=\"station\"><a href=\"/station/xltcx/line9/2013-10-26/346.html\">白石桥南</a></div>\n",
      "<div class=\"station\"><a href=\"/station/xltcx/line9/2013-10-26/347.html\">国家图书馆</a></div>\n",
      "<div class=\"line_name\">\n",
      "<div class=\"subway_num10\">10号线</div>\n",
      "</div>\n",
      "<div class=\"station\"><a href=\"/station/xltcx/line10/2013-08-23/170.html\">巴沟</a></div>\n",
      "<div class=\"station\"><a href=\"/station/xltcx/line10/2013-08-23/171.html\">苏州街</a></div>\n",
      "<div class=\"station\"><a href=\"/station/xltcx/line10/2013-08-23/172.html\">海淀黄庄</a></div>\n",
      "<div class=\"station\"><a href=\"/station/xltcx/line10/2013-08-23/173.html\">知春里</a></div>\n",
      "<div class=\"station\"><a href=\"/station/xltcx/line10/2013-08-23/174.html\">知春路</a></div>\n",
      "<div class=\"station\"><a href=\"/station/xltcx/line10/2013-08-23/175.html\">西土城</a></div>\n",
      "<div class=\"station\"><a href=\"/station/xltcx/line10/2013-08-23/176.html\">牡丹园</a></div>\n",
      "<div class=\"station\"><a href=\"/station/xltcx/line10/2013-08-23/177.html\">健德门</a></div>\n",
      "<div class=\"station\"><a href=\"/station/xltcx/line10/2013-08-23/178.html\">北土城</a></div>\n",
      "<div class=\"station\"><a href=\"/station/xltcx/line10/2013-08-23/179.html\">安贞门</a></div>\n",
      "<div class=\"station\"><a href=\"/station/xltcx/line10/2013-08-26/180.html\">惠新西街南口</a></div>\n",
      "<div class=\"station\"><a href=\"/station/xltcx/line10/2013-08-26/182.html\">芍药居</a></div>\n",
      "<div class=\"station\"><a href=\"/station/xltcx/line10/2013-08-26/185.html\">太阳宫</a></div>\n",
      "<div class=\"station\"><a href=\"/station/xltcx/line10/2013-08-26/187.html\">三元桥</a></div>\n",
      "<div class=\"station\"><a href=\"/station/xltcx/line10/2013-08-26/189.html\">亮马桥</a></div>\n",
      "<div class=\"station\"><a href=\"/station/xltcx/line10/2013-08-26/191.html\">农业展览馆</a></div>\n",
      "<div class=\"station\"><a href=\"/station/xltcx/line10/2013-08-26/192.html\">团结湖</a></div>\n",
      "<div class=\"station\"><a href=\"/station/xltcx/line10/2013-08-26/193.html\">呼家楼</a></div>\n",
      "<div class=\"station\"><a href=\"/station/xltcx/line10/2013-08-26/194.html\">金台夕照</a></div>\n",
      "<div class=\"station\"><a href=\"/station/xltcx/line10/2013-08-26/195.html\">国贸</a></div>\n",
      "<div class=\"station\"><a href=\"/station/xltcx/line10/2013-08-26/197.html\">双井</a></div>\n",
      "<div class=\"station\"><a href=\"/station/xltcx/line10/2013-08-26/199.html\">劲松</a></div>\n",
      "<div class=\"station\"><a href=\"/station/xltcx/line10/2013-08-26/201.html\">潘家园</a></div>\n",
      "<div class=\"station\"><a href=\"/station/xltcx/line10/2013-08-26/203.html\">十里河</a></div>\n",
      "<div class=\"station\"><a href=\"/station/xltcx/line10/2013-08-26/205.html\">分钟寺</a></div>\n",
      "<div class=\"station\"><a href=\"/station/xltcx/line10/2013-08-26/206.html\">成寿寺</a></div>\n",
      "<div class=\"station\"><a href=\"/station/xltcx/line10/2013-08-26/210.html\">宋家庄</a></div>\n",
      "<div class=\"station\"><a href=\"/station/xltcx/line10/2013-08-26/212.html\">石榴庄</a></div>\n",
      "<div class=\"station\"><a href=\"/station/xltcx/line10/2013-08-26/214.html\">大红门</a></div>\n",
      "<div class=\"station\"><a href=\"/station/xltcx/line10/2013-08-26/215.html\">角门东</a></div>\n",
      "<div class=\"station\"><a href=\"/station/xltcx/line10/2013-08-26/218.html\">角门西</a></div>\n",
      "<div class=\"station\"><a href=\"/station/xltcx/line10/2013-08-26/220.html\">草桥</a></div>\n",
      "<div class=\"station\"><a href=\"/station/xltcx/line10/2013-08-26/221.html\">纪家庙</a></div>\n",
      "<div class=\"station\"><a href=\"/station/xltcx/line10/2013-08-26/222.html\">首经贸</a></div>\n",
      "<div class=\"station\"><a href=\"/station/xltcx/line10/2013-08-26/224.html\">丰台站</a></div>\n",
      "<div class=\"station\"><a href=\"/station/xltcx/line10/2013-08-26/226.html\">泥洼</a></div>\n",
      "<div class=\"station\"><a href=\"/station/xltcx/line10/2013-08-26/229.html\">西局</a></div>\n",
      "<div class=\"station\"><a href=\"/station/xltcx/line10/2013-08-26/230.html\">六里桥</a></div>\n",
      "<div class=\"station\"><a href=\"/station/xltcx/line10/2013-08-26/232.html\">莲花桥</a></div>\n",
      "<div class=\"station\"><a href=\"/station/xltcx/line10/2013-08-26/234.html\">公主坟</a></div>\n",
      "<div class=\"station\"><a href=\"/station/xltcx/line10/2013-08-26/236.html\">西钓鱼台</a></div>\n",
      "<div class=\"station\"><a href=\"/station/xltcx/line10/2013-08-26/237.html\">慈寿寺</a></div>\n",
      "<div class=\"station\"><a href=\"/station/xltcx/line10/2013-08-26/238.html\">车道沟</a></div>\n",
      "<div class=\"station\"><a href=\"/station/xltcx/line10/2013-08-26/240.html\">长春桥</a></div>\n",
      "<div class=\"station\"><a href=\"/station/xltcx/line10/2013-08-26/242.html\">火器营</a></div>\n",
      "<div class=\"line_name\">\n",
      "<div class=\"subway_num11\">13号线</div>\n",
      "</div>\n",
      "<div class=\"station\"><a href=\"/station/xltcx/line13/2013-08-22/74.html\">西直门</a></div>\n",
      "<div class=\"station\"><a href=\"/station/xltcx/line13/2013-08-22/75.html\">大钟寺</a></div>\n",
      "<div class=\"station\"><a href=\"/station/xltcx/line13/2013-08-22/76.html\">知春路</a></div>\n",
      "<div class=\"station\"><a href=\"/station/xltcx/line13/2013-08-22/77.html\">五道口</a></div>\n",
      "<div class=\"station\"><a href=\"/station/xltcx/line13/2013-08-22/78.html\">上地</a></div>\n",
      "<div class=\"station\"><a href=\"/station/xltcx/line13/2013-08-22/79.html\">西二旗</a></div>\n",
      "<div class=\"station\"><a href=\"/station/xltcx/line13/2013-08-22/80.html\">龙泽</a></div>\n",
      "<div class=\"station\"><a href=\"/station/xltcx/line13/2013-08-22/81.html\">回龙观</a></div>\n",
      "<div class=\"station\"><a href=\"/station/xltcx/line13/2013-08-22/82.html\">霍营</a></div>\n",
      "<div class=\"station\"><a href=\"/station/xltcx/line13/2013-08-22/83.html\">立水桥</a></div>\n",
      "<div class=\"station\"><a href=\"/station/xltcx/line13/2013-08-22/84.html\">北苑</a></div>\n",
      "<div class=\"station\"><a href=\"/station/xltcx/line13/2013-08-22/85.html\">望京西</a></div>\n",
      "<div class=\"station\"><a href=\"/station/xltcx/line13/2013-08-22/86.html\">芍药居</a></div>\n",
      "<div class=\"station\"><a href=\"/station/xltcx/line13/2013-08-22/87.html\">光熙门</a></div>\n",
      "<div class=\"station\"><a href=\"/station/xltcx/line13/2013-08-22/88.html\">柳芳</a></div>\n",
      "<div class=\"station\"><a href=\"/station/xltcx/line13/2013-08-22/89.html\">东直门</a></div>\n",
      "<div class=\"line_name\">\n",
      "<div class=\"subway_num17\">14号线</div><span style=\"line-height:30px;\">　　详询京港地铁官方网站</span>\n",
      "</div>\n",
      "<div class=\"station\">张郭庄</div>\n",
      "<div class=\"station\">园博园</div>\n",
      "<div class=\"station\">大瓦窑</div>\n",
      "<div class=\"station\">郭庄子</div>\n",
      "<div class=\"station\">大井</div>\n",
      "<div class=\"station\">七里庄</div>\n",
      "<div class=\"station\">西局</div>\n",
      "<div class=\"station\">善各庄</div>\n",
      "<div class=\"station\">陶然桥</div>\n",
      "<div class=\"station\">永定门外</div>\n",
      "<div class=\"station\">景泰</div>\n",
      "<div class=\"station\">方庄</div>\n",
      "<div class=\"station\">北工大西门</div>\n",
      "<div class=\"station\">平乐园</div>\n",
      "<div class=\"station\">北京南站</div>\n",
      "<div class=\"station\">蒲黄榆</div>\n",
      "<div class=\"station\">十里河</div>\n",
      "<div class=\"station\">九龙山</div>\n",
      "<div class=\"station\">大望路</div>\n",
      "<div class=\"station\">朝阳公园</div>\n",
      "<div class=\"station\">枣营</div>\n",
      "<div class=\"station\">东风北桥</div>\n",
      "<div class=\"station\">高家园</div>\n",
      "<div class=\"station\">阜通</div>\n",
      "<div class=\"station\">望京</div>\n",
      "<div class=\"station\">金台路</div>\n",
      "<div class=\"station\">将台</div>\n",
      "<div class=\"station\">望京南</div>\n",
      "<div class=\"station\">东湖渠</div>\n",
      "<div class=\"station\">来广营</div>\n",
      "<div class=\"line_name\">\n",
      "<div class=\"subway_num12\">15号线</div>\n",
      "</div>\n",
      "<div class=\"station\"><a href=\"/station/xltcx/line15/2013-10-26/358.html\">俸伯</a></div>\n",
      "<div class=\"station\"><a href=\"/station/xltcx/line15/2013-10-26/357.html\">顺义</a></div>\n",
      "<div class=\"station\"><a href=\"/station/xltcx/line15/2013-10-26/356.html\">石门</a></div>\n",
      "<div class=\"station\"><a href=\"/station/xltcx/line15/2013-10-26/355.html\">南法信</a></div>\n",
      "<div class=\"station\"><a href=\"/station/xltcx/line15/2013-10-26/354.html\">后沙峪</a></div>\n",
      "<div class=\"station\"><a href=\"/station/xltcx/line15/2013-10-26/353.html\">花梨坎</a></div>\n",
      "<div class=\"station\"><a href=\"/station/xltcx/line15/2013-10-26/352.html\">国展</a></div>\n",
      "<div class=\"station\"><a href=\"/station/xltcx/line15/2013-10-26/351.html\">孙河</a></div>\n",
      "<div class=\"station\"><a href=\"/station/xltcx/line15/2013-10-26/350.html\">马泉营</a></div>\n",
      "<div class=\"station\"><a href=\"/station/xltcx/line15/2013-10-26/349.html\">崔各庄</a></div>\n",
      "<div class=\"station\"><a href=\"/station/xltcx/line15/2013-10-26/348.html\">望京东</a></div>\n",
      "<div class=\"station\"><a href=\"/station/xltcx/line15/2013-08-26/198.html\">望京</a></div>\n",
      "<div class=\"station\"><a href=\"/station/xltcx/line15/2013-08-26/196.html\">望京西</a></div>\n",
      "<div class=\"station\"><a href=\"/station/xltcx/line15/2014-12-24/440.html\">关庄</a></div>\n",
      "<div class=\"station\"><a href=\"/station/xltcx/line15/2014-12-24/441.html\">大屯路东</a></div>\n",
      "<div class=\"station\"><a href=\"/station/xltcx/line15/2014-12-24/442.html\">安立路</a></div>\n",
      "<div class=\"station\"><a href=\"/station/xltcx/line15/2014-12-24/446.html\">奥林匹克公园</a></div>\n",
      "<div class=\"station\"><a href=\"/station/xltcx/line15/2014-12-24/445.html\">北沙滩</a></div>\n",
      "<div class=\"station\"><a href=\"/station/xltcx/line15/2014-12-24/444.html\">六道口</a></div>\n",
      "<div class=\"station\"><a href=\"/station/xltcx/line15/2014-12-24/443.html\">清华东路西口</a></div>\n",
      "<div class=\"line_name\">\n",
      "<div class=\"subway_num19\">16号线</div><span style=\"line-height:30px;\">　　详询京港地铁官方网站</span>\n",
      "</div>\n",
      "<div class=\"station\">西苑</div>\n",
      "<div class=\"station\">农大南路</div>\n",
      "<div class=\"station\">马连洼</div>\n",
      "<div class=\"station\">西北旺</div>\n",
      "<div class=\"station\">永丰南</div>\n",
      "<div class=\"station\">永丰</div>\n",
      "<div class=\"station\">屯佃</div>\n",
      "<div class=\"station\">稻香湖路</div>\n",
      "<div class=\"station\">温阳路</div>\n",
      "<div class=\"station\">北安河</div>\n",
      "<div class=\"line_name\">\n",
      "<div class=\"subway_num2\">八通线</div>\n",
      "</div>\n",
      "<div class=\"station\"><a href=\"/station/xltcx/linebt/2013-08-20/36.html\">四惠</a></div>\n",
      "<div class=\"station\"><a href=\"/station/xltcx/linebt/2013-08-20/37.html\">四惠东</a></div>\n",
      "<div class=\"station\"><a href=\"/station/xltcx/linebt/2013-08-20/38.html\">高碑店</a></div>\n",
      "<div class=\"station\"><a href=\"/station/xltcx/linebt/2013-08-20/39.html\">传媒大学</a></div>\n",
      "<div class=\"station\"><a href=\"/station/xltcx/linebt/2013-08-20/40.html\">双桥</a></div>\n",
      "<div class=\"station\"><a href=\"/station/xltcx/linebt/2013-08-20/41.html\">管庄</a></div>\n",
      "<div class=\"station\"><a href=\"/station/xltcx/linebt/2013-08-20/42.html\">八里桥</a></div>\n",
      "<div class=\"station\"><a href=\"/station/xltcx/linebt/2013-08-20/43.html\">通州北苑</a></div>\n",
      "<div class=\"station\"><a href=\"/station/xltcx/linebt/2013-08-20/44.html\">果园</a></div>\n",
      "<div class=\"station\"><a href=\"/station/xltcx/linebt/2013-08-20/45.html\">九棵树</a></div>\n",
      "<div class=\"station\"><a href=\"/station/xltcx/linebt/2013-08-20/46.html\">梨园</a></div>\n",
      "<div class=\"station\"><a href=\"/station/xltcx/linebt/2013-08-20/47.html\">临河里</a></div>\n",
      "<div class=\"station\"><a href=\"/station/xltcx/linebt/2013-08-20/48.html\">土桥</a></div>\n",
      "<div class=\"line_name\">\n",
      "<div class=\"subway_num14\">昌平线</div>\n",
      "</div>\n",
      "<div class=\"station\"><a href=\"/station/xltcx/linecp/2015-12-18/496.html\">昌平西山口</a></div>\n",
      "<div class=\"station\"><a href=\"/station/xltcx/linecp/2015-12-18/497.html\">十三陵景区</a></div>\n",
      "<div class=\"station\"><a href=\"/station/xltcx/linecp/2015-12-18/498.html\">昌平</a></div>\n",
      "<div class=\"station\"><a href=\"/station/xltcx/linecp/2015-12-18/499.html\">昌平东关</a></div>\n",
      "<div class=\"station\"><a href=\"/station/xltcx/linecp/2015-12-18/500.html\">北邵洼</a></div>\n",
      "<div class=\"station\"><a href=\"/station/xltcx/linecp/2013-08-26/245.html\">南邵</a></div>\n",
      "<div class=\"station\"><a href=\"/station/xltcx/linecp/2013-08-26/246.html\">沙河高教园</a></div>\n",
      "<div class=\"station\"><a href=\"/station/xltcx/linecp/2013-08-26/249.html\">沙河</a></div>\n",
      "<div class=\"station\"><a href=\"/station/xltcx/linecp/2013-08-26/250.html\">巩华城</a></div>\n",
      "<div class=\"station\"><a href=\"/station/xltcx/linecp/2013-08-26/251.html\">朱辛庄</a></div>\n",
      "<div class=\"station\"><a href=\"/station/xltcx/linecp/2013-08-26/252.html\">生命科学园</a></div>\n",
      "<div class=\"station\"><a href=\"/station/xltcx/linecp/2013-08-26/253.html\">西二旗</a></div>\n",
      "<div class=\"line_name\">\n",
      "<div class=\"subway_num15\">亦庄线</div>\n",
      "</div>\n",
      "<div class=\"station\"><a href=\"/station/xltcx/lineyz/2013-08-26/219.html\">宋家庄</a></div>\n",
      "<div class=\"station\"><a href=\"/station/xltcx/lineyz/2013-08-26/223.html\">肖村</a></div>\n",
      "<div class=\"station\"><a href=\"/station/xltcx/lineyz/2013-08-26/225.html\">小红门</a></div>\n",
      "<div class=\"station\"><a href=\"/station/xltcx/lineyz/2013-08-26/227.html\">旧宫</a></div>\n",
      "<div class=\"station\"><a href=\"/station/xltcx/lineyz/2013-08-26/228.html\">亦庄桥</a></div>\n",
      "<div class=\"station\"><a href=\"/station/xltcx/lineyz/2013-08-26/231.html\">亦庄文化园</a></div>\n",
      "<div class=\"station\"><a href=\"/station/xltcx/lineyz/2013-08-26/233.html\">万源街</a></div>\n",
      "<div class=\"station\"><a href=\"/station/xltcx/lineyz/2013-08-26/235.html\">荣京东街</a></div>\n",
      "<div class=\"station\"><a href=\"/station/xltcx/lineyz/2013-08-26/239.html\">荣昌东街</a></div>\n",
      "<div class=\"station\"><a href=\"/station/xltcx/lineyz/2013-08-26/241.html\">同济南路</a></div>\n",
      "<div class=\"station\"><a href=\"/station/xltcx/lineyz/2013-08-26/243.html\">经海路</a></div>\n",
      "<div class=\"station\"><a href=\"/station/xltcx/lineyz/2013-08-26/244.html\">次渠南</a></div>\n",
      "<div class=\"station\"><a href=\"/station/xltcx/lineyz/2013-08-26/247.html\">次渠</a></div>\n",
      "<div class=\"station\"><a href=\"/station/xltcx/lineyz/2013-10-26/359.html\">亦庄火车站</a></div>\n",
      "<div class=\"line_name\">\n",
      "<div class=\"subway_num13\">房山线</div>\n",
      "</div>\n",
      "<div class=\"station\"><a href=\"/station/xltcx/linefs/2013-08-26/248.html\">郭公庄</a></div>\n",
      "<div class=\"station\"><a href=\"/station/xltcx/linefs/2013-08-26/254.html\">大葆台</a></div>\n",
      "<div class=\"station\"><a href=\"/station/xltcx/linefs/2013-08-26/255.html\">稻田</a></div>\n",
      "<div class=\"station\"><a href=\"/station/xltcx/linefs/2013-08-26/256.html\">长阳</a></div>\n",
      "<div class=\"station\"><a href=\"/station/xltcx/linefs/2013-08-26/257.html\">篱笆房</a></div>\n",
      "<div class=\"station\"><a href=\"/station/xltcx/linefs/2013-08-26/258.html\">广阳城</a></div>\n",
      "<div class=\"station\"><a href=\"/station/xltcx/linefs/2013-08-26/259.html\">良乡大学城北</a></div>\n",
      "<div class=\"station\"><a href=\"/station/xltcx/linefs/2013-08-26/261.html\">良乡大学城</a></div>\n",
      "<div class=\"station\"><a href=\"/station/xltcx/linefs/2013-08-26/262.html\">良乡大学城西</a></div>\n",
      "<div class=\"station\"><a href=\"/station/xltcx/linefs/2013-08-26/263.html\">良乡南关</a></div>\n",
      "<div class=\"station\"><a href=\"/station/xltcx/linefs/2013-08-26/264.html\">苏庄</a></div>\n",
      "<div class=\"line_name\">\n",
      "<div class=\"subway_num16\">机场线</div>\n",
      "</div>\n",
      "<div class=\"station\"><a href=\"/station/xltcx/linejc/2013-08-26/265.html\">东直门</a></div>\n",
      "<div class=\"station\"><a href=\"/station/xltcx/linejc/2013-08-26/266.html\">三元桥</a></div>\n",
      "<div class=\"station\"><a href=\"/station/xltcx/linejc/2013-08-26/269.html\">3号航站楼</a></div>\n",
      "<div class=\"station\"><a href=\"/station/xltcx/linejc/2013-08-26/270.html\">2号航站楼</a></div>\n",
      "<div class=\"line_name\">\n",
      "<div class=\"subway_num5\">大兴线</div>　　<span style=\"line-height:30px;\">详询京港地铁官方网站</span>\n",
      "</div>\n",
      "<!--调取4号线公益西桥数据信息，大兴线无数据-->\n",
      "<div class=\"station\">公益西桥</div>\n",
      "<div class=\"station\">新宫</div>\n",
      "<div class=\"station\">西红门</div>\n",
      "<div class=\"station\">高米店北</div>\n",
      "<div class=\"station\">高米店南</div>\n",
      "<div class=\"station\">枣园</div>\n",
      "<div class=\"station\">清源路</div>\n",
      "<div class=\"station\">黄村西大街</div>\n",
      "<div class=\"station\">黄村火车站</div>\n",
      "<div class=\"station\">义和庄</div>\n",
      "<div class=\"station\">生物医药基地</div>\n",
      "<div class=\"station\">天宫院</div>\n",
      "<div class=\"line_name\">\n",
      "<div class=\"subway_num5\" style=\"background-color:#B35A20;\">S1线</div>　　<span style=\"line-height:30px;\">数据将于近期更新</span>\n",
      "</div>\n",
      "<!--调取4号线公益西桥数据信息，大兴线无数据-->\n",
      "<div class=\"station\">石厂</div>\n",
      "<!--调取4号线公益西桥数据信息，大兴线无数据-->\n",
      "<div class=\"station\">小园</div>\n",
      "<!--调取4号线公益西桥数据信息，大兴线无数据-->\n",
      "<div class=\"station\">栗园庄</div>\n",
      "<!--调取4号线公益西桥数据信息，大兴线无数据-->\n",
      "<div class=\"station\">上岸</div>\n",
      "<!--调取4号线公益西桥数据信息，大兴线无数据-->\n",
      "<div class=\"station\">桥户营</div>\n",
      "<!--调取4号线公益西桥数据信息，大兴线无数据-->\n",
      "<div class=\"station\">四道桥</div>\n",
      "<!--调取4号线公益西桥数据信息，大兴线无数据-->\n",
      "<div class=\"station\">金安桥</div>\n",
      "</div>]\n"
     ]
    }
   ],
   "source": [
    "print(table)"
   ]
  },
  {
   "cell_type": "code",
   "execution_count": 19,
   "metadata": {},
   "outputs": [],
   "source": [
    "nameList = []\n",
    "for i in table:\n",
    "\n",
    "    rows = i.findAll('div',attrs={'class':\"line_name\"}) #根据line name获取line\n",
    "\n",
    "    for row in rows:\n",
    "\n",
    "            cols = row.find('div')\n",
    "\n",
    "            if cols != None:\n",
    "\n",
    "               name = cols.text.strip()\n",
    "\n",
    "               nameList.append(name)"
   ]
  },
  {
   "cell_type": "code",
   "execution_count": 20,
   "metadata": {},
   "outputs": [
    {
     "name": "stdout",
     "output_type": "stream",
     "text": [
      "['1号线', '2号线', '4号线', '5号线', '6号线', '7号线', '8号线', '9号线', '10号线', '13号线', '14号线', '15号线', '16号线', '八通线', '昌平线', '亦庄线', '房山线', '机场线', '大兴线', 'S1线']\n"
     ]
    }
   ],
   "source": [
    "print(nameList)"
   ]
  },
  {
   "cell_type": "code",
   "execution_count": 22,
   "metadata": {},
   "outputs": [],
   "source": [
    "curName = ''\n",
    "stationDic= {}\n",
    "\n",
    "for i in table:\n",
    "\n",
    "    rows = i.findAll('div')\n",
    "\n",
    "    for row in rows:\n",
    "\n",
    "        if row['class']== ['line_name']:\n",
    "\n",
    "              curName = row.find('div').text.strip()\n",
    "\n",
    "              stationDic[curName] = []\n",
    "\n",
    "        else :\n",
    "\n",
    "            if row['class']== ['station']: #根据“station”获取station，然后将其写入字典中\n",
    "\n",
    "                 station = row.text.strip()\n",
    "\n",
    "                 stationDic[curName].append(station)"
   ]
  },
  {
   "cell_type": "code",
   "execution_count": 23,
   "metadata": {},
   "outputs": [
    {
     "name": "stdout",
     "output_type": "stream",
     "text": [
      "{'1号线': ['苹果园', '古城', '八角游乐园', '八宝山', '玉泉路', '五棵松', '万寿路', '公主坟', '军事博物馆', '木樨地', '南礼士路', '复兴门', '西单', '天安门西', '天安门东', '王府井', '东单', '建国门', '永安里', '国贸', '大望路', '四惠', '四惠东'], '2号线': ['西直门', '积水潭', '鼓楼大街', '安定门', '雍和宫', '东直门', '东四十条', '朝阳门', '建国门', '北京站', '崇文门', '前门', '和平门', '宣武门', '长椿街', '复兴门', '阜成门', '车公庄'], '4号线': ['安河桥北', '北宫门', '西苑', '圆明园', '北京大学东门', '中关村', '海淀黄庄', '人民大学', '魏公村', '国家图书馆', '动物园', '西直门', '新街口', '平安里', '西四', '灵境胡同', '西单', '宣武门', '菜市口', '陶然亭', '北京南站', '马家堡', '角门西', '公益西桥'], '5号线': ['宋家庄', '刘家窑', '蒲黄榆', '天坛东门', '磁器口', '崇文门', '东单', '灯市口', '东四', '张自忠路', '北新桥', '雍和宫', '和平里北街', '和平西桥', '惠新西街南口', '惠新西街北口', '大屯路东', '北苑路北', '立水桥南', '立水桥', '天通苑南', '天通苑', '天通苑北'], '6号线': ['金安桥', '苹果园', '杨庄', '西黄村', '廖公庄', '田村', '海淀五路居', '慈寿寺', '花园桥', '白石桥南', '车公庄西', '车公庄', '平安里', '北海北', '南锣鼓巷', '东四', '朝阳门', '东大桥', '呼家楼', '金台路', '十里堡', '青年路', '褡裢坡', '黄渠', '常营', '草房', '物资学院路', '通州北关', '通运门', '北运河西', '北运河东', '郝家府', '东夏园', '潞城'], '7号线': ['北京西站', '湾子', '达官营', '广安门内', '菜市口', '虎坊桥', '珠市口', '桥湾', '磁器口', '广渠门内', '广渠门外', '双井', '九龙山', '大郊亭', '百子湾', '化工', '南楼梓庄', '欢乐谷景区', '垡头', '双合', '焦化厂'], '8号线': ['朱辛庄', '育知路', '平西府', '回龙观东大街', '霍营', '育新', '西小口', '永泰庄', '林萃桥', '森林公园南门', '奥林匹克公园', '奥体中心', '北土城', '安华桥', '安德里北街', '鼓楼大街', '什刹海', '南锣鼓巷', '中国美术馆', '珠市口', '天桥', '永定门外', '木樨园', '海户屯', '大红门', '大红门南', '和义', '东高地', '火箭万源', '五福堂', '德茂', '瀛海'], '9号线': ['郭公庄', '丰台科技园', '科怡路', '丰台南路', '丰台东大街', '七里庄', '六里桥', '六里桥东', '北京西站', '军事博物馆', '白堆子', '白石桥南', '国家图书馆'], '10号线': ['巴沟', '苏州街', '海淀黄庄', '知春里', '知春路', '西土城', '牡丹园', '健德门', '北土城', '安贞门', '惠新西街南口', '芍药居', '太阳宫', '三元桥', '亮马桥', '农业展览馆', '团结湖', '呼家楼', '金台夕照', '国贸', '双井', '劲松', '潘家园', '十里河', '分钟寺', '成寿寺', '宋家庄', '石榴庄', '大红门', '角门东', '角门西', '草桥', '纪家庙', '首经贸', '丰台站', '泥洼', '西局', '六里桥', '莲花桥', '公主坟', '西钓鱼台', '慈寿寺', '车道沟', '长春桥', '火器营'], '13号线': ['西直门', '大钟寺', '知春路', '五道口', '上地', '西二旗', '龙泽', '回龙观', '霍营', '立水桥', '北苑', '望京西', '芍药居', '光熙门', '柳芳', '东直门'], '14号线': ['张郭庄', '园博园', '大瓦窑', '郭庄子', '大井', '七里庄', '西局', '善各庄', '陶然桥', '永定门外', '景泰', '方庄', '北工大西门', '平乐园', '北京南站', '蒲黄榆', '十里河', '九龙山', '大望路', '朝阳公园', '枣营', '东风北桥', '高家园', '阜通', '望京', '金台路', '将台', '望京南', '东湖渠', '来广营'], '15号线': ['俸伯', '顺义', '石门', '南法信', '后沙峪', '花梨坎', '国展', '孙河', '马泉营', '崔各庄', '望京东', '望京', '望京西', '关庄', '大屯路东', '安立路', '奥林匹克公园', '北沙滩', '六道口', '清华东路西口'], '16号线': ['西苑', '农大南路', '马连洼', '西北旺', '永丰南', '永丰', '屯佃', '稻香湖路', '温阳路', '北安河'], '八通线': ['四惠', '四惠东', '高碑店', '传媒大学', '双桥', '管庄', '八里桥', '通州北苑', '果园', '九棵树', '梨园', '临河里', '土桥'], '昌平线': ['昌平西山口', '十三陵景区', '昌平', '昌平东关', '北邵洼', '南邵', '沙河高教园', '沙河', '巩华城', '朱辛庄', '生命科学园', '西二旗'], '亦庄线': ['宋家庄', '肖村', '小红门', '旧宫', '亦庄桥', '亦庄文化园', '万源街', '荣京东街', '荣昌东街', '同济南路', '经海路', '次渠南', '次渠', '亦庄火车站'], '房山线': ['郭公庄', '大葆台', '稻田', '长阳', '篱笆房', '广阳城', '良乡大学城北', '良乡大学城', '良乡大学城西', '良乡南关', '苏庄'], '机场线': ['东直门', '三元桥', '3号航站楼', '2号航站楼'], '大兴线': ['公益西桥', '新宫', '西红门', '高米店北', '高米店南', '枣园', '清源路', '黄村西大街', '黄村火车站', '义和庄', '生物医药基地', '天宫院'], 'S1线': ['石厂', '小园', '栗园庄', '上岸', '桥户营', '四道桥', '金安桥']}\n"
     ]
    }
   ],
   "source": [
    "print(stationDic)"
   ]
  },
  {
   "cell_type": "code",
   "execution_count": 24,
   "metadata": {},
   "outputs": [
    {
     "name": "stdout",
     "output_type": "stream",
     "text": [
      "{'苹果园': ['古城', '杨庄'], '古城': ['八角游乐园'], '八角游乐园': ['古城', '八宝山'], '八宝山': ['八角游乐园', '玉泉路'], '玉泉路': ['八宝山', '五棵松'], '五棵松': ['玉泉路', '万寿路'], '万寿路': ['五棵松', '公主坟'], '公主坟': ['万寿路', '军事博物馆', '莲花桥', '西钓鱼台'], '军事博物馆': ['公主坟', '木樨地', '北京西站', '白堆子'], '木樨地': ['军事博物馆', '南礼士路'], '南礼士路': ['木樨地', '复兴门'], '复兴门': ['南礼士路', '西单', '长椿街', '阜成门'], '西单': ['复兴门', '天安门西', '灵境胡同', '宣武门'], '天安门西': ['西单', '天安门东'], '天安门东': ['天安门西', '王府井'], '王府井': ['天安门东', '东单'], '东单': ['王府井', '建国门', '崇文门', '灯市口'], '建国门': ['东单', '永安里', '朝阳门', '北京站'], '永安里': ['建国门', '国贸'], '国贸': ['永安里', '大望路', '金台夕照', '双井'], '大望路': ['国贸', '四惠', '九龙山', '朝阳公园'], '四惠': ['大望路', '四惠东', '四惠东'], '四惠东': ['四惠', '高碑店'], '西直门': ['积水潭', '动物园', '新街口', '大钟寺'], '积水潭': ['鼓楼大街'], '鼓楼大街': ['积水潭', '安定门', '安德里北街', '什刹海'], '安定门': ['鼓楼大街', '雍和宫'], '雍和宫': ['安定门', '东直门', '北新桥', '和平里北街'], '东直门': ['雍和宫', '东四十条', '柳芳', '三元桥'], '东四十条': ['东直门', '朝阳门'], '朝阳门': ['东四十条', '建国门', '东四', '东大桥'], '北京站': ['建国门', '崇文门'], '崇文门': ['北京站', '前门', '磁器口', '东单'], '前门': ['崇文门', '和平门'], '和平门': ['前门', '宣武门'], '宣武门': ['和平门', '长椿街', '西单', '菜市口'], '长椿街': ['宣武门', '复兴门'], '阜成门': ['复兴门', '车公庄'], '车公庄': ['阜成门', '车公庄西', '平安里'], '安河桥北': ['北宫门'], '北宫门': ['西苑'], '西苑': ['北宫门', '圆明园', '农大南路'], '圆明园': ['西苑', '北京大学东门'], '北京大学东门': ['圆明园', '中关村'], '中关村': ['北京大学东门', '海淀黄庄'], '海淀黄庄': ['中关村', '人民大学', '苏州街', '知春里'], '人民大学': ['海淀黄庄', '魏公村'], '魏公村': ['人民大学', '国家图书馆'], '国家图书馆': ['魏公村', '动物园', '白石桥南'], '动物园': ['国家图书馆', '西直门'], '新街口': ['西直门', '平安里'], '平安里': ['新街口', '西四', '车公庄', '北海北'], '西四': ['平安里', '灵境胡同'], '灵境胡同': ['西四', '西单'], '菜市口': ['宣武门', '陶然亭', '广安门内', '虎坊桥'], '陶然亭': ['菜市口', '北京南站'], '北京南站': ['陶然亭', '马家堡', '平乐园', '蒲黄榆'], '马家堡': ['北京南站', '角门西'], '角门西': ['马家堡', '公益西桥', '角门东', '草桥'], '公益西桥': ['角门西', '新宫'], '宋家庄': ['刘家窑', '成寿寺', '石榴庄', '肖村'], '刘家窑': ['蒲黄榆'], '蒲黄榆': ['刘家窑', '天坛东门', '北京南站', '十里河'], '天坛东门': ['蒲黄榆', '磁器口'], '磁器口': ['天坛东门', '崇文门', '桥湾', '广渠门内'], '灯市口': ['东单', '东四'], '东四': ['灯市口', '张自忠路', '南锣鼓巷', '朝阳门'], '张自忠路': ['东四', '北新桥'], '北新桥': ['张自忠路', '雍和宫'], '和平里北街': ['雍和宫', '和平西桥'], '和平西桥': ['和平里北街', '惠新西街南口'], '惠新西街南口': ['和平西桥', '惠新西街北口', '安贞门', '芍药居'], '惠新西街北口': ['惠新西街南口', '大屯路东'], '大屯路东': ['惠新西街北口', '北苑路北', '关庄', '安立路'], '北苑路北': ['大屯路东', '立水桥南'], '立水桥南': ['北苑路北', '立水桥'], '立水桥': ['立水桥南', '天通苑南', '霍营', '北苑'], '天通苑南': ['立水桥', '天通苑'], '天通苑': ['天通苑南', '天通苑北'], '天通苑北': ['天通苑'], '金安桥': ['苹果园', '四道桥'], '杨庄': ['苹果园', '西黄村'], '西黄村': ['杨庄', '廖公庄'], '廖公庄': ['西黄村', '田村'], '田村': ['廖公庄', '海淀五路居'], '海淀五路居': ['田村', '慈寿寺'], '慈寿寺': ['海淀五路居', '花园桥', '西钓鱼台', '车道沟'], '花园桥': ['慈寿寺', '白石桥南'], '白石桥南': ['花园桥', '车公庄西', '白堆子', '国家图书馆'], '车公庄西': ['白石桥南', '车公庄'], '北海北': ['平安里', '南锣鼓巷'], '南锣鼓巷': ['北海北', '东四', '什刹海', '中国美术馆'], '东大桥': ['朝阳门', '呼家楼'], '呼家楼': ['东大桥', '金台路', '团结湖', '金台夕照'], '金台路': ['呼家楼', '十里堡', '望京', '将台'], '十里堡': ['金台路', '青年路'], '青年路': ['十里堡', '褡裢坡'], '褡裢坡': ['青年路', '黄渠'], '黄渠': ['褡裢坡', '常营'], '常营': ['黄渠', '草房'], '草房': ['常营', '物资学院路'], '物资学院路': ['草房', '通州北关'], '通州北关': ['物资学院路', '通运门'], '通运门': ['通州北关', '北运河西'], '北运河西': ['通运门', '北运河东'], '北运河东': ['北运河西', '郝家府'], '郝家府': ['北运河东', '东夏园'], '东夏园': ['郝家府', '潞城'], '潞城': ['东夏园'], '北京西站': ['湾子', '六里桥东', '军事博物馆'], '湾子': ['达官营'], '达官营': ['湾子', '广安门内'], '广安门内': ['达官营', '菜市口'], '虎坊桥': ['菜市口', '珠市口'], '珠市口': ['虎坊桥', '桥湾', '中国美术馆', '天桥'], '桥湾': ['珠市口', '磁器口'], '广渠门内': ['磁器口', '广渠门外'], '广渠门外': ['广渠门内', '双井'], '双井': ['广渠门外', '九龙山', '国贸', '劲松'], '九龙山': ['双井', '大郊亭', '十里河', '大望路'], '大郊亭': ['九龙山', '百子湾'], '百子湾': ['大郊亭', '化工'], '化工': ['百子湾', '南楼梓庄'], '南楼梓庄': ['化工', '欢乐谷景区'], '欢乐谷景区': ['南楼梓庄', '垡头'], '垡头': ['欢乐谷景区', '双合'], '双合': ['垡头', '焦化厂'], '焦化厂': ['双合'], '朱辛庄': ['育知路', '巩华城', '生命科学园'], '育知路': ['平西府'], '平西府': ['育知路', '回龙观东大街'], '回龙观东大街': ['平西府', '霍营'], '霍营': ['回龙观东大街', '育新', '回龙观', '立水桥'], '育新': ['霍营', '西小口'], '西小口': ['育新', '永泰庄'], '永泰庄': ['西小口', '林萃桥'], '林萃桥': ['永泰庄', '森林公园南门'], '森林公园南门': ['林萃桥', '奥林匹克公园'], '奥林匹克公园': ['森林公园南门', '奥体中心', '安立路', '北沙滩'], '奥体中心': ['奥林匹克公园', '北土城'], '北土城': ['奥体中心', '安华桥', '健德门', '安贞门'], '安华桥': ['北土城', '安德里北街'], '安德里北街': ['安华桥', '鼓楼大街'], '什刹海': ['鼓楼大街', '南锣鼓巷'], '中国美术馆': ['南锣鼓巷', '珠市口'], '天桥': ['珠市口', '永定门外'], '永定门外': ['天桥', '木樨园', '陶然桥', '景泰'], '木樨园': ['永定门外', '海户屯'], '海户屯': ['木樨园', '大红门'], '大红门': ['海户屯', '大红门南', '石榴庄', '角门东'], '大红门南': ['大红门', '和义'], '和义': ['大红门南', '东高地'], '东高地': ['和义', '火箭万源'], '火箭万源': ['东高地', '五福堂'], '五福堂': ['火箭万源', '德茂'], '德茂': ['五福堂', '瀛海'], '瀛海': ['德茂'], '郭公庄': ['丰台科技园', '大葆台'], '丰台科技园': ['科怡路'], '科怡路': ['丰台科技园', '丰台南路'], '丰台南路': ['科怡路', '丰台东大街'], '丰台东大街': ['丰台南路', '七里庄'], '七里庄': ['丰台东大街', '六里桥', '大井', '西局'], '六里桥': ['七里庄', '六里桥东', '西局', '莲花桥'], '六里桥东': ['六里桥', '北京西站'], '白堆子': ['军事博物馆', '白石桥南'], '巴沟': ['苏州街'], '苏州街': ['海淀黄庄'], '知春里': ['海淀黄庄', '知春路'], '知春路': ['知春里', '西土城', '大钟寺', '五道口'], '西土城': ['知春路', '牡丹园'], '牡丹园': ['西土城', '健德门'], '健德门': ['牡丹园', '北土城'], '安贞门': ['北土城', '惠新西街南口'], '芍药居': ['惠新西街南口', '太阳宫', '望京西', '光熙门'], '太阳宫': ['芍药居', '三元桥'], '三元桥': ['太阳宫', '亮马桥', '3号航站楼'], '亮马桥': ['三元桥', '农业展览馆'], '农业展览馆': ['亮马桥', '团结湖'], '团结湖': ['农业展览馆', '呼家楼'], '金台夕照': ['呼家楼', '国贸'], '劲松': ['双井', '潘家园'], '潘家园': ['劲松', '十里河'], '十里河': ['潘家园', '分钟寺', '蒲黄榆', '九龙山'], '分钟寺': ['十里河', '成寿寺'], '成寿寺': ['分钟寺', '宋家庄'], '石榴庄': ['宋家庄', '大红门'], '角门东': ['大红门', '角门西'], '草桥': ['角门西', '纪家庙'], '纪家庙': ['草桥', '首经贸'], '首经贸': ['纪家庙', '丰台站'], '丰台站': ['首经贸', '泥洼'], '泥洼': ['丰台站', '西局'], '西局': ['泥洼', '六里桥', '七里庄', '善各庄'], '莲花桥': ['六里桥', '公主坟'], '西钓鱼台': ['公主坟', '慈寿寺'], '车道沟': ['慈寿寺', '长春桥'], '长春桥': ['车道沟', '火器营'], '火器营': ['长春桥'], '大钟寺': ['知春路'], '五道口': ['知春路', '上地'], '上地': ['五道口', '西二旗'], '西二旗': ['上地', '龙泽', '生命科学园'], '龙泽': ['西二旗', '回龙观'], '回龙观': ['龙泽', '霍营'], '北苑': ['立水桥', '望京西'], '望京西': ['北苑', '芍药居', '望京', '关庄'], '光熙门': ['芍药居', '柳芳'], '柳芳': ['光熙门', '东直门'], '张郭庄': ['园博园'], '园博园': ['大瓦窑'], '大瓦窑': ['园博园', '郭庄子'], '郭庄子': ['大瓦窑', '大井'], '大井': ['郭庄子', '七里庄'], '善各庄': ['西局', '陶然桥'], '陶然桥': ['善各庄', '永定门外'], '景泰': ['永定门外', '方庄'], '方庄': ['景泰', '北工大西门'], '北工大西门': ['方庄', '平乐园'], '平乐园': ['北工大西门', '北京南站'], '朝阳公园': ['大望路', '枣营'], '枣营': ['朝阳公园', '东风北桥'], '东风北桥': ['枣营', '高家园'], '高家园': ['东风北桥', '阜通'], '阜通': ['高家园', '望京'], '望京': ['阜通', '金台路', '望京东', '望京西'], '将台': ['金台路', '望京南'], '望京南': ['将台', '东湖渠'], '东湖渠': ['望京南', '来广营'], '来广营': ['东湖渠'], '俸伯': ['顺义'], '顺义': ['石门'], '石门': ['顺义', '南法信'], '南法信': ['石门', '后沙峪'], '后沙峪': ['南法信', '花梨坎'], '花梨坎': ['后沙峪', '国展'], '国展': ['花梨坎', '孙河'], '孙河': ['国展', '马泉营'], '马泉营': ['孙河', '崔各庄'], '崔各庄': ['马泉营', '望京东'], '望京东': ['崔各庄', '望京'], '关庄': ['望京西', '大屯路东'], '安立路': ['大屯路东', '奥林匹克公园'], '北沙滩': ['奥林匹克公园', '六道口'], '六道口': ['北沙滩', '清华东路西口'], '清华东路西口': ['六道口'], '农大南路': ['马连洼'], '马连洼': ['农大南路', '西北旺'], '西北旺': ['马连洼', '永丰南'], '永丰南': ['西北旺', '永丰'], '永丰': ['永丰南', '屯佃'], '屯佃': ['永丰', '稻香湖路'], '稻香湖路': ['屯佃', '温阳路'], '温阳路': ['稻香湖路', '北安河'], '北安河': ['温阳路'], '高碑店': ['四惠东', '传媒大学'], '传媒大学': ['高碑店', '双桥'], '双桥': ['传媒大学', '管庄'], '管庄': ['双桥', '八里桥'], '八里桥': ['管庄', '通州北苑'], '通州北苑': ['八里桥', '果园'], '果园': ['通州北苑', '九棵树'], '九棵树': ['果园', '梨园'], '梨园': ['九棵树', '临河里'], '临河里': ['梨园', '土桥'], '土桥': ['临河里'], '昌平西山口': ['十三陵景区'], '十三陵景区': ['昌平'], '昌平': ['十三陵景区', '昌平东关'], '昌平东关': ['昌平', '北邵洼'], '北邵洼': ['昌平东关', '南邵'], '南邵': ['北邵洼', '沙河高教园'], '沙河高教园': ['南邵', '沙河'], '沙河': ['沙河高教园', '巩华城'], '巩华城': ['沙河', '朱辛庄'], '生命科学园': ['朱辛庄', '西二旗'], '肖村': ['小红门'], '小红门': ['肖村', '旧宫'], '旧宫': ['小红门', '亦庄桥'], '亦庄桥': ['旧宫', '亦庄文化园'], '亦庄文化园': ['亦庄桥', '万源街'], '万源街': ['亦庄文化园', '荣京东街'], '荣京东街': ['万源街', '荣昌东街'], '荣昌东街': ['荣京东街', '同济南路'], '同济南路': ['荣昌东街', '经海路'], '经海路': ['同济南路', '次渠南'], '次渠南': ['经海路', '次渠'], '次渠': ['次渠南', '亦庄火车站'], '亦庄火车站': ['次渠'], '大葆台': ['稻田'], '稻田': ['大葆台', '长阳'], '长阳': ['稻田', '篱笆房'], '篱笆房': ['长阳', '广阳城'], '广阳城': ['篱笆房', '良乡大学城北'], '良乡大学城北': ['广阳城', '良乡大学城'], '良乡大学城': ['良乡大学城北', '良乡大学城西'], '良乡大学城西': ['良乡大学城', '良乡南关'], '良乡南关': ['良乡大学城西', '苏庄'], '苏庄': ['良乡南关'], '3号航站楼': ['三元桥', '2号航站楼'], '2号航站楼': ['3号航站楼'], '新宫': ['西红门'], '西红门': ['新宫', '高米店北'], '高米店北': ['西红门', '高米店南'], '高米店南': ['高米店北', '枣园'], '枣园': ['高米店南', '清源路'], '清源路': ['枣园', '黄村西大街'], '黄村西大街': ['清源路', '黄村火车站'], '黄村火车站': ['黄村西大街', '义和庄'], '义和庄': ['黄村火车站', '生物医药基地'], '生物医药基地': ['义和庄', '天宫院'], '天宫院': ['生物医药基地'], '石厂': ['小园'], '小园': ['栗园庄'], '栗园庄': ['小园', '上岸'], '上岸': ['栗园庄', '桥户营'], '桥户营': ['上岸', '四道桥'], '四道桥': ['桥户营', '金安桥']}\n"
     ]
    }
   ],
   "source": [
    "connection_info_src = {}           \n",
    "\n",
    "for k,v in enumerate(stationDic):\n",
    "\n",
    "      for idx, val in enumerate(stationDic[v]):\n",
    "\n",
    "         if val not in connection_info_src.keys():\n",
    "\n",
    "              connection_info_src[val] = []\n",
    "\n",
    "         if idx >= 1:\n",
    "\n",
    "              connection_info_src[val].append(stationDic[v][idx -1]) #添加stationDic的station左侧元素\n",
    "\n",
    "         if idx + 1 < len(stationDic[v]):\n",
    "\n",
    "              connection_info_src[val].append(stationDic[v][idx+1])#添加stationDic的station右侧元素\n",
    "\n",
    "print(connection_info_src)"
   ]
  },
  {
   "cell_type": "code",
   "execution_count": null,
   "metadata": {},
   "outputs": [],
   "source": []
  },
  {
   "cell_type": "code",
   "execution_count": null,
   "metadata": {},
   "outputs": [],
   "source": []
  },
  {
   "cell_type": "code",
   "execution_count": 3,
   "metadata": {},
   "outputs": [],
   "source": [
    "coordination_source = \"\"\"\n",
    "{name:'兰州', geoCoord:[103.73, 36.03]},\n",
    "{name:'嘉峪关', geoCoord:[98.17, 39.47]},\n",
    "{name:'西宁', geoCoord:[101.74, 36.56]},\n",
    "{name:'成都', geoCoord:[104.06, 30.67]},\n",
    "{name:'石家庄', geoCoord:[114.48, 38.03]},\n",
    "{name:'拉萨', geoCoord:[102.73, 25.04]},\n",
    "{name:'贵阳', geoCoord:[106.71, 26.57]},\n",
    "{name:'武汉', geoCoord:[114.31, 30.52]},\n",
    "{name:'郑州', geoCoord:[113.65, 34.76]},\n",
    "{name:'济南', geoCoord:[117, 36.65]},\n",
    "{name:'南京', geoCoord:[118.78, 32.04]},\n",
    "{name:'合肥', geoCoord:[117.27, 31.86]},\n",
    "{name:'杭州', geoCoord:[120.19, 30.26]},\n",
    "{name:'南昌', geoCoord:[115.89, 28.68]},\n",
    "{name:'福州', geoCoord:[119.3, 26.08]},\n",
    "{name:'广州', geoCoord:[113.23, 23.16]},\n",
    "{name:'长沙', geoCoord:[113, 28.21]},\n",
    "//{name:'海口', geoCoord:[110.35, 20.02]},\n",
    "{name:'沈阳', geoCoord:[123.38, 41.8]},\n",
    "{name:'长春', geoCoord:[125.35, 43.88]},\n",
    "{name:'哈尔滨', geoCoord:[126.63, 45.75]},\n",
    "{name:'太原', geoCoord:[112.53, 37.87]},\n",
    "{name:'西安', geoCoord:[108.95, 34.27]},\n",
    "//{name:'台湾', geoCoord:[121.30, 25.03]},\n",
    "{name:'北京', geoCoord:[116.46, 39.92]},\n",
    "{name:'上海', geoCoord:[121.48, 31.22]},\n",
    "{name:'重庆', geoCoord:[106.54, 29.59]},\n",
    "{name:'天津', geoCoord:[117.2, 39.13]},\n",
    "{name:'呼和浩特', geoCoord:[111.65, 40.82]},\n",
    "{name:'南宁', geoCoord:[108.33, 22.84]},\n",
    "//{name:'西藏', geoCoord:[91.11, 29.97]},\n",
    "{name:'银川', geoCoord:[106.27, 38.47]},\n",
    "{name:'乌鲁木齐', geoCoord:[87.68, 43.77]},\n",
    "{name:'香港', geoCoord:[114.17, 22.28]},\n",
    "{name:'澳门', geoCoord:[113.54, 22.19]}\"\"\""
   ]
  },
  {
   "cell_type": "code",
   "execution_count": 4,
   "metadata": {},
   "outputs": [],
   "source": [
    "test_string = \"{name:'兰州', geoCoord:[103.73, 36.03]},\""
   ]
  },
  {
   "cell_type": "code",
   "execution_count": 31,
   "metadata": {},
   "outputs": [],
   "source": [
    "city_location = {\n",
    "    '香港': (114.17, 22.28)\n",
    "}"
   ]
  },
  {
   "cell_type": "code",
   "execution_count": 33,
   "metadata": {},
   "outputs": [],
   "source": [
    "import re        #r\"name:'(\\w+)',\\s+geoCoord:\\[(\\d+.\\d+),\\s(\\d+.\\d+)\\]\""
   ]
  },
  {
   "cell_type": "code",
   "execution_count": 34,
   "metadata": {},
   "outputs": [],
   "source": [
    "pattern = re.compile(r\"name:'(\\w+)',\\s+geoCoord:\\[(\\d+.\\d+),\\s(\\d+.\\d+)\\]\")"
   ]
  },
  {
   "cell_type": "code",
   "execution_count": 51,
   "metadata": {},
   "outputs": [],
   "source": [
    "for line in coordination_source.split('\\n'):\n",
    "    city_info = pattern.findall(line)\n",
    "    if not city_info:continue\n",
    "    city, long, lat = city_info[0]\n",
    "    long,lat = float(long),float(lat)\n",
    "    city_location[city] = long,lat"
   ]
  },
  {
   "cell_type": "code",
   "execution_count": 52,
   "metadata": {},
   "outputs": [
    {
     "data": {
      "text/plain": [
       "{'香港': (114.17, 22.28),\n",
       " '兰州': (103.73, 36.03),\n",
       " '嘉峪关': (98.17, 39.47),\n",
       " '西宁': (101.74, 36.56),\n",
       " '成都': (104.06, 30.67),\n",
       " '石家庄': (114.48, 38.03),\n",
       " '拉萨': (102.73, 25.04),\n",
       " '贵阳': (106.71, 26.57),\n",
       " '武汉': (114.31, 30.52),\n",
       " '郑州': (113.65, 34.76),\n",
       " '济南': (117.0, 36.65),\n",
       " '南京': (118.78, 32.04),\n",
       " '合肥': (117.27, 31.86),\n",
       " '杭州': (120.19, 30.26),\n",
       " '南昌': (115.89, 28.68),\n",
       " '福州': (119.3, 26.08),\n",
       " '广州': (113.23, 23.16),\n",
       " '长沙': (113.0, 28.21),\n",
       " '海口': (110.35, 20.02),\n",
       " '沈阳': (123.38, 41.8),\n",
       " '长春': (125.35, 43.88),\n",
       " '哈尔滨': (126.63, 45.75),\n",
       " '太原': (112.53, 37.87),\n",
       " '西安': (108.95, 34.27),\n",
       " '台湾': (121.3, 25.03),\n",
       " '北京': (116.46, 39.92),\n",
       " '上海': (121.48, 31.22),\n",
       " '重庆': (106.54, 29.59),\n",
       " '天津': (117.2, 39.13),\n",
       " '呼和浩特': (111.65, 40.82),\n",
       " '南宁': (108.33, 22.84),\n",
       " '西藏': (91.11, 29.97),\n",
       " '银川': (106.27, 38.47),\n",
       " '乌鲁木齐': (87.68, 43.77),\n",
       " '澳门': (113.54, 22.19)}"
      ]
     },
     "execution_count": 52,
     "metadata": {},
     "output_type": "execute_result"
    }
   ],
   "source": [
    "city_location"
   ]
  },
  {
   "cell_type": "code",
   "execution_count": 53,
   "metadata": {},
   "outputs": [],
   "source": [
    "import math"
   ]
  },
  {
   "cell_type": "code",
   "execution_count": 54,
   "metadata": {},
   "outputs": [],
   "source": [
    "def geo_distance(origin, destination):\n",
    "    \"\"\"\n",
    "    Calculate the Haversine distance.\n",
    "\n",
    "    Parameters\n",
    "    ----------\n",
    "    origin : tuple of float\n",
    "        (lat, long)\n",
    "    destination : tuple of float\n",
    "        (lat, long)\n",
    "\n",
    "    Returns\n",
    "    -------\n",
    "    distance_in_km : float\n",
    "\n",
    "    Examples\n",
    "    --------\n",
    "    >>> origin = (48.1372, 11.5756)  # Munich\n",
    "    >>> destination = (52.5186, 13.4083)  # Berlin\n",
    "    >>> round(distance(origin, destination), 1)\n",
    "    504.2\n",
    "    \"\"\"\n",
    "    lat1, lon1 = origin\n",
    "    lat2, lon2 = destination\n",
    "    radius = 6371  # km\n",
    "\n",
    "    dlat = math.radians(lat2 - lat1)\n",
    "    dlon = math.radians(lon2 - lon1)\n",
    "    a = (math.sin(dlat / 2) * math.sin(dlat / 2) +\n",
    "         math.cos(math.radians(lat1)) * math.cos(math.radians(lat2)) *\n",
    "         math.sin(dlon / 2) * math.sin(dlon / 2))\n",
    "    c = 2 * math.atan2(math.sqrt(a), math.sqrt(1 - a))\n",
    "    d = radius * c\n",
    "\n",
    "    return d"
   ]
  },
  {
   "cell_type": "code",
   "execution_count": 55,
   "metadata": {},
   "outputs": [],
   "source": [
    "def get_geo_distance(city1,city2):\n",
    "    return geo_distance(city_location[city1],city_location[city2])"
   ]
  },
  {
   "cell_type": "code",
   "execution_count": 57,
   "metadata": {},
   "outputs": [
    {
     "data": {
      "text/plain": [
       "727.52769688981"
      ]
     },
     "execution_count": 57,
     "metadata": {},
     "output_type": "execute_result"
    }
   ],
   "source": [
    "get_geo_distance(\"上海\",\"北京\")"
   ]
  },
  {
   "cell_type": "code",
   "execution_count": 58,
   "metadata": {},
   "outputs": [],
   "source": [
    "import networkx as nx"
   ]
  },
  {
   "cell_type": "code",
   "execution_count": null,
   "metadata": {},
   "outputs": [],
   "source": []
  },
  {
   "cell_type": "code",
   "execution_count": null,
   "metadata": {},
   "outputs": [],
   "source": []
  },
  {
   "cell_type": "code",
   "execution_count": null,
   "metadata": {},
   "outputs": [],
   "source": []
  },
  {
   "cell_type": "markdown",
   "metadata": {},
   "source": [
    "以下部门为可选部分，请酌情完成。 并不要求全部同学完成。"
   ]
  },
  {
   "cell_type": "markdown",
   "metadata": {},
   "source": [
    "## （Optional）Create different policies for transfer system.\n"
   ]
  },
  {
   "cell_type": "markdown",
   "metadata": {},
   "source": [
    "As much as you can to use the already implemented search agent. You just need to define the **is_goal()**, **get_successor()**, **strategy()** three functions. \n",
    "\n",
    "> a.\tDefine different policies for transfer system. \n",
    "\n",
    "> b.\tSuch as Shortest Path Priority（路程最短优先）, Minimum Transfer Priority(最少换乘优先), Comprehensive Priority(综合优先)\n",
    "\n",
    "> c.\tImplement Continuous transfer. Based on the Agent you implemented, please add this feature: Besides the @param start and @param destination two stations, add some more stations, we called @param by_way, it means, our path should from the start and end, but also include the  @param by_way stations. \n",
    "\n",
    "e.g \n",
    "```\n",
    "1. Input:  start=A,  destination=B, by_way=[C] \n",
    "    Output: [A, … .., C, …. B]\n",
    "2. Input: start=A, destination=B, by_way=[C, D, E]\n",
    "    Output: [A … C … E … D … B]  \n",
    "    # based on your policy, the E station could be reached firstly. \n",
    "![image.png](attachment:image.png)\n",
    "```"
   ]
  },
  {
   "cell_type": "markdown",
   "metadata": {},
   "source": [
    "##### 5.\tTest your result with commercial applications. \n",
    "\n",
    "将你的结果和高德地图或者百度地图进行比较，如果有不同，请分析原因\n"
   ]
  },
  {
   "cell_type": "markdown",
   "metadata": {},
   "source": [
    "恭喜，完成本次课程，你对常用的人工智能方法以及有一定的了解了。基于规则的，基于概率模型的，基于搜索的，基于机器学习的。 可以说，我们现在通常见到的方法都能够归属到这几类方法中。 这就是**人工智能**，并没有很难是吧？ 继续加油！"
   ]
  },
  {
   "cell_type": "markdown",
   "metadata": {},
   "source": [
    "![](https://timgsa.baidu.com/timg?image&quality=80&size=b9999_10000&sec=1562415163815&di=4b29a2a863a8285212033760f288ed7a&imgtype=0&src=http%3A%2F%2F5b0988e595225.cdn.sohucs.com%2Fimages%2F20180710%2F8704194a1d7f46a383ddc29d40c9bca5.jpeg)"
   ]
  }
 ],
 "metadata": {
  "kernelspec": {
   "display_name": "Python 3",
   "language": "python",
   "name": "python3"
  },
  "language_info": {
   "codemirror_mode": {
    "name": "ipython",
    "version": 3
   },
   "file_extension": ".py",
   "mimetype": "text/x-python",
   "name": "python",
   "nbconvert_exporter": "python",
   "pygments_lexer": "ipython3",
   "version": "3.7.1"
  }
 },
 "nbformat": 4,
 "nbformat_minor": 2
}
